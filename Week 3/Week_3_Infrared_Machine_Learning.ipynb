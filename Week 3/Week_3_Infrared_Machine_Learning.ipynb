{
  "nbformat": 4,
  "nbformat_minor": 0,
  "metadata": {
    "colab": {
      "provenance": [],
      "authorship_tag": "ABX9TyMTmTLRqtCgRBnJxc+iavZQ",
      "include_colab_link": true
    },
    "kernelspec": {
      "name": "python3",
      "display_name": "Python 3"
    },
    "language_info": {
      "name": "python"
    }
  },
  "cells": [
    {
      "cell_type": "markdown",
      "metadata": {
        "id": "view-in-github",
        "colab_type": "text"
      },
      "source": [
        "<a href=\"https://colab.research.google.com/github/Daps2831/Machine-Learning/blob/main/Week%203/Week_3_Infrared_Machine_Learning.ipynb\" target=\"_parent\"><img src=\"https://colab.research.google.com/assets/colab-badge.svg\" alt=\"Open In Colab\"/></a>"
      ]
    },
    {
      "cell_type": "markdown",
      "source": [
        "# Mount File"
      ],
      "metadata": {
        "id": "4vbvli1BpDfa"
      }
    },
    {
      "cell_type": "code",
      "execution_count": null,
      "metadata": {
        "colab": {
          "base_uri": "https://localhost:8080/"
        },
        "id": "jcXpo9YNofB9",
        "outputId": "c7a9ebb1-7618-4a06-d21b-769ea83d7db2"
      },
      "outputs": [
        {
          "output_type": "stream",
          "name": "stdout",
          "text": [
            "Mounted at /content/drive\n"
          ]
        }
      ],
      "source": [
        "from google.colab import drive\n",
        "drive.mount('/content/drive')"
      ]
    },
    {
      "cell_type": "code",
      "source": [
        "import pandas as pd\n",
        "\n",
        "# Ganti path sesuai lokasi file di Google Drive\n",
        "# note: dataset obesity_level diambil dari kaggle\n",
        "file_path = \"/content/drive/MyDrive/Dataset/Infrared.csv\"\n",
        "# Membaca file Excel\n",
        "df = pd.read_csv(file_path)\n"
      ],
      "metadata": {
        "id": "VgxUhtVXpRmS"
      },
      "execution_count": null,
      "outputs": []
    },
    {
      "cell_type": "markdown",
      "source": [
        "# Data describing and preprocessing"
      ],
      "metadata": {
        "id": "ypXNCffBpcei"
      }
    },
    {
      "cell_type": "code",
      "source": [
        "# Tampilkan kolom kategorikal dan numerikal\n",
        "print(\"\\n--- Semua Kolom ---\")\n",
        "print(df.columns.tolist())\n",
        "\n",
        "# Pisahkan kolom numerikal dan kategorikal\n",
        "numerical_cols = df.select_dtypes(include=['int64', 'float64']).columns\n",
        "categorical_cols = df.select_dtypes(include=['object']).columns\n",
        "\n",
        "print(\"\\n--- Kolom Categorikal ---\")\n",
        "print(list(categorical_cols))\n",
        "print(\"\\n--- Kolom Numerikal ---\")\n",
        "print(list(numerical_cols))"
      ],
      "metadata": {
        "colab": {
          "base_uri": "https://localhost:8080/"
        },
        "id": "RIVhCt4iphAi",
        "outputId": "e1242e6f-be1d-48bd-b6c3-567a66430e16"
      },
      "execution_count": null,
      "outputs": [
        {
          "output_type": "stream",
          "name": "stdout",
          "text": [
            "\n",
            "--- Semua Kolom ---\n",
            "['Gender', 'Age', 'Ethnicity', 'T_atm', 'Humidity', 'Distance', 'T_offset1', 'Max1R13_1', 'Max1L13_1', 'aveAllR13_1', 'aveAllL13_1', 'T_RC1', 'T_RC_Dry1', 'T_RC_Wet1', 'T_RC_Max1', 'T_LC1', 'T_LC_Dry1', 'T_LC_Wet1', 'T_LC_Max1', 'RCC1', 'LCC1', 'canthiMax1', 'canthi4Max1', 'T_FHCC1', 'T_FHRC1', 'T_FHLC1', 'T_FHBC1', 'T_FHTC1', 'T_FH_Max1', 'T_FHC_Max1', 'T_Max1', 'T_OR1', 'T_OR_Max1', 'aveOralM']\n",
            "\n",
            "--- Kolom Categorikal ---\n",
            "['Gender', 'Age', 'Ethnicity']\n",
            "\n",
            "--- Kolom Numerikal ---\n",
            "['T_atm', 'Humidity', 'Distance', 'T_offset1', 'Max1R13_1', 'Max1L13_1', 'aveAllR13_1', 'aveAllL13_1', 'T_RC1', 'T_RC_Dry1', 'T_RC_Wet1', 'T_RC_Max1', 'T_LC1', 'T_LC_Dry1', 'T_LC_Wet1', 'T_LC_Max1', 'RCC1', 'LCC1', 'canthiMax1', 'canthi4Max1', 'T_FHCC1', 'T_FHRC1', 'T_FHLC1', 'T_FHBC1', 'T_FHTC1', 'T_FH_Max1', 'T_FHC_Max1', 'T_Max1', 'T_OR1', 'T_OR_Max1', 'aveOralM']\n"
          ]
        }
      ]
    },
    {
      "cell_type": "code",
      "source": [
        "# 2. Lihat 5 baris pertama untuk memahami isinya\n",
        "print(\"Lima baris pertama dari data:\")\n",
        "print(df.head())\n",
        "\n",
        "print(\"\\n\" + \"=\"*40 + \"\\n\")\n",
        "\n",
        "# 3. Lihat informasi dasar (tipe data, jumlah data non-null)\n",
        "print(\"Informasi dasar dan tipe data:\")\n",
        "df.info()\n",
        "\n",
        "print(\"\\n\" + \"=\"*40 + \"\\n\")\n",
        "\n",
        "# 4. Lihat ringkasan statistik untuk kolom numerik\n",
        "print(\"Ringkasan statistik data:\")\n",
        "print(df.describe())"
      ],
      "metadata": {
        "colab": {
          "base_uri": "https://localhost:8080/"
        },
        "id": "XDKt1WKnpjfa",
        "outputId": "43053fb4-d084-498b-ac81-efca6adf7e9b"
      },
      "execution_count": null,
      "outputs": [
        {
          "output_type": "stream",
          "name": "stdout",
          "text": [
            "Lima baris pertama dari data:\n",
            "   Gender    Age                  Ethnicity  T_atm  Humidity  Distance  \\\n",
            "0    Male  41-50                      White   24.0      28.0       0.8   \n",
            "1  Female  31-40  Black or African-American   24.0      26.0       0.8   \n",
            "2  Female  21-30                      White   24.0      26.0       0.8   \n",
            "3  Female  21-30  Black or African-American   24.0      27.0       0.8   \n",
            "4    Male  18-20                      White   24.0      27.0       0.8   \n",
            "\n",
            "   T_offset1  Max1R13_1  Max1L13_1  aveAllR13_1  ...  T_FHRC1  T_FHLC1  \\\n",
            "0     0.7025    35.0300    35.3775      34.4000  ...  33.4775  33.3725   \n",
            "1     0.7800    34.5500    34.5200      33.9300  ...  34.0550  33.6775   \n",
            "2     0.8625    35.6525    35.5175      34.2775  ...  34.8275  34.6475   \n",
            "3     0.9300    35.2225    35.6125      34.3850  ...  34.4225  34.6550   \n",
            "4     0.8950    35.5450    35.6650      34.9100  ...  35.1600  34.3975   \n",
            "\n",
            "   T_FHBC1  T_FHTC1  T_FH_Max1  T_FHC_Max1   T_Max1    T_OR1  T_OR_Max1  \\\n",
            "0  33.4925  33.0025    34.5300     34.0075  35.6925  35.6350    35.6525   \n",
            "1  33.9700  34.0025    34.6825     34.6600  35.1750  35.0925    35.1075   \n",
            "2  34.8200  34.6700    35.3450     35.2225  35.9125  35.8600    35.8850   \n",
            "3  34.3025  34.9175    35.6025     35.3150  35.7200  34.9650    34.9825   \n",
            "4  34.6700  33.8275    35.4175     35.3725  35.8950  35.5875    35.6175   \n",
            "\n",
            "   aveOralM  \n",
            "0     36.59  \n",
            "1     37.19  \n",
            "2     37.34  \n",
            "3     37.09  \n",
            "4     37.04  \n",
            "\n",
            "[5 rows x 34 columns]\n",
            "\n",
            "========================================\n",
            "\n",
            "Informasi dasar dan tipe data:\n",
            "<class 'pandas.core.frame.DataFrame'>\n",
            "RangeIndex: 1020 entries, 0 to 1019\n",
            "Data columns (total 34 columns):\n",
            " #   Column       Non-Null Count  Dtype  \n",
            "---  ------       --------------  -----  \n",
            " 0   Gender       1020 non-null   object \n",
            " 1   Age          1020 non-null   object \n",
            " 2   Ethnicity    1020 non-null   object \n",
            " 3   T_atm        1020 non-null   float64\n",
            " 4   Humidity     1020 non-null   float64\n",
            " 5   Distance     1018 non-null   float64\n",
            " 6   T_offset1    1020 non-null   float64\n",
            " 7   Max1R13_1    1020 non-null   float64\n",
            " 8   Max1L13_1    1020 non-null   float64\n",
            " 9   aveAllR13_1  1020 non-null   float64\n",
            " 10  aveAllL13_1  1020 non-null   float64\n",
            " 11  T_RC1        1020 non-null   float64\n",
            " 12  T_RC_Dry1    1020 non-null   float64\n",
            " 13  T_RC_Wet1    1020 non-null   float64\n",
            " 14  T_RC_Max1    1020 non-null   float64\n",
            " 15  T_LC1        1020 non-null   float64\n",
            " 16  T_LC_Dry1    1020 non-null   float64\n",
            " 17  T_LC_Wet1    1020 non-null   float64\n",
            " 18  T_LC_Max1    1020 non-null   float64\n",
            " 19  RCC1         1020 non-null   float64\n",
            " 20  LCC1         1020 non-null   float64\n",
            " 21  canthiMax1   1020 non-null   float64\n",
            " 22  canthi4Max1  1020 non-null   float64\n",
            " 23  T_FHCC1      1020 non-null   float64\n",
            " 24  T_FHRC1      1020 non-null   float64\n",
            " 25  T_FHLC1      1020 non-null   float64\n",
            " 26  T_FHBC1      1020 non-null   float64\n",
            " 27  T_FHTC1      1020 non-null   float64\n",
            " 28  T_FH_Max1    1020 non-null   float64\n",
            " 29  T_FHC_Max1   1020 non-null   float64\n",
            " 30  T_Max1       1020 non-null   float64\n",
            " 31  T_OR1        1020 non-null   float64\n",
            " 32  T_OR_Max1    1020 non-null   float64\n",
            " 33  aveOralM     1020 non-null   float64\n",
            "dtypes: float64(31), object(3)\n",
            "memory usage: 271.1+ KB\n",
            "\n",
            "========================================\n",
            "\n",
            "Ringkasan statistik data:\n",
            "             T_atm     Humidity     Distance    T_offset1    Max1R13_1  \\\n",
            "count  1020.000000  1020.000000  1018.000000  1020.000000  1020.000000   \n",
            "mean     24.115392    28.723039     0.729784     0.968648    35.596533   \n",
            "std       1.336338    13.071627     2.456486     0.362587     0.574888   \n",
            "min      20.200000     9.900000     0.540000    -0.590000    33.897500   \n",
            "25%      23.400000    17.600000     0.600000     0.772500    35.247500   \n",
            "50%      24.000000    26.300000     0.620000     0.940000    35.548750   \n",
            "75%      24.700000    36.200000     0.700000     1.140000    35.872500   \n",
            "max      29.100000    61.200000    79.000000     2.875000    38.405000   \n",
            "\n",
            "         Max1L13_1  aveAllR13_1  aveAllL13_1        T_RC1    T_RC_Dry1  ...  \\\n",
            "count  1020.000000  1020.000000  1020.000000  1020.000000  1020.000000  ...   \n",
            "mean     35.611474    34.888475    35.011345    35.659921    35.587143  ...   \n",
            "std       0.549760     0.718613     0.633836     0.553897     0.569278  ...   \n",
            "min      34.122500    31.770000    32.902500    33.985000    33.825000  ...   \n",
            "25%      35.271875    34.456250    34.651250    35.332500    35.249375  ...   \n",
            "50%      35.575000    34.915000    34.997500    35.602500    35.533750  ...   \n",
            "75%      35.883125    35.300000    35.363125    35.910625    35.855625  ...   \n",
            "max      38.042500    37.575000    37.680000    38.385000    38.380000  ...   \n",
            "\n",
            "           T_FHRC1      T_FHLC1      T_FHBC1      T_FHTC1    T_FH_Max1  \\\n",
            "count  1020.000000  1020.000000  1020.000000  1020.000000  1020.000000   \n",
            "mean     34.567782    34.565340    34.487701    34.577293    35.421555   \n",
            "std       0.669410     0.678663     0.668065     0.728678     0.523477   \n",
            "min      31.452500    31.657500    31.280000    31.150000    33.407500   \n",
            "25%      34.180000    34.177500    34.096875    34.225000    35.116875   \n",
            "50%      34.597500    34.602500    34.512917    34.622500    35.391250   \n",
            "75%      34.968125    34.965000    34.878125    35.012500    35.675000   \n",
            "max      37.075000    37.165000    37.212500    37.367500    38.002500   \n",
            "\n",
            "        T_FHC_Max1       T_Max1        T_OR1    T_OR_Max1     aveOralM  \n",
            "count  1020.000000  1020.000000  1020.000000  1020.000000  1020.000000  \n",
            "mean     35.094144    36.084785    35.805519    35.838277    37.028382  \n",
            "std       0.576045     0.491821     0.559258     0.559316     0.509502  \n",
            "min      32.440000    34.892500    33.802500    33.835000    35.540000  \n",
            "25%      34.756458    35.775000    35.474375    35.500000    36.777500  \n",
            "50%      35.100000    36.027500    35.790000    35.825000    36.940000  \n",
            "75%      35.415000    36.280000    36.087500    36.120625    37.140000  \n",
            "max      37.632500    38.807500    38.417500    38.455000    40.340000  \n",
            "\n",
            "[8 rows x 31 columns]\n"
          ]
        }
      ]
    },
    {
      "cell_type": "code",
      "source": [
        "# Cek nilai yang hilang\n",
        "print(\"\\n--- Nilai Hilang ---\")\n",
        "print(df.isnull().sum())\n",
        "print(f\"Jumlah baris sebelum menangani missing values: {len(df)}\")"
      ],
      "metadata": {
        "colab": {
          "base_uri": "https://localhost:8080/"
        },
        "id": "gxq1ICoNrpZJ",
        "outputId": "b3124aef-50c0-4195-ffd2-7b40bb0da755"
      },
      "execution_count": null,
      "outputs": [
        {
          "output_type": "stream",
          "name": "stdout",
          "text": [
            "\n",
            "--- Nilai Hilang ---\n",
            "Gender         0\n",
            "Age            0\n",
            "Ethnicity      0\n",
            "T_atm          0\n",
            "Humidity       0\n",
            "Distance       2\n",
            "T_offset1      0\n",
            "Max1R13_1      0\n",
            "Max1L13_1      0\n",
            "aveAllR13_1    0\n",
            "aveAllL13_1    0\n",
            "T_RC1          0\n",
            "T_RC_Dry1      0\n",
            "T_RC_Wet1      0\n",
            "T_RC_Max1      0\n",
            "T_LC1          0\n",
            "T_LC_Dry1      0\n",
            "T_LC_Wet1      0\n",
            "T_LC_Max1      0\n",
            "RCC1           0\n",
            "LCC1           0\n",
            "canthiMax1     0\n",
            "canthi4Max1    0\n",
            "T_FHCC1        0\n",
            "T_FHRC1        0\n",
            "T_FHLC1        0\n",
            "T_FHBC1        0\n",
            "T_FHTC1        0\n",
            "T_FH_Max1      0\n",
            "T_FHC_Max1     0\n",
            "T_Max1         0\n",
            "T_OR1          0\n",
            "T_OR_Max1      0\n",
            "aveOralM       0\n",
            "dtype: int64\n",
            "Jumlah baris sebelum menangani missing values: 1020\n"
          ]
        }
      ]
    },
    {
      "cell_type": "code",
      "source": [
        "# Pisahkan kolom numerik dan kategorikal\n",
        "numerical_cols = df.select_dtypes(include=['number']).columns\n",
        "categorical_cols = df.select_dtypes(include=['object', 'category']).columns\n",
        "\n",
        "# Penanganan nilai hilang pada kolom numerik dengan mean\n",
        "for col in numerical_cols:\n",
        "    if df[col].isnull().any():\n",
        "        mean_value = df[col].mean()\n",
        "        df[col] = df[col].fillna(mean_value)\n",
        "\n",
        "# Penanganan nilai hilang pada kolom kategorikal dengan 'unknown'\n",
        "for col in categorical_cols:\n",
        "    if df[col].isnull().any():\n",
        "        df[col] = df[col].fillna('unknown')\n",
        "\n",
        "# Cek kembali nilai yang hilang setelah penanganan\n",
        "print(\"\\n--- Nilai Hilang Setelah Penanganan ---\")\n",
        "print(df.isnull().sum())\n",
        "print(f\"Jumlah baris setelah menangani missing values: {len(df)}\")"
      ],
      "metadata": {
        "colab": {
          "base_uri": "https://localhost:8080/"
        },
        "id": "OnKk0TNKr9Dw",
        "outputId": "ffeeed38-72cf-41bb-dee0-0568ebfea07c"
      },
      "execution_count": null,
      "outputs": [
        {
          "output_type": "stream",
          "name": "stdout",
          "text": [
            "\n",
            "--- Nilai Hilang Setelah Penanganan ---\n",
            "Gender         0\n",
            "Age            0\n",
            "Ethnicity      0\n",
            "T_atm          0\n",
            "Humidity       0\n",
            "Distance       0\n",
            "T_offset1      0\n",
            "Max1R13_1      0\n",
            "Max1L13_1      0\n",
            "aveAllR13_1    0\n",
            "aveAllL13_1    0\n",
            "T_RC1          0\n",
            "T_RC_Dry1      0\n",
            "T_RC_Wet1      0\n",
            "T_RC_Max1      0\n",
            "T_LC1          0\n",
            "T_LC_Dry1      0\n",
            "T_LC_Wet1      0\n",
            "T_LC_Max1      0\n",
            "RCC1           0\n",
            "LCC1           0\n",
            "canthiMax1     0\n",
            "canthi4Max1    0\n",
            "T_FHCC1        0\n",
            "T_FHRC1        0\n",
            "T_FHLC1        0\n",
            "T_FHBC1        0\n",
            "T_FHTC1        0\n",
            "T_FH_Max1      0\n",
            "T_FHC_Max1     0\n",
            "T_Max1         0\n",
            "T_OR1          0\n",
            "T_OR_Max1      0\n",
            "aveOralM       0\n",
            "dtype: int64\n",
            "Jumlah baris setelah menangani missing values: 1020\n"
          ]
        }
      ]
    },
    {
      "cell_type": "code",
      "source": [
        "# Cek data duplikat\n",
        "print(\"\\n--- Data Duplikat ---\")\n",
        "duplicate_rows = df[df.duplicated()]\n",
        "print(f\"Jumlah baris duplikat: {len(duplicate_rows)}\")\n",
        "\n",
        "# Jika ada data duplikat, Anda bisa menampilkan beberapa contoh\n",
        "if not duplicate_rows.empty:\n",
        "    print(\"\\nContoh data duplikat:\")\n",
        "    print(duplicate_rows.head().to_markdown(index=False))\n",
        "\n",
        "print(f\"Jumlah baris sebelum menghapus duplikat: {len(df)}\")"
      ],
      "metadata": {
        "colab": {
          "base_uri": "https://localhost:8080/"
        },
        "id": "QXd7lsHpsEgA",
        "outputId": "1775e3b5-6cc5-4aaf-9359-b1dff7b62ae9"
      },
      "execution_count": null,
      "outputs": [
        {
          "output_type": "stream",
          "name": "stdout",
          "text": [
            "\n",
            "--- Data Duplikat ---\n",
            "Jumlah baris duplikat: 0\n",
            "Jumlah baris sebelum menghapus duplikat: 1020\n"
          ]
        }
      ]
    },
    {
      "cell_type": "code",
      "source": [
        "# Mengecek apakah ada nilai numerik di kolom kategorikal yang spesifik\n",
        "print(\"\\n--- Mengecek nilai numerik di kolom kategorikal spesifik ---\")\n",
        "\n",
        "# Daftar kolom kategorikal yang ingin diperiksa\n",
        "specified_categorical_cols = categorical_cols\n",
        "\n",
        "for col in specified_categorical_cols:\n",
        "    if col in df.columns:\n",
        "        # Mengecek apakah tipe data kolom adalah object atau category\n",
        "        if df[col].dtype == 'object' or df[col].dtype == 'category':\n",
        "            # Mengecek apakah ada nilai yang bisa dikonversi menjadi numerik\n",
        "            # Menggunakan pd.to_numeric dengan errors='coerce' akan mengganti nilai non-numerik menjadi NaN\n",
        "            numeric_check = pd.to_numeric(df[col], errors='coerce')\n",
        "            # Jika ada nilai yang *tidak* menjadi NaN setelah konversi, berarti ada nilai numerik\n",
        "            if numeric_check.notna().any():\n",
        "                print(f\"Kolom '{col}': Ditemukan nilai yang bisa dikonversi menjadi numerik.\")\n",
        "                # Anda bisa menampilkan contoh nilai yang terpengaruh jika diinginkan\n",
        "                print(df[col][numeric_check.notna()].unique())\n",
        "            else:\n",
        "                print(f\"Kolom '{col}': Tidak ditemukan nilai yang bisa dikonversi menjadi numerik.\")\n",
        "        else:\n",
        "            print(f\"Kolom '{col}': Bukan merupakan tipe data kategorikal (object atau category).\")\n",
        "    else:\n",
        "        print(f\"Kolom '{col}': Tidak ditemukan dalam DataFrame.\")"
      ],
      "metadata": {
        "colab": {
          "base_uri": "https://localhost:8080/"
        },
        "id": "OC_W9C64sNCw",
        "outputId": "15fde66f-9a34-4c6d-9a3f-ea7c746c5cc8"
      },
      "execution_count": null,
      "outputs": [
        {
          "output_type": "stream",
          "name": "stdout",
          "text": [
            "\n",
            "--- Mengecek nilai numerik di kolom kategorikal spesifik ---\n",
            "Kolom 'Gender': Tidak ditemukan nilai yang bisa dikonversi menjadi numerik.\n",
            "Kolom 'Age': Tidak ditemukan nilai yang bisa dikonversi menjadi numerik.\n",
            "Kolom 'Ethnicity': Tidak ditemukan nilai yang bisa dikonversi menjadi numerik.\n"
          ]
        }
      ]
    },
    {
      "cell_type": "code",
      "source": [
        "# prompt: buatkan kode apabila ada nilai pada kolom kategorikal yang aneh atau tidak pada umumnya\n",
        "\n",
        "# Fungsi untuk mengecek nilai aneh/tidak umum pada kolom kategorikal\n",
        "def check_uncommon_categorical_values(df, categorical_cols):\n",
        "    print(\"\\n--- Mengecek nilai aneh/tidak umum pada kolom kategorikal ---\")\n",
        "    for col in categorical_cols:\n",
        "        print(f\"\\nKolom: {col}\")\n",
        "        # Mendapatkan nilai unik dan hitungannya\n",
        "        value_counts = df[col].value_counts()\n",
        "        print(f\"Jumlah nilai unik: {len(value_counts)}\")\n",
        "        print(\"Top 10 nilai unik dan hitungannya:\")\n",
        "        print(value_counts.head(10).to_markdown(numalign=\"left\", stralign=\"left\"))\n",
        "\n",
        "        # Anda bisa menambahkan logika tambahan di sini untuk mengidentifikasi \"nilai aneh\"\n",
        "        # Contoh: nilai yang muncul sangat jarang (frekuensi rendah)\n",
        "        # Tentukan threshold frekuensi rendah, misal kurang dari 0.1% dari total data\n",
        "        threshold = 0.001 * len(df)\n",
        "        uncommon_values = value_counts[value_counts < threshold]\n",
        "\n",
        "        if not uncommon_values.empty:\n",
        "            print(f\"\\nDitemukan nilai dengan frekuensi rendah (kurang dari {threshold:.0f} baris):\")\n",
        "            print(uncommon_values.to_markdown(numalign=\"left\", stralign=\"left\"))\n",
        "        else:\n",
        "            print(\"\\nTidak ditemukan nilai dengan frekuensi rendah.\")\n",
        "\n",
        "# Panggil fungsi untuk mengecek kolom kategorikal\n",
        "check_uncommon_categorical_values(df, categorical_cols)\n",
        "\n",
        "# Jika Anda ingin menangani nilai aneh ini, Anda bisa mempertimbangkan beberapa pendekatan:\n",
        "# 1. Mengganti nilai aneh dengan nilai yang paling sering muncul (mode)\n",
        "# 2. Mengganti nilai aneh dengan 'Other' atau 'Unknown'\n",
        "# 3. Menghapus baris yang mengandung nilai aneh (hati-hati, bisa mengurangi jumlah data signifikan)\n",
        "# 4. Mengelompokkan nilai aneh ke dalam kategori yang lebih besar\n",
        "\n",
        "# Contoh penanganan: Mengganti nilai aneh dengan 'Other' jika frekuensinya di bawah threshold\n",
        "def handle_uncommon_categorical_values(df, col, threshold_ratio=0.01):\n",
        "    value_counts = df[col].value_counts()\n",
        "    threshold = threshold_ratio * len(df)\n",
        "    uncommon_values = value_counts[value_counts < threshold].index.tolist()\n",
        "\n",
        "    if uncommon_values:\n",
        "        print(f\"\\nMenangani nilai aneh di kolom '{col}': Mengganti {len(uncommon_values)} nilai dengan 'Other'.\")\n",
        "        df[col] = df[col].replace(uncommon_values, 'Other')\n",
        "        print(f\"Nilai unik di kolom '{col}' setelah penanganan:\")\n",
        "        print(df[col].value_counts().to_markdown(numalign=\"left\", stralign=\"left\"))\n",
        "    else:\n",
        "        print(f\"\\nKolom '{col}': Tidak ada nilai aneh untuk ditangani dengan threshold {threshold_ratio}.\")\n",
        "    return df\n",
        "\n",
        "# # Contoh penerapan penanganan (opsional, jalankan jika Anda ingin menangani nilai aneh)\n",
        "# # Tentukan threshold_ratio yang sesuai\n",
        "# threshold_ratio_for_handling = 0.01\n",
        "# for col in categorical_cols:\n",
        "#      df = handle_uncommon_categorical_values(df, col, threshold_ratio=threshold_ratio_for_handling)\n",
        "\n"
      ],
      "metadata": {
        "colab": {
          "base_uri": "https://localhost:8080/"
        },
        "id": "w1rokcjlsXHY",
        "outputId": "d6ad28cd-a3ba-42e9-c845-61fc06ec9461"
      },
      "execution_count": null,
      "outputs": [
        {
          "output_type": "stream",
          "name": "stdout",
          "text": [
            "\n",
            "--- Mengecek nilai aneh/tidak umum pada kolom kategorikal ---\n",
            "\n",
            "Kolom: Gender\n",
            "Jumlah nilai unik: 2\n",
            "Top 10 nilai unik dan hitungannya:\n",
            "| Gender   | count   |\n",
            "|:---------|:--------|\n",
            "| Female   | 606     |\n",
            "| Male     | 414     |\n",
            "\n",
            "Tidak ditemukan nilai dengan frekuensi rendah.\n",
            "\n",
            "Kolom: Age\n",
            "Jumlah nilai unik: 8\n",
            "Top 10 nilai unik dan hitungannya:\n",
            "| Age   | count   |\n",
            "|:------|:--------|\n",
            "| 18-20 | 534     |\n",
            "| 21-25 | 355     |\n",
            "| 26-30 | 67      |\n",
            "| 31-40 | 31      |\n",
            "| 51-60 | 11      |\n",
            "| 21-30 | 10      |\n",
            "| 41-50 | 9       |\n",
            "| >60   | 3       |\n",
            "\n",
            "Tidak ditemukan nilai dengan frekuensi rendah.\n",
            "\n",
            "Kolom: Ethnicity\n",
            "Jumlah nilai unik: 6\n",
            "Top 10 nilai unik dan hitungannya:\n",
            "| Ethnicity                         | count   |\n",
            "|:----------------------------------|:--------|\n",
            "| White                             | 506     |\n",
            "| Asian                             | 260     |\n",
            "| Black or African-American         | 143     |\n",
            "| Hispanic/Latino                   | 57      |\n",
            "| Multiracial                       | 50      |\n",
            "| American Indian or Alaskan Native | 4       |\n",
            "\n",
            "Tidak ditemukan nilai dengan frekuensi rendah.\n"
          ]
        }
      ]
    },
    {
      "cell_type": "code",
      "source": [
        "print(\"\\n--- Mengecek nilai kategorikal pada kolom numerik ---\")\n",
        "\n",
        "# Daftar kolom numerik yang ingin diperiksa\n",
        "specified_numerical_cols = numerical_cols\n",
        "\n",
        "for col in specified_numerical_cols:\n",
        "    if col in df.columns:\n",
        "        # Mengecek apakah tipe data kolom adalah numerik (int, float)\n",
        "        if pd.api.types.is_numeric_dtype(df[col]):\n",
        "            # Menggunakan pd.to_numeric dengan errors='coerce' untuk mengidentifikasi nilai non-numerik\n",
        "            # Nilai yang tidak bisa dikonversi menjadi numerik akan menjadi NaN\n",
        "            numeric_check = pd.to_numeric(df[col], errors='coerce')\n",
        "\n",
        "            # Menemukan nilai-nilai asli di kolom df[col] di mana numeric_check adalah NaN\n",
        "            non_numeric_values = df[col][numeric_check.isna()].unique()\n",
        "\n",
        "            if len(non_numeric_values) > 0:\n",
        "                print(f\"Kolom '{col}': Ditemukan nilai non-numerik (kategorikal/string):\")\n",
        "                print(non_numeric_values)\n",
        "            else:\n",
        "                print(f\"Kolom '{col}': Tidak ditemukan nilai non-numerik.\")\n",
        "        else:\n",
        "            print(f\"Kolom '{col}': Bukan merupakan tipe data numerik.\")\n",
        "    else:\n",
        "        print(f\"Kolom '{col}': Tidak ditemukan dalam DataFrame.\")\n"
      ],
      "metadata": {
        "colab": {
          "base_uri": "https://localhost:8080/"
        },
        "id": "cwg4F9Pyso8Q",
        "outputId": "c87ef097-977d-4332-9305-96e5a74e5597"
      },
      "execution_count": null,
      "outputs": [
        {
          "output_type": "stream",
          "name": "stdout",
          "text": [
            "\n",
            "--- Mengecek nilai kategorikal pada kolom numerik ---\n",
            "Kolom 'T_atm': Tidak ditemukan nilai non-numerik.\n",
            "Kolom 'Humidity': Tidak ditemukan nilai non-numerik.\n",
            "Kolom 'Distance': Tidak ditemukan nilai non-numerik.\n",
            "Kolom 'T_offset1': Tidak ditemukan nilai non-numerik.\n",
            "Kolom 'Max1R13_1': Tidak ditemukan nilai non-numerik.\n",
            "Kolom 'Max1L13_1': Tidak ditemukan nilai non-numerik.\n",
            "Kolom 'aveAllR13_1': Tidak ditemukan nilai non-numerik.\n",
            "Kolom 'aveAllL13_1': Tidak ditemukan nilai non-numerik.\n",
            "Kolom 'T_RC1': Tidak ditemukan nilai non-numerik.\n",
            "Kolom 'T_RC_Dry1': Tidak ditemukan nilai non-numerik.\n",
            "Kolom 'T_RC_Wet1': Tidak ditemukan nilai non-numerik.\n",
            "Kolom 'T_RC_Max1': Tidak ditemukan nilai non-numerik.\n",
            "Kolom 'T_LC1': Tidak ditemukan nilai non-numerik.\n",
            "Kolom 'T_LC_Dry1': Tidak ditemukan nilai non-numerik.\n",
            "Kolom 'T_LC_Wet1': Tidak ditemukan nilai non-numerik.\n",
            "Kolom 'T_LC_Max1': Tidak ditemukan nilai non-numerik.\n",
            "Kolom 'RCC1': Tidak ditemukan nilai non-numerik.\n",
            "Kolom 'LCC1': Tidak ditemukan nilai non-numerik.\n",
            "Kolom 'canthiMax1': Tidak ditemukan nilai non-numerik.\n",
            "Kolom 'canthi4Max1': Tidak ditemukan nilai non-numerik.\n",
            "Kolom 'T_FHCC1': Tidak ditemukan nilai non-numerik.\n",
            "Kolom 'T_FHRC1': Tidak ditemukan nilai non-numerik.\n",
            "Kolom 'T_FHLC1': Tidak ditemukan nilai non-numerik.\n",
            "Kolom 'T_FHBC1': Tidak ditemukan nilai non-numerik.\n",
            "Kolom 'T_FHTC1': Tidak ditemukan nilai non-numerik.\n",
            "Kolom 'T_FH_Max1': Tidak ditemukan nilai non-numerik.\n",
            "Kolom 'T_FHC_Max1': Tidak ditemukan nilai non-numerik.\n",
            "Kolom 'T_Max1': Tidak ditemukan nilai non-numerik.\n",
            "Kolom 'T_OR1': Tidak ditemukan nilai non-numerik.\n",
            "Kolom 'T_OR_Max1': Tidak ditemukan nilai non-numerik.\n",
            "Kolom 'aveOralM': Tidak ditemukan nilai non-numerik.\n"
          ]
        }
      ]
    },
    {
      "cell_type": "code",
      "source": [
        "# prompt: buatkan Encoding Variabel Kategorikal\n",
        "\n",
        "from sklearn.preprocessing import LabelEncoder\n",
        "\n",
        "# Pilih kolom kategorikal yang ingin di-encode\n",
        "specified_categorical_cols = categorical_cols # Ganti dengan nama kolom kategorikal Anda\n",
        "\n",
        "# Buat salinan dataframe agar tidak mengubah dataframe asli\n",
        "df_encoded_only = df.copy()\n",
        "\n",
        "# Lakukan encoding menggunakan LabelEncoder\n",
        "for col in specified_categorical_cols:\n",
        "    le = LabelEncoder()\n",
        "    df_encoded_only[col] = le.fit_transform(df_encoded_only[col])\n",
        "\n",
        "# Tampilkan beberapa baris pertama setelah encoding\n",
        "print(\"\\n--- Dataframe Setelah Encoding Variabel Kategorikal ---\")\n",
        "print(df_encoded_only.head())"
      ],
      "metadata": {
        "colab": {
          "base_uri": "https://localhost:8080/"
        },
        "id": "ZCctpAbZtBip",
        "outputId": "8ebecdfa-72fb-4cba-e719-33a4cc784c67"
      },
      "execution_count": null,
      "outputs": [
        {
          "output_type": "stream",
          "name": "stdout",
          "text": [
            "\n",
            "--- Dataframe Setelah Encoding Variabel Kategorikal ---\n",
            "   Gender  Age  Ethnicity  T_atm  Humidity  Distance  T_offset1  Max1R13_1  \\\n",
            "0       1    5          5   24.0      28.0       0.8     0.7025    35.0300   \n",
            "1       0    4          2   24.0      26.0       0.8     0.7800    34.5500   \n",
            "2       0    2          5   24.0      26.0       0.8     0.8625    35.6525   \n",
            "3       0    2          2   24.0      27.0       0.8     0.9300    35.2225   \n",
            "4       1    0          5   24.0      27.0       0.8     0.8950    35.5450   \n",
            "\n",
            "   Max1L13_1  aveAllR13_1  ...  T_FHRC1  T_FHLC1  T_FHBC1  T_FHTC1  T_FH_Max1  \\\n",
            "0    35.3775      34.4000  ...  33.4775  33.3725  33.4925  33.0025    34.5300   \n",
            "1    34.5200      33.9300  ...  34.0550  33.6775  33.9700  34.0025    34.6825   \n",
            "2    35.5175      34.2775  ...  34.8275  34.6475  34.8200  34.6700    35.3450   \n",
            "3    35.6125      34.3850  ...  34.4225  34.6550  34.3025  34.9175    35.6025   \n",
            "4    35.6650      34.9100  ...  35.1600  34.3975  34.6700  33.8275    35.4175   \n",
            "\n",
            "   T_FHC_Max1   T_Max1    T_OR1  T_OR_Max1  aveOralM  \n",
            "0     34.0075  35.6925  35.6350    35.6525     36.59  \n",
            "1     34.6600  35.1750  35.0925    35.1075     37.19  \n",
            "2     35.2225  35.9125  35.8600    35.8850     37.34  \n",
            "3     35.3150  35.7200  34.9650    34.9825     37.09  \n",
            "4     35.3725  35.8950  35.5875    35.6175     37.04  \n",
            "\n",
            "[5 rows x 34 columns]\n"
          ]
        }
      ]
    },
    {
      "cell_type": "code",
      "source": [
        "import pandas as pd\n",
        "from sklearn.model_selection import train_test_split\n",
        "from sklearn.preprocessing import StandardScaler\n",
        "\n",
        "# 2. Menentukan Fitur (X) dan Target (y)\n",
        "target_column = 'aveOralM'\n",
        "if target_column not in df_encoded_only.columns:\n",
        "    print(f\"Error: Kolom target '{target_column}' tidak ditemukan.\")\n",
        "    print(f\"Kolom yang tersedia: {df.columns.tolist()}\")\n",
        "else:\n",
        "    y = df_encoded_only[target_column]\n",
        "    X = df_encoded_only.drop(target_column, axis=1)\n",
        "\n",
        "    print(\"✓ Fitur (X) dan Target (y) berhasil dipisahkan.\")\n",
        "    print(f\"  - Target (y): '{target_column}'\")\n",
        "    print(f\"  - Jumlah Fitur (X): {X.shape[1]} kolom\")\n",
        "    print(f\"  - Jumlah Total Sampel: {df.shape[0]} baris\")\n",
        "    print(\"-\" * 40)\n",
        "\n",
        "    # 3. Membagi Data menjadi Data Latih dan Data Uji\n",
        "    # Menggunakan stratify untuk menjaga proporsi kelas, penting untuk klasifikasi.\n",
        "    try:\n",
        "        X_train, X_test, y_train, y_test = train_test_split(\n",
        "            X, y, test_size=0.2, random_state=42, stratify=y\n",
        "        )\n",
        "        print(\"✓ Data berhasil dibagi (80% latih, 20% uji) menggunakan stratify.\")\n",
        "    except ValueError:\n",
        "        print(\"Peringatan: Gagal menggunakan 'stratify'. Mungkin karena beberapa kelas hanya punya 1 anggota.\")\n",
        "        print(\"Mencoba membagi data tanpa 'stratify'...\")\n",
        "        X_train, X_test, y_train, y_test = train_test_split(\n",
        "            X, y, test_size=0.2, random_state=42\n",
        "        )\n",
        "        print(\"✓ Data berhasil dibagi (80% latih, 20% uji) tanpa stratify.\")\n",
        "\n",
        "    print(f\"  - Ukuran X_train: {X_train.shape}\")\n",
        "    print(f\"  - Ukuran X_test:  {X_test.shape}\")\n",
        "    print(\"-\" * 40)\n",
        "\n",
        "    # 4. Penskalaan Fitur (Feature Scaling)\n",
        "    scaler = StandardScaler()\n",
        "\n",
        "    # Latih scaler HANYA pada data latih (X_train) untuk menghindari kebocoran data\n",
        "    X_train_scaled = scaler.fit_transform(X_train)\n",
        "\n",
        "    # Gunakan scaler yang sudah dilatih untuk mengubah data uji (X_test)\n",
        "    X_test_scaled = scaler.transform(X_test)\n",
        "\n",
        "    print(\"✓ Penskalaan fitur berhasil.\")\n",
        "    print(\"  - Variabel 'X_train_scaled' dan 'X_test_scaled' telah dibuat.\")\n",
        "    print(\"-\" * 40)\n",
        "\n",
        "    print(\"🎉 PREPROCESSING SELESAI 🎉\")\n",
        "    print(\"Data Anda sekarang siap untuk pemodelan.\")\n",
        "\n",
        "\n"
      ],
      "metadata": {
        "colab": {
          "base_uri": "https://localhost:8080/"
        },
        "id": "ZpI8hZZpqtnh",
        "outputId": "28f93db5-a2b5-4062-d0b5-df86f7221fc9"
      },
      "execution_count": null,
      "outputs": [
        {
          "output_type": "stream",
          "name": "stdout",
          "text": [
            "✓ Fitur (X) dan Target (y) berhasil dipisahkan.\n",
            "  - Target (y): 'aveOralM'\n",
            "  - Jumlah Fitur (X): 33 kolom\n",
            "  - Jumlah Total Sampel: 1020 baris\n",
            "----------------------------------------\n",
            "Peringatan: Gagal menggunakan 'stratify'. Mungkin karena beberapa kelas hanya punya 1 anggota.\n",
            "Mencoba membagi data tanpa 'stratify'...\n",
            "✓ Data berhasil dibagi (80% latih, 20% uji) tanpa stratify.\n",
            "  - Ukuran X_train: (816, 33)\n",
            "  - Ukuran X_test:  (204, 33)\n",
            "----------------------------------------\n",
            "✓ Penskalaan fitur berhasil.\n",
            "  - Variabel 'X_train_scaled' dan 'X_test_scaled' telah dibuat.\n",
            "----------------------------------------\n",
            "🎉 PREPROCESSING SELESAI 🎉\n",
            "Data Anda sekarang siap untuk pemodelan.\n"
          ]
        }
      ]
    },
    {
      "cell_type": "markdown",
      "source": [
        "# Machine Learning"
      ],
      "metadata": {
        "id": "qn3q_UdgtisJ"
      }
    },
    {
      "cell_type": "code",
      "source": [
        "# Import library yang diperlukan untuk REGRESI\n",
        "from sklearn.neighbors import KNeighborsRegressor\n",
        "from sklearn.tree import DecisionTreeRegressor\n",
        "from sklearn.metrics import mean_absolute_error, mean_squared_error, r2_score\n",
        "import matplotlib.pyplot as plt\n",
        "import seaborn as sns\n",
        "\n",
        "# ===================================================================\n",
        "# 1. Model K-Nearest Neighbors (K-NN) Regressor\n",
        "# ===================================================================\n",
        "print(\"⚙️ Memulai Pelatihan Model K-NN Regressor...\")\n",
        "\n",
        "# Inisialisasi model regresi\n",
        "knn_regressor = KNeighborsRegressor(n_neighbors=5)\n",
        "\n",
        "# Melatih model menggunakan data latih yang SUDAH DISKALAKAN\n",
        "knn_regressor.fit(X_train_scaled, y_train)\n",
        "print(\"✓ Model K-NN Regressor berhasil dilatih.\")\n",
        "\n",
        "# Membuat prediksi pada data uji yang SUDAH DISKALAKAN\n",
        "y_pred_knn = knn_regressor.predict(X_test_scaled)\n",
        "print(\"✓ Prediksi pada data uji telah dibuat.\")\n",
        "print(\"\\n--- Hasil Evaluasi K-NN Regressor ---\")\n",
        "\n",
        "# Menghitung dan menampilkan metrik evaluasi regresi\n",
        "mae_knn = mean_absolute_error(y_test, y_pred_knn)\n",
        "mse_knn = mean_squared_error(y_test, y_pred_knn)\n",
        "r2_knn = r2_score(y_test, y_pred_knn)\n",
        "\n",
        "print(f\"Mean Absolute Error (MAE): {mae_knn:.4f}\")\n",
        "print(f\"Mean Squared Error (MSE): {mse_knn:.4f}\")\n",
        "print(f\"R-squared (R2) Score: {r2_knn:.4f}\")\n",
        "\n",
        "\n",
        "print(\"\\n\" + \"=\"*50 + \"\\n\")\n"
      ],
      "metadata": {
        "colab": {
          "base_uri": "https://localhost:8080/"
        },
        "id": "GzCKT_kotoYP",
        "outputId": "27c84b89-2bea-4e3f-dfe6-0fe74dc01e3e"
      },
      "execution_count": null,
      "outputs": [
        {
          "output_type": "stream",
          "name": "stdout",
          "text": [
            "⚙️ Memulai Pelatihan Model K-NN Regressor...\n",
            "✓ Model K-NN Regressor berhasil dilatih.\n",
            "✓ Prediksi pada data uji telah dibuat.\n",
            "\n",
            "--- Hasil Evaluasi K-NN Regressor ---\n",
            "Mean Absolute Error (MAE): 0.2029\n",
            "Mean Squared Error (MSE): 0.0656\n",
            "R-squared (R2) Score: 0.6885\n",
            "\n",
            "==================================================\n",
            "\n"
          ]
        }
      ]
    },
    {
      "cell_type": "code",
      "source": [
        "#===================================================================\n",
        "# 2. Model Decision Tree Regressor\n",
        "# ===================================================================\n",
        "print(\"🌳 Memulai Pelatihan Model Decision Tree Regressor...\")\n",
        "\n",
        "# Inisialisasi model regresi\n",
        "dt_regressor = DecisionTreeRegressor(random_state=42)\n",
        "\n",
        "# Melatih model menggunakan data latih ASLI (tanpa penskalaan)\n",
        "dt_regressor.fit(X_train, y_train)\n",
        "print(\"✓ Model Decision Tree Regressor berhasil dilatih.\")\n",
        "\n",
        "# Membuat prediksi pada data uji ASLI\n",
        "y_pred_dt = dt_regressor.predict(X_test)\n",
        "print(\"✓ Prediksi pada data uji telah dibuat.\")\n",
        "print(\"\\n--- Hasil Evaluasi Decision Tree Regressor ---\")\n",
        "\n",
        "# Menghitung dan menampilkan metrik evaluasi regresi\n",
        "mae_dt = mean_absolute_error(y_test, y_pred_dt)\n",
        "mse_dt = mean_squared_error(y_test, y_pred_dt)\n",
        "r2_dt = r2_score(y_test, y_pred_dt)\n",
        "\n",
        "print(f\"Mean Absolute Error (MAE): {mae_dt:.4f}\")\n",
        "print(f\"Mean Squared Error (MSE): {mse_dt:.4f}\")\n",
        "print(f\"R-squared (R2) Score: {r2_dt:.4f}\")\n",
        "\n",
        "\n",
        "print(\"\\n\" + \"=\"*50 + \"\\n\")\n",
        "\n",
        "\n",
        "# ===================================================================\n",
        "# 3. Visualisasi Hasil Prediksi\n",
        "# ===================================================================\n",
        "print(\"📊 Membuat visualisasi hasil prediksi...\")\n",
        "\n",
        "plt.figure(figsize=(14, 6))\n",
        "\n",
        "# Plot untuk K-NN Regressor\n",
        "plt.subplot(1, 2, 1)\n",
        "plt.scatter(y_test, y_pred_knn, alpha=0.6, color='blue', edgecolors='w')\n",
        "plt.plot([y_test.min(), y_test.max()], [y_test.min(), y_test.max()], '--', lw=2, color='red')\n",
        "plt.title('K-NN: Nilai Aktual vs. Prediksi')\n",
        "plt.xlabel('Nilai Aktual (y_test)')\n",
        "plt.ylabel('Nilai Prediksi')\n",
        "plt.grid(True)\n",
        "\n",
        "# Plot untuk Decision Tree Regressor\n",
        "plt.subplot(1, 2, 2)\n",
        "plt.scatter(y_test, y_pred_dt, alpha=0.6, color='green', edgecolors='w')\n",
        "plt.plot([y_test.min(), y_test.max()], [y_test.min(), y_test.max()], '--', lw=2, color='red')\n",
        "plt.title('Decision Tree: Nilai Aktual vs. Prediksi')\n",
        "plt.xlabel('Nilai Aktual (y_test)')\n",
        "plt.ylabel('Nilai Prediksi')\n",
        "plt.grid(True)\n",
        "\n",
        "plt.tight_layout()\n",
        "plt.savefig('regression_prediction_results.png')\n",
        "print(\"✓ Visualisasi hasil prediksi disimpan sebagai 'regression_prediction_results.png'\")\n"
      ],
      "metadata": {
        "colab": {
          "base_uri": "https://localhost:8080/",
          "height": 833
        },
        "id": "x5BC_xenuT2H",
        "outputId": "6d257987-d074-4674-fbe4-c7ca440a1f75"
      },
      "execution_count": null,
      "outputs": [
        {
          "output_type": "stream",
          "name": "stdout",
          "text": [
            "🌳 Memulai Pelatihan Model Decision Tree Regressor...\n",
            "✓ Model Decision Tree Regressor berhasil dilatih.\n",
            "✓ Prediksi pada data uji telah dibuat.\n",
            "\n",
            "--- Hasil Evaluasi Decision Tree Regressor ---\n",
            "Mean Absolute Error (MAE): 0.2473\n",
            "Mean Squared Error (MSE): 0.1210\n",
            "R-squared (R2) Score: 0.4254\n",
            "\n",
            "==================================================\n",
            "\n",
            "📊 Membuat visualisasi hasil prediksi...\n",
            "✓ Visualisasi hasil prediksi disimpan sebagai 'regression_prediction_results.png'\n"
          ]
        },
        {
          "output_type": "display_data",
          "data": {
            "text/plain": [
              "<Figure size 1400x600 with 2 Axes>"
            ],
            "image/png": "[encoded data removed]"
          },
          "metadata": {}
        }
      ]
    },
    {
      "cell_type": "markdown",
      "source": [
        "Model K-NN Regressor adalah pilihan yang jelas lebih unggul untuk kasus ini. Dengan kemampuan menjelaskan ~69% variasi data dan tingkat kesalahan yang lebih rendah, model ini memberikan prediksi yang lebih andal untuk nilai aveOralM. Performa model Decision Tree tergolong lemah dan tidak disarankan untuk digunakan tanpa perbaikan lebih lanjut."
      ],
      "metadata": {
        "id": "EErjvf0RPJ2f"
      }
    },
    {
      "cell_type": "markdown",
      "source": [
        "Tentu, mari kita bedah setiap persamaan matematika untuk metrik evaluasi yang digunakan pada model regresi Anda.\n",
        "\n",
        "### 1. Mean Absolute Error (MAE)\n",
        "\n",
        "MAE mengukur rata-rata dari selisih absolut (nilai mutlak) antara nilai aktual dan nilai prediksi.\n",
        "\n",
        "**Persamaan:**\n",
        "$$MAE = \\frac{1}{n} \\sum_{i=1}^{n} |y_i - \\hat{y}_i|$$\n",
        "\n",
        "**Penjelasan Komponen:**\n",
        "\n",
        "* $n$ : Jumlah total data pada data uji Anda (dalam kasus Anda, $n=204$).\n",
        "* $\\sum_{i=1}^{n}$ : Simbol Sigma, yang berarti \"jumlahkan semua\". Kita akan menjumlahkan hasil perhitungan untuk setiap data, dari data pertama ($i=1$) hingga data terakhir ($i=n$).\n",
        "* $y_i$ : Nilai **aktual** (nilai sebenarnya) dari data ke-i. Ini adalah nilai `aveOralM` yang ada di dataset Anda.\n",
        "* $\\hat{y}_i$ : Nilai **prediksi** (hasil tebakan model) untuk data ke-i.\n",
        "* $|y_i - \\hat{y}_i|$ : Selisih antara nilai aktual dan prediksi. Tanda `|...|` berarti nilai absolut (absolut), jadi hasilnya selalu positif. Ini penting agar kesalahan positif dan negatif tidak saling menghilangkan.\n",
        "\n",
        "**Analogi Sederhana:**\n",
        "Bayangkan Anda mencoba menebak umur 5 orang teman. Umur sebenarnya ($y_i$) dan tebakan Anda ($\\hat{y}_i$) adalah:\n",
        "\n",
        "| Teman | Umur Sebenarnya ($y_i$) | Tebakan Anda ($\\hat{y}_i$) | Selisih Absolut ($|y_i - \\hat{y}_i|$) |\n",
        "|:---|:---:|:---:|:---:|\n",
        "| 1 | 25 | 27 | $|25-27| = 2$ |\n",
        "| 2 | 30 | 29 | $|30-29| = 1$ |\n",
        "| 3 | 22 | 25 | $|22-25| = 3$ |\n",
        "| 4 | 40 | 40 | $|40-40| = 0$ |\n",
        "| 5 | 35 | 31 | $|35-31| = 4$ |\n",
        "|**Total**| | | **10** |\n",
        "\n",
        "MAE adalah rata-rata dari selisih tersebut: $MAE = \\frac{10}{5} = 2$. Jadi, secara rata-rata, tebakan Anda meleset 2 tahun. Semakin kecil nilai MAE, semakin baik.\n",
        "\n",
        "---\n",
        "\n",
        "### 2. Mean Squared Error (MSE)\n",
        "\n",
        "MSE mirip dengan MAE, tetapi alih-alih menggunakan nilai absolut, MSE menggunakan kuadrat dari selisih.\n",
        "\n",
        "**Persamaan:**\n",
        "$$MSE = \\frac{1}{n} \\sum_{i=1}^{n} (y_i - \\hat{y}_i)^2$$\n",
        "\n",
        "**Penjelasan Komponen:**\n",
        "\n",
        "* Komponen $n$, $\\sum$, $y_i$, dan $\\hat{y}_i$ sama seperti pada MAE.\n",
        "* $(y_i - \\hat{y}_i)^2$ : Selisih antara nilai aktual dan prediksi, lalu **dikuadratkan**.\n",
        "\n",
        "**Mengapa Dikuadratkan?**\n",
        "Mengkuadratkan kesalahan memiliki dua efek utama:\n",
        "1.  **Membuat semua kesalahan menjadi positif.**\n",
        "2.  **Memberikan \"hukuman\" yang jauh lebih besar untuk kesalahan yang besar.** Kesalahan sebesar 3 menjadi 9, sedangkan kesalahan sebesar 5 menjadi 25. Ini membuat MSE sangat sensitif terhadap prediksi yang sangat jauh meleset (outlier).\n",
        "\n",
        "MSE berguna jika Anda ingin model Anda menghindari kesalahan besar sama sekali.\n",
        "\n",
        "---\n",
        "\n",
        "### 3. R-squared ($R^2$) atau Koefisien Determinasi\n",
        "\n",
        "$R^2$ adalah metrik yang paling sering digunakan untuk regresi. Ia mengukur seberapa besar persentase variasi dari variabel target (`aveOralM`) yang dapat dijelaskan oleh fitur-fitur (input) pada model Anda.\n",
        "\n",
        "**Persamaan:**\n",
        "$$R^2 = 1 - \\frac{\\sum_{i=1}^{n} (y_i - \\hat{y}_i)^2}{\\sum_{i=1}^{n} (y_i - \\bar{y})^2}$$\n",
        "\n",
        "**Penjelasan Komponen:**\n",
        "\n",
        "Metrik ini membandingkan \"kesalahan model Anda\" dengan \"kesalahan model sederhana yang hanya menebak nilai rata-rata\".\n",
        "\n",
        "* **Bagian Atas (Numerator):** $\\sum_{i=1}^{n} (y_i - \\hat{y}_i)^2$\n",
        "    * Ini adalah jumlah dari kuadrat kesalahan **model Anda**. Ini disebut *Sum of Squared Errors* (SSE). Ini mengukur seberapa banyak variasi yang **tidak bisa** dijelaskan oleh model Anda.\n",
        "\n",
        "* **Bagian Bawah (Denominator):** $\\sum_{i=1}^{n} (y_i - \\bar{y})^2$\n",
        "    * $\\bar{y}$ (baca: y-bar) adalah **nilai rata-rata** dari semua nilai $y_i$ aktual.\n",
        "    * Ini adalah jumlah dari kuadrat kesalahan yang akan Anda dapatkan jika Anda menggunakan model yang sangat bodoh, yang selalu menebak nilai rata-rata untuk semua data. Ini disebut *Total Sum of Squares* (SST) dan merepresentasikan **total variasi** dalam data.\n",
        "\n",
        "* **Pembagian dan Pengurangan:** $\\frac{SSE}{SST}$ adalah fraksi variasi yang **gagal** dijelaskan oleh model Anda. Dengan menghitung $1 - \\frac{SSE}{SST}$, kita mendapatkan fraksi variasi yang **berhasil** dijelaskan oleh model.\n",
        "\n",
        "**Interpretasi Nilai $R^2$:**\n",
        "* **$R^2 = 1$:** Prediksi sempurna. Model Anda berhasil menjelaskan 100% variasi data.\n",
        "* **$R^2 = 0.6885$ (Hasil K-NN Anda):** Model K-NN Anda mampu menjelaskan sekitar **68.85%** dari total variasi nilai `aveOralM`. Sisa ~31% dijelaskan oleh faktor lain yang tidak ada dalam model.\n",
        "* **$R^2 = 0$:** Model Anda tidak lebih baik daripada sekadar menebak nilai rata-rata.\n",
        "* **$R^2 < 0$:** Model Anda lebih buruk daripada menebak nilai rata-rata (sangat jarang terjadi pada data uji yang wajar)."
      ],
      "metadata": {
        "id": "zIcOHcnlPrtX"
      }
    }
  ]
}