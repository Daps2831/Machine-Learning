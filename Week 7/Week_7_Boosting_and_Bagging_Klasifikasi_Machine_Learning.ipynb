{
  "nbformat": 4,
  "nbformat_minor": 0,
  "metadata": {
    "colab": {
      "provenance": [],
      "authorship_tag": "ABX9TyNJ14L1I1Ns2GHSPB0cNPLz",
      "include_colab_link": true
    },
    "kernelspec": {
      "name": "python3",
      "display_name": "Python 3"
    },
    "language_info": {
      "name": "python"
    }
  },
  "cells": [
    {
      "cell_type": "markdown",
      "metadata": {
        "id": "view-in-github",
        "colab_type": "text"
      },
      "source": [
        "<a href=\"https://colab.research.google.com/github/Daps2831/Machine-Learning/blob/main/Week%207/Week_7_Boosting_and_Bagging_Klasifikasi_Machine_Learning.ipynb\" target=\"_parent\"><img src=\"https://colab.research.google.com/assets/colab-badge.svg\" alt=\"Open In Colab\"/></a>"
      ]
    },
    {
      "cell_type": "markdown",
      "source": [
        "# Mount File"
      ],
      "metadata": {
        "id": "xhQM5D6pIvme"
      }
    },
    {
      "cell_type": "code",
      "execution_count": 2,
      "metadata": {
        "colab": {
          "base_uri": "https://localhost:8080/"
        },
        "id": "XZ6kGrxlIkIM",
        "outputId": "24313bb1-a415-47e1-a580-cdbb41bcc9ad"
      },
      "outputs": [
        {
          "output_type": "stream",
          "name": "stdout",
          "text": [
            "Mounted at /content/drive\n"
          ]
        }
      ],
      "source": [
        "from google.colab import drive\n",
        "drive.mount('/content/drive')"
      ]
    },
    {
      "cell_type": "code",
      "source": [
        "import pandas as pd\n",
        "\n",
        "# Ganti path sesuai lokasi file di Google Drive\n",
        "# note: dataset obesity_level diambil dari kaggle\n",
        "file_path = \"/content/drive/MyDrive/Dataset/CitarumWater.csv\"\n",
        "# Membaca file Excel\n",
        "df = pd.read_csv(file_path)\n"
      ],
      "metadata": {
        "id": "amfC0NwbIyGd"
      },
      "execution_count": 3,
      "outputs": []
    },
    {
      "cell_type": "markdown",
      "source": [
        "## Data Preprocessing"
      ],
      "metadata": {
        "id": "3lo9n1HRKBYU"
      }
    },
    {
      "cell_type": "code",
      "source": [
        "# Tampilkan kolom kategorikal dan numerikal\n",
        "print(\"\\n--- Semua Kolom ---\")\n",
        "print(df.columns.tolist())\n",
        "\n",
        "# Pisahkan kolom numerikal dan kategorikal\n",
        "numerical_cols = df.select_dtypes(include=['int64', 'float64']).columns\n",
        "categorical_cols = df.select_dtypes(include=['object']).columns\n",
        "\n",
        "print(\"\\n--- Kolom Categorikal ---\")\n",
        "print(list(categorical_cols))\n",
        "print(\"\\n--- Kolom Numerikal ---\")\n",
        "print(list(numerical_cols))"
      ],
      "metadata": {
        "colab": {
          "base_uri": "https://localhost:8080/"
        },
        "id": "Q_zDzFeMSJnR",
        "outputId": "c56a8afc-a35e-42ec-d342-070197c878ba"
      },
      "execution_count": 4,
      "outputs": [
        {
          "output_type": "stream",
          "name": "stdout",
          "text": [
            "\n",
            "--- Semua Kolom ---\n",
            "['No', 'NamaSungai', 'TitikPantau', 'Waktu', 'pH', 'Temp', 'TSS', 'DO', 'BOD', 'COD', 'Nitrat', 'FecalColiform', 'Fosfat', 'O2', 'IP', 'Class']\n",
            "\n",
            "--- Kolom Categorikal ---\n",
            "['NamaSungai', 'TitikPantau', 'Waktu', 'Temp', 'O2']\n",
            "\n",
            "--- Kolom Numerikal ---\n",
            "['No', 'pH', 'TSS', 'DO', 'BOD', 'COD', 'Nitrat', 'FecalColiform', 'Fosfat', 'IP', 'Class']\n"
          ]
        }
      ]
    },
    {
      "cell_type": "code",
      "source": [
        "# Menampilkan 5 baris pertama\n",
        "print(\"Data Awal:\")\n",
        "print(df.head())\n",
        "\n",
        "# Menampilkan informasi ringkas tentang data (tipe data, nilai non-null)\n",
        "print(\"\\nInformasi Data:\")\n",
        "df.info()\n",
        "\n",
        "# Menampilkan jumlah nilai yang hilang di setiap kolom\n",
        "print(\"\\nJumlah Nilai Hilang:\")\n",
        "print(df.isnull().sum())"
      ],
      "metadata": {
        "id": "vNNjSinCKqil",
        "colab": {
          "base_uri": "https://localhost:8080/"
        },
        "outputId": "b469cf9f-e116-4ecb-d047-ca3efa3a69e6"
      },
      "execution_count": 5,
      "outputs": [
        {
          "output_type": "stream",
          "name": "stdout",
          "text": [
            "Data Awal:\n",
            "   No NamaSungai             TitikPantau       Waktu    pH     Temp   TSS  \\\n",
            "0   1    Citarum             Wangisagara  18/04/2018  7.57  25.55°C  11.0   \n",
            "1   2    Citarum                   Koyod  18/04/2018  7.69  25.55°C  13.0   \n",
            "2   3    Citarum   Setelah IPAL Cisirung  18/04/2018  7.39  25.55°C  15.0   \n",
            "3   4    Citarum                 Nanjung  18/04/2018  7.49  25.55°C  17.0   \n",
            "4   5    Citarum  Outlet Waduk Jatiluhur  18/04/2018  7.17  25.55°C   6.0   \n",
            "\n",
            "     DO   BOD    COD  Nitrat  FecalColiform  Fosfat O2    IP  Class  \n",
            "0  6.11  3.30   6.10    1.08        17000.0   0.043  -  5.12      3  \n",
            "1  6.20  5.31  12.50    1.85        28000.0   0.011  -  5.91      3  \n",
            "2  3.61  7.40  23.50    1.25        90000.0   0.230  -  7.76      3  \n",
            "3  3.17  8.13  27.50    1.21       300000.0   0.057  -  9.61      3  \n",
            "4  6.82  2.89   5.44    1.04         3000.0   0.110  -  2.44      2  \n",
            "\n",
            "Informasi Data:\n",
            "<class 'pandas.core.frame.DataFrame'>\n",
            "RangeIndex: 2500 entries, 0 to 2499\n",
            "Data columns (total 16 columns):\n",
            " #   Column         Non-Null Count  Dtype  \n",
            "---  ------         --------------  -----  \n",
            " 0   No             2500 non-null   int64  \n",
            " 1   NamaSungai     2500 non-null   object \n",
            " 2   TitikPantau    2500 non-null   object \n",
            " 3   Waktu          2500 non-null   object \n",
            " 4   pH             2500 non-null   float64\n",
            " 5   Temp           2500 non-null   object \n",
            " 6   TSS            2500 non-null   float64\n",
            " 7   DO             2500 non-null   float64\n",
            " 8   BOD            2500 non-null   float64\n",
            " 9   COD            2500 non-null   float64\n",
            " 10  Nitrat         2500 non-null   float64\n",
            " 11  FecalColiform  2500 non-null   float64\n",
            " 12  Fosfat         2500 non-null   float64\n",
            " 13  O2             2500 non-null   object \n",
            " 14  IP             2500 non-null   float64\n",
            " 15  Class          2500 non-null   int64  \n",
            "dtypes: float64(9), int64(2), object(5)\n",
            "memory usage: 312.6+ KB\n",
            "\n",
            "Jumlah Nilai Hilang:\n",
            "No               0\n",
            "NamaSungai       0\n",
            "TitikPantau      0\n",
            "Waktu            0\n",
            "pH               0\n",
            "Temp             0\n",
            "TSS              0\n",
            "DO               0\n",
            "BOD              0\n",
            "COD              0\n",
            "Nitrat           0\n",
            "FecalColiform    0\n",
            "Fosfat           0\n",
            "O2               0\n",
            "IP               0\n",
            "Class            0\n",
            "dtype: int64\n"
          ]
        }
      ]
    },
    {
      "cell_type": "code",
      "source": [
        "from sklearn.preprocessing import LabelEncoder\n",
        "\n",
        "# Pilih kolom kategorikal yang ingin di-encode\n",
        "categorical_cols = ['NamaSungai', 'TitikPantau', 'Waktu', 'Temp', 'O2'] # Ganti dengan nama kolom kategorikal Anda\n",
        "\n",
        "# Buat salinan dataframe agar tidak mengubah dataframe asli\n",
        "df_encoded_only = df.copy()\n",
        "\n",
        "# Lakukan encoding menggunakan LabelEncoder\n",
        "for col in categorical_cols:\n",
        "    le = LabelEncoder()\n",
        "    df_encoded_only[col] = le.fit_transform(df_encoded_only[col])\n",
        "\n",
        "# Tampilkan beberapa baris pertama setelah encoding\n",
        "print(\"\\n--- Dataframe Setelah Encoding Variabel Kategorikal ---\")\n",
        "print(df_encoded_only.head())"
      ],
      "metadata": {
        "colab": {
          "base_uri": "https://localhost:8080/"
        },
        "id": "48oVPcQ4RiJy",
        "outputId": "bacc5c30-fff3-4b94-83ca-37225cc0c55d"
      },
      "execution_count": 6,
      "outputs": [
        {
          "output_type": "stream",
          "name": "stdout",
          "text": [
            "\n",
            "--- Dataframe Setelah Encoding Variabel Kategorikal ---\n",
            "   No  NamaSungai  TitikPantau  Waktu    pH  Temp   TSS    DO   BOD    COD  \\\n",
            "0   1           0            7    568  7.57     0  11.0  6.11  3.30   6.10   \n",
            "1   2           0            2    568  7.69     0  13.0  6.20  5.31  12.50   \n",
            "2   3           0            5    568  7.39     0  15.0  3.61  7.40  23.50   \n",
            "3   4           0            3    568  7.49     0  17.0  3.17  8.13  27.50   \n",
            "4   5           0            4    568  7.17     0   6.0  6.82  2.89   5.44   \n",
            "\n",
            "   Nitrat  FecalColiform  Fosfat  O2    IP  Class  \n",
            "0    1.08        17000.0   0.043   0  5.12      3  \n",
            "1    1.85        28000.0   0.011   0  5.91      3  \n",
            "2    1.25        90000.0   0.230   0  7.76      3  \n",
            "3    1.21       300000.0   0.057   0  9.61      3  \n",
            "4    1.04         3000.0   0.110   0  2.44      2  \n"
          ]
        }
      ]
    },
    {
      "cell_type": "markdown",
      "source": [
        "# Machine Learning"
      ],
      "metadata": {
        "id": "skN61iHxLX1k"
      }
    },
    {
      "cell_type": "code",
      "source": [
        "from sklearn.preprocessing import StandardScaler\n",
        "\n",
        "# Inisialisasi scaler\n",
        "scaler = StandardScaler()\n",
        "\n",
        "# Fit dan transform HANYA pada data latih (X_train)\n",
        "X_scaled = scaler.fit_transform(X_train)\n",
        "\n",
        "# Transform HANYA pada data uji (X_test) dengan scaler yang sudah di-fit\n",
        "X_test_scaled = scaler.transform(X_test)"
      ],
      "metadata": {
        "id": "6QABgd_FLfqV"
      },
      "execution_count": 10,
      "outputs": []
    },
    {
      "cell_type": "code",
      "source": [
        "# Memisahkan fitur (X) dan target (y)\n",
        "X = df_encoded_only .drop('Class', axis=1)\n",
        "y = df_encoded_only ['Class']\n",
        "\n",
        "print(\"\\nBentuk data Fitur (X):\", X.shape)\n",
        "print(\"Bentuk data Target (y):\", y.shape)"
      ],
      "metadata": {
        "colab": {
          "base_uri": "https://localhost:8080/"
        },
        "id": "bCu9M_aALVG0",
        "outputId": "d815c3f0-c388-4daa-f6d7-a5051bd9b15c"
      },
      "execution_count": 7,
      "outputs": [
        {
          "output_type": "stream",
          "name": "stdout",
          "text": [
            "\n",
            "Bentuk data Fitur (X): (2500, 15)\n",
            "Bentuk data Target (y): (2500,)\n"
          ]
        }
      ]
    },
    {
      "cell_type": "code",
      "source": [
        "from sklearn.model_selection import train_test_split\n",
        "\n",
        "# Membagi data dengan rasio 80% data latih dan 20% data uji\n",
        "X_train, X_test, y_train, y_test = train_test_split(X, y, test_size=0.2, random_state=42, stratify=y)\n",
        "\n",
        "print(\"\\nUkuran data latih (X_train):\", X_train.shape)\n",
        "print(\"Ukuran data uji (X_test):\", X_test.shape)"
      ],
      "metadata": {
        "colab": {
          "base_uri": "https://localhost:8080/"
        },
        "id": "b72PCkjFLikz",
        "outputId": "10ddecbc-11e8-46df-87c5-00b8b0cfaf84"
      },
      "execution_count": 9,
      "outputs": [
        {
          "output_type": "stream",
          "name": "stdout",
          "text": [
            "\n",
            "Ukuran data latih (X_train): (2000, 15)\n",
            "Ukuran data uji (X_test): (500, 15)\n"
          ]
        }
      ]
    },
    {
      "cell_type": "code",
      "source": [
        "from sklearn.ensemble import GradientBoostingClassifier, RandomForestClassifier, BaggingClassifier, AdaBoostClassifier\n",
        "from sklearn.metrics import accuracy_score, precision_score, recall_score, f1_score, roc_auc_score, confusion_matrix\n",
        "import matplotlib.pyplot as plt\n",
        "import seaborn as sns\n",
        "\n",
        "# --- Model Boosting (Gradient Boosting) ---\n",
        "print(\"\\n--- Gradient Boosting Classifier ---\")\n",
        "gb_model = GradientBoostingClassifier(random_state=42)\n",
        "gb_model.fit(X_scaled, y_train)\n",
        "y_pred_gb = gb_model.predict(X_test_scaled)\n",
        "y_proba_gb = gb_model.predict_proba(X_test_scaled) # Probabilitas untuk semua kelas\n",
        "\n",
        "# Evaluasi Gradient Boosting\n",
        "print(\"Akurasi:\", accuracy_score(y_test, y_pred_gb))\n",
        "print(\"Presisi:\", precision_score(y_test, y_pred_gb, average='weighted'))\n",
        "print(\"Recall:\", recall_score(y_test, y_pred_gb, average='weighted'))\n",
        "print(\"F1-Score:\", f1_score(y_test, y_pred_gb, average='weighted'))\n",
        "print(\"AUC:\", roc_auc_score(y_test, y_proba_gb, multi_class='ovr'))\n",
        "\n",
        "# Confusion Matrix Gradient Boosting\n",
        "cm_gb = confusion_matrix(y_test, y_pred_gb)\n",
        "plt.figure(figsize=(6, 4))\n",
        "sns.heatmap(cm_gb, annot=True, fmt='d', cmap='Blues', xticklabels=gb_model.classes_, yticklabels=gb_model.classes_)\n",
        "plt.title('Confusion Matrix - Gradient Boosting')\n",
        "plt.xlabel('Predicted')\n",
        "plt.ylabel('Actual')\n",
        "plt.show()\n",
        "\n",
        "# --- Model Bagging (Random Forest sebagai base estimator) ---\n",
        "print(\"\\n--- Bagging Classifier (Random Forest Base) ---\")\n",
        "rf_model_base = RandomForestClassifier(n_estimators=10, random_state=42) # Gunakan n_estimators kecil untuk base\n",
        "bagging_model = BaggingClassifier(estimator=rf_model_base, n_estimators=10, random_state=42)\n",
        "bagging_model.fit(X_scaled, y_train)\n",
        "y_pred_bagging = bagging_model.predict(X_test_scaled)\n",
        "y_proba_bagging = bagging_model.predict_proba(X_test_scaled) # Probabilitas untuk semua kelas\n",
        "\n",
        "# Evaluasi Bagging\n",
        "print(\"Akurasi:\", accuracy_score(y_test, y_pred_bagging))\n",
        "print(\"Presisi:\", precision_score(y_test, y_pred_bagging, average='weighted'))\n",
        "print(\"Recall:\", recall_score(y_test, y_pred_bagging, average='weighted'))\n",
        "print(\"F1-Score:\", f1_score(y_test, y_pred_bagging, average='weighted'))\n",
        "print(\"AUC:\", roc_auc_score(y_test, y_proba_bagging, multi_class='ovr'))\n",
        "\n",
        "# Confusion Matrix Bagging\n",
        "cm_bagging = confusion_matrix(y_test, y_pred_bagging)\n",
        "plt.figure(figsize=(6, 4))\n",
        "sns.heatmap(cm_bagging, annot=True, fmt='d', cmap='Blues', xticklabels=bagging_model.classes_, yticklabels=bagging_model.classes_)\n",
        "plt.title('Confusion Matrix - Bagging')\n",
        "plt.xlabel('Predicted')\n",
        "plt.ylabel('Actual')\n",
        "plt.show()\n",
        "\n",
        "# --- Model Boosting (AdaBoost) ---\n",
        "print(\"\\n--- AdaBoost Classifier ---\")\n",
        "adaboost_model = AdaBoostClassifier(random_state=42)\n",
        "adaboost_model.fit(X_scaled, y_train)\n",
        "y_pred_adaboost = adaboost_model.predict(X_test_scaled)\n",
        "y_proba_adaboost = adaboost_model.predict_proba(X_test_scaled) # Probabilitas untuk semua kelas\n",
        "\n",
        "# Evaluasi AdaBoost\n",
        "print(\"Akurasi:\", accuracy_score(y_test, y_pred_adaboost))\n",
        "print(\"Presisi:\", precision_score(y_test, y_pred_adaboost, average='weighted'))\n",
        "print(\"Recall:\", recall_score(y_test, y_pred_adaboost, average='weighted'))\n",
        "print(\"F1-Score:\", f1_score(y_test, y_pred_adaboost, average='weighted'))\n",
        "print(\"AUC:\", roc_auc_score(y_test, y_proba_adaboost, multi_class='ovr'))\n",
        "\n",
        "# Confusion Matrix AdaBoost\n",
        "cm_adaboost = confusion_matrix(y_test, y_pred_adaboost)\n",
        "plt.figure(figsize=(6, 4))\n",
        "sns.heatmap(cm_adaboost, annot=True, fmt='d', cmap='Blues', xticklabels=adaboost_model.classes_, yticklabels=adaboost_model.classes_)\n",
        "plt.title('Confusion Matrix - AdaBoost')\n",
        "plt.xlabel('Predicted')\n",
        "plt.ylabel('Actual')\n",
        "plt.show()\n",
        "\n",
        "# --- Evaluasi F1-Squared ---\n",
        "# Perlu diingat bahwa F1-Squared bukanlah metrik evaluasi standar.\n",
        "# Biasanya yang digunakan adalah F1-Score.\n",
        "# Jika Anda benar-benar membutuhkan F1-Squared, Anda bisa menghitungnya\n",
        "# dengan mengkuadratkan nilai F1-Score.\n",
        "print(\"\\n--- F1-Squared (Example calculation for Bagging) ---\")\n",
        "f1_bagging = f1_score(y_test, y_pred_bagging, average='weighted')\n",
        "f1_squared_bagging = f1_bagging**2\n",
        "print(f\"F1-Squared for Bagging: {f1_squared_bagging}\")"
      ],
      "metadata": {
        "colab": {
          "base_uri": "https://localhost:8080/",
          "height": 1000
        },
        "id": "BmvKFthBPdta",
        "outputId": "494d379a-c566-4d6b-b6de-0edaa29ea7e8"
      },
      "execution_count": 17,
      "outputs": [
        {
          "output_type": "stream",
          "name": "stdout",
          "text": [
            "\n",
            "--- Gradient Boosting Classifier ---\n",
            "Akurasi: 1.0\n",
            "Presisi: 1.0\n",
            "Recall: 1.0\n",
            "F1-Score: 1.0\n",
            "AUC: 1.0\n"
          ]
        },
        {
          "output_type": "display_data",
          "data": {
            "text/plain": [
              "<Figure size 600x400 with 2 Axes>"
            ],
            "image/png": "[encoded data removed]"
          },
          "metadata": {}
        },
        {
          "output_type": "stream",
          "name": "stdout",
          "text": [
            "\n",
            "--- Bagging Classifier (Random Forest Base) ---\n",
            "Akurasi: 1.0\n",
            "Presisi: 1.0\n",
            "Recall: 1.0\n",
            "F1-Score: 1.0\n",
            "AUC: 1.0\n"
          ]
        },
        {
          "output_type": "display_data",
          "data": {
            "text/plain": [
              "<Figure size 600x400 with 2 Axes>"
            ],
            "image/png": "[encoded data removed]"
          },
          "metadata": {}
        },
        {
          "output_type": "stream",
          "name": "stdout",
          "text": [
            "\n",
            "--- AdaBoost Classifier ---\n",
            "Akurasi: 0.978\n",
            "Presisi: 0.9624169381107491\n",
            "Recall: 0.978\n",
            "F1-Score: 0.970105610561056\n",
            "AUC: 0.9935004853779881\n"
          ]
        },
        {
          "output_type": "stream",
          "name": "stderr",
          "text": [
            "/usr/local/lib/python3.11/dist-packages/sklearn/metrics/_classification.py:1565: UndefinedMetricWarning: Precision is ill-defined and being set to 0.0 in labels with no predicted samples. Use `zero_division` parameter to control this behavior.\n",
            "  _warn_prf(average, modifier, f\"{metric.capitalize()} is\", len(result))\n"
          ]
        },
        {
          "output_type": "display_data",
          "data": {
            "text/plain": [
              "<Figure size 600x400 with 2 Axes>"
            ],
            "image/png": "[encoded data removed]"
          },
          "metadata": {}
        },
        {
          "output_type": "stream",
          "name": "stdout",
          "text": [
            "\n",
            "--- F1-Squared (Example calculation for Bagging) ---\n",
            "F1-Squared for Bagging: 1.0\n"
          ]
        }
      ]
    }
  ]
}