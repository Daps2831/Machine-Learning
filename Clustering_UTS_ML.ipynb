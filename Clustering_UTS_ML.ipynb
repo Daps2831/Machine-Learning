{
  "nbformat": 4,
  "nbformat_minor": 0,
  "metadata": {
    "colab": {
      "provenance": [],
      "mount_file_id": "1eGrq9GFzGrfeDXg-3BrlQib0cYpWnl7P",
      "authorship_tag": "ABX9TyMpnYXuUh0dgEqEXA69eqqh",
      "include_colab_link": true
    },
    "kernelspec": {
      "name": "python3",
      "display_name": "Python 3"
    },
    "language_info": {
      "name": "python"
    }
  },
  "cells": [
    {
      "cell_type": "markdown",
      "metadata": {
        "id": "view-in-github",
        "colab_type": "text"
      },
      "source": [
        "<a href=\"https://colab.research.google.com/github/Daps2831/Machine-Learning/blob/main/Clustering_UTS_ML.ipynb\" target=\"_parent\"><img src=\"https://colab.research.google.com/assets/colab-badge.svg\" alt=\"Open In Colab\"/></a>"
      ]
    },
    {
      "cell_type": "code",
      "source": [
        "from google.colab import drive\n",
        "drive.mount('/content/drive')"
      ],
      "metadata": {
        "colab": {
          "base_uri": "https://localhost:8080/"
        },
        "id": "GJG1By-BZVhc",
        "outputId": "d191baa8-bb1a-4841-c4b8-c65e7e9be189"
      },
      "execution_count": 77,
      "outputs": [
        {
          "output_type": "stream",
          "name": "stdout",
          "text": [
            "Drive already mounted at /content/drive; to attempt to forcibly remount, call drive.mount(\"/content/drive\", force_remount=True).\n"
          ]
        }
      ]
    },
    {
      "cell_type": "markdown",
      "source": [
        "#  1. pipeline end-to-end"
      ],
      "metadata": {
        "id": "J3wzf0ztbAuV"
      }
    },
    {
      "cell_type": "markdown",
      "source": [
        "## a.Pengumpulan & pembersihan data (Pandas)  "
      ],
      "metadata": {
        "id": "ZMbhhzn1YA0T"
      }
    },
    {
      "cell_type": "code",
      "source": [
        "import pandas as pd\n",
        "import matplotlib.pyplot as plt\n",
        "import seaborn as sns\n",
        "import shutil\n",
        "import numpy as np\n"
      ],
      "metadata": {
        "id": "7WH20pQxZn-c"
      },
      "execution_count": 2,
      "outputs": []
    },
    {
      "cell_type": "code",
      "source": [
        "# Ganti path sesuai lokasi file di Google Drive\n",
        "file_path = \"/content/drive/MyDrive/Dataset/UTSClustering.csv\"\n",
        "# Membaca file Excel\n",
        "shutil.copy(file_path, '/content/UTSClustering.csv')\n",
        "data = pd.read_csv(file_path, encoding='ISO-8859-1')\n"
      ],
      "metadata": {
        "id": "a-6x7mw_ZjM7"
      },
      "execution_count": 3,
      "outputs": []
    },
    {
      "cell_type": "code",
      "execution_count": 4,
      "metadata": {
        "colab": {
          "base_uri": "https://localhost:8080/"
        },
        "id": "ftFqN-X1X7tg",
        "outputId": "8138f871-e515-46df-e273-49814449fe3c"
      },
      "outputs": [
        {
          "output_type": "stream",
          "name": "stdout",
          "text": [
            "Original Data:\n",
            "  InvoiceNo StockCode                          Description  Quantity  \\\n",
            "0    536365    85123A   WHITE HANGING HEART T-LIGHT HOLDER         6   \n",
            "1    536365     71053                  WHITE METAL LANTERN         6   \n",
            "2    536365    84406B       CREAM CUPID HEARTS COAT HANGER         8   \n",
            "3    536365    84029G  KNITTED UNION FLAG HOT WATER BOTTLE         6   \n",
            "4    536365    84029E       RED WOOLLY HOTTIE WHITE HEART.         6   \n",
            "\n",
            "      InvoiceDate  UnitPrice  CustomerID         Country  \n",
            "0  12/1/2010 8:26       2.55     17850.0  United Kingdom  \n",
            "1  12/1/2010 8:26       3.39     17850.0  United Kingdom  \n",
            "2  12/1/2010 8:26       2.75     17850.0  United Kingdom  \n",
            "3  12/1/2010 8:26       3.39     17850.0  United Kingdom  \n",
            "4  12/1/2010 8:26       3.39     17850.0  United Kingdom  \n"
          ]
        },
        {
          "output_type": "stream",
          "name": "stderr",
          "text": [
            "<ipython-input-4-ee6d08150ef9>:13: FutureWarning: A value is trying to be set on a copy of a DataFrame or Series through chained assignment using an inplace method.\n",
            "The behavior will change in pandas 3.0. This inplace method will never work because the intermediate object on which we are setting values always behaves as a copy.\n",
            "\n",
            "For example, when doing 'df[col].method(value, inplace=True)', try using 'df.method({col: value}, inplace=True)' or df[col] = df[col].method(value) instead, to perform the operation inplace on the original object.\n",
            "\n",
            "\n",
            "  data_cleaned['Country'].fillna('Unknown', inplace=True)\n"
          ]
        },
        {
          "output_type": "stream",
          "name": "stdout",
          "text": [
            "\n",
            "Cleaned Data:\n",
            "  InvoiceNo StockCode                          Description  Quantity  \\\n",
            "0    536365    85123A   WHITE HANGING HEART T-LIGHT HOLDER         6   \n",
            "1    536365     71053                  WHITE METAL LANTERN         6   \n",
            "2    536365    84406B       CREAM CUPID HEARTS COAT HANGER         8   \n",
            "3    536365    84029G  KNITTED UNION FLAG HOT WATER BOTTLE         6   \n",
            "4    536365    84029E       RED WOOLLY HOTTIE WHITE HEART.         6   \n",
            "\n",
            "          InvoiceDate  UnitPrice  CustomerID         Country  \n",
            "0 2010-12-01 08:26:00       2.55     17850.0  United Kingdom  \n",
            "1 2010-12-01 08:26:00       3.39     17850.0  United Kingdom  \n",
            "2 2010-12-01 08:26:00       2.75     17850.0  United Kingdom  \n",
            "3 2010-12-01 08:26:00       3.39     17850.0  United Kingdom  \n",
            "4 2010-12-01 08:26:00       3.39     17850.0  United Kingdom  \n"
          ]
        }
      ],
      "source": [
        "# Show the first few rows of the dataset to understand its structure\n",
        "print(\"Original Data:\")\n",
        "print(data.head())\n",
        "\n",
        "# 1. Remove Duplicate Rows\n",
        "data_cleaned = data.drop_duplicates()\n",
        "\n",
        "# 2. Handle Missing Values\n",
        "# Drop rows where critical columns (InvoiceNo, StockCode, Quantity, UnitPrice) are missing\n",
        "data_cleaned = data_cleaned.dropna(subset=['InvoiceNo', 'StockCode', 'Quantity', 'UnitPrice'])\n",
        "\n",
        "# Fill missing values in non-critical columns (like 'Country') with a placeholder 'Unknown'\n",
        "data_cleaned['Country'].fillna('Unknown', inplace=True)\n",
        "\n",
        "# 3. Convert 'InvoiceDate' to DateTime format\n",
        "data_cleaned['InvoiceDate'] = pd.to_datetime(data_cleaned['InvoiceDate'], errors='coerce')\n",
        "\n",
        "# 4. Convert 'Quantity' and 'UnitPrice' to numeric values, coercing errors to NaN\n",
        "data_cleaned['Quantity'] = pd.to_numeric(data_cleaned['Quantity'], errors='coerce')\n",
        "data_cleaned['UnitPrice'] = pd.to_numeric(data_cleaned['UnitPrice'], errors='coerce')\n",
        "\n",
        "# 5. Remove rows with invalid (NaN) values after conversion of 'Quantity' and 'UnitPrice'\n",
        "data_cleaned = data_cleaned.dropna(subset=['Quantity', 'UnitPrice'])\n",
        "\n",
        "# 6. Remove rows with negative or zero values in 'Quantity' or 'UnitPrice'\n",
        "data_cleaned = data_cleaned[(data_cleaned['Quantity'] > 0) & (data_cleaned['UnitPrice'] > 0)]\n",
        "\n",
        "# Show the cleaned data\n",
        "print(\"\\nCleaned Data:\")\n",
        "print(data_cleaned.head())\n",
        "\n",
        "# Optionally, save the cleaned dataset to a new file\n",
        "# data_cleaned.to_csv('/mnt/data/Cleaned_UTSClustering.csv', index=False)\n"
      ]
    },
    {
      "cell_type": "markdown",
      "source": [
        "## b.Feature Selection"
      ],
      "metadata": {
        "id": "pV5dXTT-bfv8"
      }
    },
    {
      "source": [
        "from sklearn.feature_selection import VarianceThreshold\n",
        "\n",
        "# 1. **Remove Constant and Quasi-Constant Features**\n",
        "# VarianceThreshold is used to remove features with low variance (constant/quasi-constant features)\n",
        "# Select only numerical features for variance analysis\n",
        "numerical_features = data_cleaned.select_dtypes(include=['number']).columns\n",
        "\n",
        "selector = VarianceThreshold(threshold=0.01)  # Threshold can be adjusted (0.01 for quasi-constant features)\n",
        "data_no_constant = selector.fit_transform(data_cleaned[numerical_features].dropna(axis=1, how='all'))\n",
        "\n",
        "# Show which features were retained after removing constant/quasi-constant features\n",
        "kept_columns = numerical_features[selector.get_support()]\n",
        "print(\"Features retained after removing constant/quasi-constant features:\", kept_columns)"
      ],
      "cell_type": "code",
      "metadata": {
        "colab": {
          "base_uri": "https://localhost:8080/"
        },
        "id": "ETAPfg_Be-XN",
        "outputId": "ef0e2fff-d850-4a28-aa58-2c8b8af6a1d2"
      },
      "execution_count": 5,
      "outputs": [
        {
          "output_type": "stream",
          "name": "stdout",
          "text": [
            "Features retained after removing constant/quasi-constant features: Index(['Quantity', 'UnitPrice', 'CustomerID'], dtype='object')\n"
          ]
        }
      ]
    },
    {
      "cell_type": "code",
      "source": [
        "# 2. **Remove Highly Correlated Features**\n",
        "# Calculate the correlation matrix to identify highly correlated features\n",
        "correlation_matrix = data_cleaned[kept_columns].corr()\n",
        "\n",
        "# Visualize the correlation matrix using a heatmap\n",
        "plt.figure(figsize=(12, 8))\n",
        "sns.heatmap(correlation_matrix, annot=True, fmt='.2f', cmap='coolwarm', center=0)\n",
        "plt.show()\n",
        "\n",
        "# Remove highly correlated features (correlation > 0.95)\n",
        "threshold = 0.95\n",
        "corr_matrix = correlation_matrix.abs()\n",
        "upper_triangle = corr_matrix.where(np.triu(np.ones(corr_matrix.shape), k=1).astype(bool))\n",
        "to_drop = [column for column in upper_triangle.columns if any(upper_triangle[column] > threshold)]\n",
        "\n",
        "# Drop the highly correlated features\n",
        "data_cleaned_no_corr = data_cleaned.drop(to_drop, axis=1)\n",
        "print(\"\\nColumns after removing highly correlated features:\", data_cleaned_no_corr.columns)"
      ],
      "metadata": {
        "colab": {
          "base_uri": "https://localhost:8080/",
          "height": 771
        },
        "id": "iTK8C3Y_fGIF",
        "outputId": "de1ef448-6e01-45ae-fec4-79c5ce906339"
      },
      "execution_count": 6,
      "outputs": [
        {
          "output_type": "display_data",
          "data": {
            "text/plain": [
              "<Figure size 1200x800 with 2 Axes>"
            ],
            "image/png": "[encoded data removed]"
          },
          "metadata": {}
        },
        {
          "output_type": "stream",
          "name": "stdout",
          "text": [
            "\n",
            "Columns after removing highly correlated features: Index(['InvoiceNo', 'StockCode', 'Description', 'Quantity', 'InvoiceDate',\n",
            "       'UnitPrice', 'CustomerID', 'Country'],\n",
            "      dtype='object')\n"
          ]
        }
      ]
    },
    {
      "source": [
        "# 3. **Feature Selection Based on Variance (VarianceThreshold)**\n",
        "# This removes features with low variance, as they do not contribute much information.\n",
        "# Select only numerical features for variance analysis\n",
        "numerical_features = data_cleaned_no_corr.select_dtypes(include=['number']).columns\n",
        "\n",
        "variance_selector = VarianceThreshold(threshold=0.01)  # You can change the threshold value\n",
        "data_no_variance = variance_selector.fit_transform(data_cleaned_no_corr[numerical_features])\n",
        "\n",
        "# Show features retained after variance-based feature selection\n",
        "# Use numerical_features to get the correct column names after transformation\n",
        "final_selected_columns = numerical_features[variance_selector.get_support()]\n",
        "print(\"\\nFinal selected features after variance thresholding:\", final_selected_columns)\n",
        "\n",
        "# Final data after feature selection\n",
        "data_final_selected = data_cleaned_no_corr[final_selected_columns]\n",
        "print(\"\\nShape of final dataset:\", data_final_selected.shape)"
      ],
      "cell_type": "code",
      "metadata": {
        "colab": {
          "base_uri": "https://localhost:8080/"
        },
        "id": "5h2EwUkZfZOF",
        "outputId": "209103db-11da-4713-e34d-2ec09cc60c48"
      },
      "execution_count": 7,
      "outputs": [
        {
          "output_type": "stream",
          "name": "stdout",
          "text": [
            "\n",
            "Final selected features after variance thresholding: Index(['Quantity', 'UnitPrice', 'CustomerID'], dtype='object')\n",
            "\n",
            "Shape of final dataset: (524878, 3)\n"
          ]
        }
      ]
    },
    {
      "cell_type": "markdown",
      "source": [
        "## Feature Engineering"
      ],
      "metadata": {
        "id": "gmhB4DE6f9ik"
      }
    },
    {
      "cell_type": "code",
      "source": [
        "import pandas as pd\n",
        "import numpy as np\n",
        "from sklearn.preprocessing import StandardScaler, MinMaxScaler, LabelEncoder\n",
        "from sklearn.decomposition import PCA\n",
        "\n",
        "# Assuming 'data_cleaned' is the dataset that is already cleaned\n",
        "\n",
        "# 1. **Log Transformation** (for skewed numeric features)\n",
        "# Apply log transformation to features like 'UnitPrice' if they are heavily skewed\n",
        "data_cleaned['UnitPrice_log'] = np.log1p(data_cleaned['UnitPrice'])\n",
        "\n",
        "# 2. **Standardisasi** (Standard Scaling - Z-score normalization)\n",
        "scaler = StandardScaler()\n",
        "data_standardized = scaler.fit_transform(data_cleaned.select_dtypes(include=[np.number]))  # Standardize numeric features\n",
        "\n",
        "# Convert back to DataFrame if necessary\n",
        "data_standardized_df = pd.DataFrame(data_standardized, columns=data_cleaned.select_dtypes(include=[np.number]).columns)\n",
        "\n",
        "# 3. **Normalisasi** (Min-Max Scaling - Scaling features to range [0, 1])\n",
        "min_max_scaler = MinMaxScaler()\n",
        "data_normalized = min_max_scaler.fit_transform(data_cleaned.select_dtypes(include=[np.number]))  # Normalize numeric features\n",
        "\n",
        "# Convert back to DataFrame if necessary\n",
        "data_normalized_df = pd.DataFrame(data_normalized, columns=data_cleaned.select_dtypes(include=[np.number]).columns)\n",
        "\n",
        "# 4. **One-Hot Encoding** (For categorical features)\n",
        "# One-hot encode categorical columns (like 'Country')\n",
        "data_one_hot = pd.get_dummies(data_cleaned['Country'], prefix='Country')\n",
        "data_cleaned = pd.concat([data_cleaned, data_one_hot], axis=1)\n",
        "\n",
        "# 5. **Label Encoding** (For categorical features with an ordinal relationship)\n",
        "# Label encode the 'Country' column if it has an ordinal relationship (e.g., 'Low', 'Medium', 'High')\n",
        "label_encoder = LabelEncoder()\n",
        "data_cleaned['Country_encoded'] = label_encoder.fit_transform(data_cleaned['Country'])\n",
        "\n",
        "# Display the transformed data\n",
        "print(\"Data after log transformation, scaling, encoding:\")\n",
        "print(data_cleaned.head())\n",
        "\n",
        "# Optionally, save the transformed data\n",
        "# data_cleaned.to_csv('/mnt/data/Transformed_Data.csv', index=False)\n"
      ],
      "metadata": {
        "colab": {
          "base_uri": "https://localhost:8080/"
        },
        "id": "3rAtPWF5iUdt",
        "outputId": "a3117f05-37e2-47e3-c94c-7e144e85dc84"
      },
      "execution_count": 8,
      "outputs": [
        {
          "output_type": "stream",
          "name": "stdout",
          "text": [
            "Data after log transformation, scaling, encoding:\n",
            "  InvoiceNo StockCode                          Description  Quantity  \\\n",
            "0    536365    85123A   WHITE HANGING HEART T-LIGHT HOLDER         6   \n",
            "1    536365     71053                  WHITE METAL LANTERN         6   \n",
            "2    536365    84406B       CREAM CUPID HEARTS COAT HANGER         8   \n",
            "3    536365    84029G  KNITTED UNION FLAG HOT WATER BOTTLE         6   \n",
            "4    536365    84029E       RED WOOLLY HOTTIE WHITE HEART.         6   \n",
            "\n",
            "          InvoiceDate  UnitPrice  CustomerID         Country  UnitPrice_log  \\\n",
            "0 2010-12-01 08:26:00       2.55     17850.0  United Kingdom       1.266948   \n",
            "1 2010-12-01 08:26:00       3.39     17850.0  United Kingdom       1.479329   \n",
            "2 2010-12-01 08:26:00       2.75     17850.0  United Kingdom       1.321756   \n",
            "3 2010-12-01 08:26:00       3.39     17850.0  United Kingdom       1.479329   \n",
            "4 2010-12-01 08:26:00       3.39     17850.0  United Kingdom       1.479329   \n",
            "\n",
            "   Country_Australia  ...  Country_Saudi Arabia  Country_Singapore  \\\n",
            "0              False  ...                 False              False   \n",
            "1              False  ...                 False              False   \n",
            "2              False  ...                 False              False   \n",
            "3              False  ...                 False              False   \n",
            "4              False  ...                 False              False   \n",
            "\n",
            "   Country_Spain  Country_Sweden  Country_Switzerland  Country_USA  \\\n",
            "0          False           False                False        False   \n",
            "1          False           False                False        False   \n",
            "2          False           False                False        False   \n",
            "3          False           False                False        False   \n",
            "4          False           False                False        False   \n",
            "\n",
            "   Country_United Arab Emirates  Country_United Kingdom  Country_Unspecified  \\\n",
            "0                         False                    True                False   \n",
            "1                         False                    True                False   \n",
            "2                         False                    True                False   \n",
            "3                         False                    True                False   \n",
            "4                         False                    True                False   \n",
            "\n",
            "   Country_encoded  \n",
            "0               36  \n",
            "1               36  \n",
            "2               36  \n",
            "3               36  \n",
            "4               36  \n",
            "\n",
            "[5 rows x 48 columns]\n"
          ]
        }
      ]
    },
    {
      "cell_type": "markdown",
      "source": [
        "# 2. Modelling"
      ],
      "metadata": {
        "id": "MvCmFZldg1l8"
      }
    },
    {
      "cell_type": "code",
      "source": [
        "# Select only numerical features for clustering\n",
        "numerical_features = data_cleaned.select_dtypes(include=[np.number]).columns\n",
        "data_cleaned_numeric = data_cleaned[numerical_features]\n",
        "\n",
        "# Impute or remove NaN values before clustering\n",
        "# Option 1: Remove rows with NaN values\n",
        "data_cleaned_numeric = data_cleaned_numeric.dropna()"
      ],
      "metadata": {
        "id": "0lSsS6Alw3_w"
      },
      "execution_count": 10,
      "outputs": []
    },
    {
      "source": [
        "from sklearn.cluster import KMeans, AgglomerativeClustering, DBSCAN, SpectralClustering\n",
        "from sklearn.mixture import GaussianMixture\n",
        "from sklearn.metrics import silhouette_score, davies_bouldin_score, calinski_harabasz_score\n",
        "import matplotlib.pyplot as plt\n",
        "import pandas as pd\n",
        "import numpy as np\n",
        "\n",
        "# Assuming the data is cleaned, standardized, and transformed\n",
        "# Let's use the data after transformation for clustering (e.g., data_cleaned)\n",
        "\n",
        "# Standardize the data\n",
        "# Since we've already standardized data earlier, we can skip this if you've already performed it\n",
        "# If using data_cleaned directly, ensure the data is scaled\n",
        "\n",
        "# Number of clusters (adjust based on your needs or use methods like the Elbow method)\n",
        "n_clusters = 3\n",
        "\n",
        "# Select only numerical features for clustering\n",
        "numerical_features = data_cleaned.select_dtypes(include=[np.number]).columns\n",
        "data_cleaned_numeric = data_cleaned[numerical_features]\n",
        "\n",
        "# Impute or remove NaN values before clustering\n",
        "# Option 1: Remove rows with NaN values\n",
        "data_cleaned_numeric = data_cleaned_numeric.dropna()\n",
        "\n",
        "# Option 2: Impute NaN values with the mean of each column\n",
        "# from sklearn.impute import SimpleImputer\n",
        "# imputer = SimpleImputer(strategy='mean')\n",
        "# data_cleaned_numeric = imputer.fit_transform(data_cleaned_numeric)\n",
        "\n",
        "\n",
        "# 1. **KMeans Clustering**\n",
        "kmeans = KMeans(n_clusters=n_clusters, random_state=42)\n",
        "kmeans_labels = kmeans.fit_predict(data_cleaned_numeric)  # Gunakan data_cleaned_numeric untuk clustering\n",
        "\n",
        "# 2. **Evaluasi Model KMeans**\n",
        "# Menghitung metrik evaluasi\n",
        "kmeans_silhouette = silhouette_score(data_cleaned_numeric, kmeans_labels)\n",
        "kmeans_davies_bouldin = davies_bouldin_score(data_cleaned_numeric, kmeans_labels)\n",
        "kmeans_calinski = calinski_harabasz_score(data_cleaned_numeric, kmeans_labels)\n",
        "\n",
        "# Tampilkan hasil evaluasi\n",
        "print(f\"KMeans Silhouette Score: {kmeans_silhouette}\")\n",
        "print(f\"KMeans Davies-Bouldin Index: {kmeans_davies_bouldin}\")\n",
        "print(f\"KMeans Calinski-Harabasz Score: {kmeans_calinski}\")\n"
      ],
      "cell_type": "code",
      "metadata": {
        "colab": {
          "base_uri": "https://localhost:8080/"
        },
        "id": "8jplgvPMlP8e",
        "outputId": "504dc2b0-0962-4e32-a4a5-a118315b077f"
      },
      "execution_count": 85,
      "outputs": [
        {
          "output_type": "stream",
          "name": "stdout",
          "text": [
            "KMeans Silhouette Score: 0.5958601462224955\n",
            "KMeans Davies-Bouldin Index: 0.4900191629494126\n",
            "KMeans Calinski-Harabasz Score: 1416985.347097646\n"
          ]
        }
      ]
    },
    {
      "cell_type": "code",
      "source": [
        "# 3. **Visualisasi KMeans Clustering (Cluster Scatter Plot)**\n",
        "# Membuat scatter plot dari dua komponen utama (PCA untuk visualisasi 2D)\n",
        "from sklearn.decomposition import PCA\n",
        "\n",
        "# Gunakan PCA untuk mengurangi dimensi data menjadi 2 untuk visualisasi\n",
        "pca = PCA(n_components=2)\n",
        "data_pca = pca.fit_transform(data_cleaned_numeric)\n",
        "\n",
        "# Visualisasi Clustering dengan Plot\n",
        "plt.figure(figsize=(8, 6))\n",
        "plt.scatter(data_pca[:, 0], data_pca[:, 1], c=kmeans_labels, cmap='viridis', label='Clusters')\n",
        "plt.title('KMeans Clustering - Cluster Scatter Plot')\n",
        "plt.xlabel('Principal Component 1')\n",
        "plt.ylabel('Principal Component 2')\n",
        "plt.colorbar(label='Cluster Label')\n",
        "plt.show()"
      ],
      "metadata": {
        "colab": {
          "base_uri": "https://localhost:8080/",
          "height": 564
        },
        "id": "avD74DJunXHW",
        "outputId": "9441fd4b-353d-47eb-de97-78709a1cffde"
      },
      "execution_count": 86,
      "outputs": [
        {
          "output_type": "display_data",
          "data": {
            "text/plain": [
              "<Figure size 800x600 with 2 Axes>"
            ],
            "image/png": "[encoded data removed]"
          },
          "metadata": {}
        }
      ]
    },
    {
      "cell_type": "code",
      "source": [
        "from sklearn.cluster import AgglomerativeClustering\n",
        "from sklearn.metrics import silhouette_score, davies_bouldin_score, calinski_harabasz_score\n",
        "import matplotlib.pyplot as plt\n",
        "\n",
        "# Tentukan jumlah cluster (n_clusters), ini bisa disesuaikan\n",
        "n_clusters = 3  # Misalnya kita memilih 3 cluster untuk AgglomerativeClustering\n",
        "\n",
        "# 1. **AgglomerativeClustering**\n",
        "agg_clustering = AgglomerativeClustering(n_clusters=n_clusters)\n",
        "agg_labels = agg_clustering.fit_predict(data_cleaned_numeric)  # Gunakan data_cleaned_numeric untuk clustering\n",
        "\n",
        "# 2. **Evaluasi Model AgglomerativeClustering**\n",
        "# Menghitung metrik evaluasi\n",
        "agg_silhouette = silhouette_score(data_cleaned_numeric, agg_labels)\n",
        "agg_davies_bouldin = davies_bouldin_score(data_cleaned_numeric, agg_labels)\n",
        "agg_calinski = calinski_harabasz_score(data_cleaned_numeric, agg_labels)\n",
        "\n",
        "# Tampilkan hasil evaluasi\n",
        "print(f\"AgglomerativeClustering Silhouette Score: {agg_silhouette}\")\n",
        "print(f\"AgglomerativeClustering Davies-Bouldin Index: {agg_davies_bouldin}\")\n",
        "print(f\"AgglomerativeClustering Calinski-Harabasz Score: {agg_calinski}\")\n",
        "\n",
        "# 3. **Visualisasi AgglomerativeClustering (Cluster Scatter Plot)**\n",
        "# Membuat scatter plot dari dua komponen utama (PCA untuk visualisasi 2D)\n",
        "from sklearn.decomposition import PCA\n",
        "\n",
        "# Gunakan PCA untuk mengurangi dimensi data menjadi 2 untuk visualisasi\n",
        "pca = PCA(n_components=2)\n",
        "data_pca = pca.fit_transform(data_cleaned_numeric)\n",
        "\n",
        "# Visualisasi Clustering dengan Plot\n",
        "plt.figure(figsize=(8, 6))\n",
        "plt.scatter(data_pca[:, 0], data_pca[:, 1], c=agg_labels, cmap='viridis', label='Clusters')\n",
        "plt.title('AgglomerativeClustering - Cluster Scatter Plot')\n",
        "plt.xlabel('Principal Component 1')\n",
        "plt.ylabel('Principal Component 2')\n",
        "plt.colorbar(label='Cluster Label')\n",
        "plt.show()\n"
      ],
      "metadata": {
        "id": "GY2wwyFSrf7n"
      },
      "execution_count": null,
      "outputs": []
    },
    {
      "cell_type": "code",
      "source": [
        "from sklearn.cluster import DBSCAN\n",
        "from sklearn.metrics import silhouette_score, davies_bouldin_score, calinski_harabasz_score\n",
        "import matplotlib.pyplot as plt\n",
        "\n",
        "# 1. **DBSCAN Clustering**\n",
        "# DBSCAN tidak memerlukan jumlah cluster, hanya parameter 'eps' dan 'min_samples' yang perlu disesuaikan\n",
        "dbscan = DBSCAN(eps=0.5, min_samples=5)  # Sesuaikan 'eps' dan 'min_samples' jika diperlukan\n",
        "dbscan_labels = dbscan.fit_predict(data_cleaned_numeric)\n",
        "\n",
        "# 2. **Evaluasi Model DBSCAN**\n",
        "# Perhatikan bahwa DBSCAN dapat menghasilkan label -1 untuk noise points, yang berarti tidak ada cluster\n",
        "# Untuk menghitung metrik evaluasi, kita hanya menggunakan data yang memiliki label cluster valid\n",
        "valid_labels = dbscan_labels != -1\n",
        "\n",
        "# Menghitung metrik evaluasi\n",
        "dbscan_silhouette = silhouette_score(data_cleaned_numeric[valid_labels], dbscan_labels[valid_labels]) if valid_labels.sum() > 1 else -1\n",
        "dbscan_davies_bouldin = davies_bouldin_score(data_cleaned_numeric[valid_labels], dbscan_labels[valid_labels]) if valid_labels.sum() > 1 else -1\n",
        "dbscan_calinski = calinski_harabasz_score(data_cleaned_numeric[valid_labels], dbscan_labels[valid_labels]) if valid_labels.sum() > 1 else -1\n",
        "\n",
        "# Tampilkan hasil evaluasi\n",
        "print(f\"DBSCAN Silhouette Score: {dbscan_silhouette}\")\n",
        "print(f\"DBSCAN Davies-Bouldin Index: {dbscan_davies_bouldin}\")\n",
        "print(f\"DBSCAN Calinski-Harabasz Score: {dbscan_calinski}\")\n",
        "\n",
        "# 3. **Visualisasi DBSCAN Clustering**\n",
        "# Visualisasi Clustering dengan Plot (menggunakan PCA)\n",
        "from sklearn.decomposition import PCA\n",
        "pca = PCA(n_components=2)\n",
        "data_pca = pca.fit_transform(data_cleaned_numeric)\n",
        "\n",
        "plt.figure(figsize=(8, 6))\n",
        "plt.scatter(data_pca[:, 0], data_pca[:, 1], c=dbscan_labels, cmap='viridis', label='Clusters')\n",
        "plt.title('DBSCAN Clustering - Cluster Scatter Plot')\n",
        "plt.xlabel('Principal Component 1')\n",
        "plt.ylabel('Principal Component 2')\n",
        "plt.colorbar(label='Cluster Label')\n",
        "plt.show()\n"
      ],
      "metadata": {
        "id": "KGDURxgDr3uv"
      },
      "execution_count": null,
      "outputs": []
    },
    {
      "cell_type": "code",
      "source": [
        "from sklearn.mixture import GaussianMixture\n",
        "from sklearn.metrics import silhouette_score, davies_bouldin_score, calinski_harabasz_score\n",
        "import matplotlib.pyplot as plt\n",
        "\n",
        "# 1. **Gaussian Mixture Model (GMM)**\n",
        "gmm = GaussianMixture(n_components=3, random_state=42)  # Sesuaikan n_components sesuai jumlah cluster yang diinginkan\n",
        "gmm_labels = gmm.fit_predict(data_cleaned_numeric)\n",
        "\n",
        "# 2. **Evaluasi Model GMM**\n",
        "gmm_silhouette = silhouette_score(data_cleaned_numeric, gmm_labels)\n",
        "gmm_davies_bouldin = davies_bouldin_score(data_cleaned_numeric, gmm_labels)\n",
        "gmm_calinski = calinski_harabasz_score(data_cleaned_numeric, gmm_labels)\n",
        "\n",
        "# Tampilkan hasil evaluasi\n",
        "print(f\"GMM Silhouette Score: {gmm_silhouette}\")\n",
        "print(f\"GMM Davies-Bouldin Index: {gmm_davies_bouldin}\")\n",
        "print(f\"GMM Calinski-Harabasz Score: {gmm_calinski}\")\n",
        "\n",
        "# 3. **Visualisasi GMM Clustering**\n",
        "# Visualisasi Clustering dengan Plot (menggunakan PCA)\n",
        "from sklearn.decomposition import PCA\n",
        "pca = PCA(n_components=2)\n",
        "data_pca = pca.fit_transform(data_cleaned_numeric)\n",
        "\n",
        "plt.figure(figsize=(8, 6))\n",
        "plt.scatter(data_pca[:, 0], data_pca[:, 1], c=gmm_labels, cmap='viridis', label='Clusters')\n",
        "plt.title('GMM Clustering - Cluster Scatter Plot')\n",
        "plt.xlabel('Principal Component 1')\n",
        "plt.ylabel('Principal Component 2')\n",
        "plt.colorbar(label='Cluster Label')\n",
        "plt.show()\n"
      ],
      "metadata": {
        "id": "j_jhaaGor4PQ"
      },
      "execution_count": null,
      "outputs": []
    },
    {
      "cell_type": "code",
      "source": [
        "from sklearn.cluster import SpectralClustering\n",
        "from sklearn.metrics import silhouette_score, davies_bouldin_score, calinski_harabasz_score\n",
        "import matplotlib.pyplot as plt\n",
        "\n",
        "# 1. **Spectral Clustering**\n",
        "spectral = SpectralClustering(n_clusters=3, affinity='nearest_neighbors', random_state=42)\n",
        "spectral_labels = spectral.fit_predict(data_cleaned_numeric)\n",
        "\n",
        "# 2. **Evaluasi Model SpectralClustering**\n",
        "spectral_silhouette = silhouette_score(data_cleaned_numeric, spectral_labels)\n",
        "spectral_davies_bouldin = davies_bouldin_score(data_cleaned_numeric, spectral_labels)\n",
        "spectral_calinski = calinski_harabasz_score(data_cleaned_numeric, spectral_labels)\n",
        "\n",
        "# Tampilkan hasil evaluasi\n",
        "print(f\"SpectralClustering Silhouette Score: {spectral_silhouette}\")\n",
        "print(f\"SpectralClustering Davies-Bouldin Index: {spectral_davies_bouldin}\")\n",
        "print(f\"SpectralClustering Calinski-Harabasz Score: {spectral_calinski}\")\n",
        "\n",
        "# 3. **Visualisasi SpectralClustering**\n",
        "# Visualisasi Clustering dengan Plot (menggunakan PCA)\n",
        "from sklearn.decomposition import PCA\n",
        "pca = PCA(n_components=2)\n",
        "data_pca = pca.fit_transform(data_cleaned_numeric)\n",
        "\n",
        "plt.figure(figsize=(8, 6))\n",
        "plt.scatter(data_pca[:, 0], data_pca[:, 1], c=spectral_labels, cmap='viridis', label='Clusters')\n",
        "plt.title('SpectralClustering - Cluster Scatter Plot')\n",
        "plt.xlabel('Principal Component 1')\n",
        "plt.ylabel('Principal Component 2')\n",
        "plt.colorbar(label='Cluster Label')\n",
        "plt.show()\n"
      ],
      "metadata": {
        "id": "frjak-__r67X"
      },
      "execution_count": null,
      "outputs": []
    },
    {
      "cell_type": "markdown",
      "source": [
        "## 3. Penjelasan"
      ],
      "metadata": {
        "id": "LXAR8biJxn0I"
      }
    },
    {
      "cell_type": "markdown",
      "source": [
        "### 1. **K-Means Silhouette Score Rendah dan Inkonsistensi dengan Elbow Method**\n",
        "\n",
        "* **Masalah**:\n",
        "\n",
        "  * **Silhouette Score rendah (0.3)** meskipun **Elbow Method** menunjukkan **K=5** sebagai optimal. Hal ini menunjukkan bahwa meskipun jumlah cluster yang dihasilkan oleh **Elbow Method** tampaknya tepat secara visual, kualitas cluster yang terbentuk tidak optimal, yang mengarah pada nilai silhouette score yang rendah.\n",
        "  * Salah satu penyebab utama inkonsistensi ini adalah **distribusi data yang non-spherical**. KMeans bekerja dengan asumsi bahwa data dalam cluster membentuk **bentuk bola** (spherical clusters) yang terpisah satu sama lain. Namun, jika data sebenarnya membentuk cluster dengan bentuk yang lebih kompleks (misalnya, bentuk elips atau memanjang), KMeans mungkin tidak dapat membedakan cluster secara efektif, mengarah pada nilai silhouette yang rendah meskipun jumlah cluster sudah optimal secara visual.\n",
        "\n",
        "* **Strategi Validasi Alternatif**:\n",
        "\n",
        "  * **Analisis Gap Statistic**: Mengukur perbedaan antara variansi clustering aktual dengan variansi clustering pada data acak (dengan distribusi yang tidak terstruktur). Gap Statistic dapat memberikan indikasi yang lebih kuat tentang jumlah cluster optimal karena mempertimbangkan variasi dalam data.\n",
        "  * **Validasi Stabilitas Cluster via Bootstrapping**: Menggunakan teknik bootstrapping untuk mengambil sampel acak dari dataset dan memeriksa stabilitas hasil clustering di setiap iterasi. Jika cluster yang terbentuk stabil pada berbagai subset data, maka clustering tersebut lebih valid.\n",
        "\n",
        "* **Mengapa Distribusi Non-Spherical Menjadi Masalah**:\n",
        "\n",
        "  * KMeans menggunakan **jarak Euclidean** untuk memisahkan data ke dalam cluster. Ini membuat KMeans lebih cocok untuk data yang terdistribusi dalam bentuk **lingkaran atau bola**. Jika cluster data berbentuk **non-spherical** (misalnya, berbentuk memanjang atau berkelok), KMeans akan kesulitan memisahkan data dengan benar, sehingga hasil clustering yang buruk dan nilai silhouette yang rendah.\n",
        "\n",
        "---\n",
        "\n",
        "### 2. **Metode Preprocessing untuk Fitur Numerik dan Kategorikal High-Cardinality**\n",
        "\n",
        "* **Fitur Numerik dan Kategorikal High-Cardinality**:\n",
        "\n",
        "  * **Numerik**: **Quantity** dan **UnitPrice** dapat diproses dengan **standardisasi** atau **normalisasi** untuk menyelaraskan skala, menghindari dominasi fitur dengan skala besar pada model clustering.\n",
        "  * **Kategorikal**: **Description** sebagai fitur kategorikal dengan banyak kategori (high-cardinality) membutuhkan representasi yang efisien.\n",
        "\n",
        "* **Risiko Menggunakan One-Hot Encoding untuk Description**:\n",
        "\n",
        "  * **One-Hot Encoding** untuk kolom **Description** akan menghasilkan banyak kolom biner (satu untuk setiap kategori unik), yang menyebabkan peningkatan **dimensi** yang sangat tinggi dan berisiko **sparse matrix** yang sulit diproses.\n",
        "  * Selain itu, **One-Hot Encoding** tidak mempertimbangkan urutan atau kesamaan semantik antara kategori, sehingga hubungan semantik antar kategori **tidak tercapture**, yang dapat mengurangi kualitas clustering.\n",
        "\n",
        "* **Teknik yang Lebih Robus**:\n",
        "\n",
        "  * **TF-IDF**: Representasi teks ini memperhitungkan frekuensi kemunculan kata dalam suatu dokumen dan membandingkannya dengan frekuensi kata tersebut di seluruh dokumen. Ini lebih robust karena **mengurangi pengaruh kata-kata yang sering muncul di seluruh dataset** dan lebih menekankan kata-kata yang penting dalam konteks tertentu.\n",
        "  * **Embedding Berdimensi Rendah (seperti UMAP)**: **Embedding teks** dalam ruang berdimensi rendah dengan teknik seperti **UMAP (Uniform Manifold Approximation and Projection)** memungkinkan representasi yang lebih kompak dan dapat **mempertahankan hubungan struktural** antar kategori. Teknik ini mengurangi dimensi secara efisien sambil menjaga hubungan semantik antar kategori.\n",
        "\n",
        "---\n",
        "\n",
        "### 3. **Menentukan Nilai Epsilon Optimal pada DBSCAN untuk Data Tidak Seimbang**\n",
        "\n",
        "* **Masalah**: DBSCAN sangat sensitif terhadap parameter **epsilon** (eps) yang menentukan jarak maksimal antara titik dalam cluster. Data yang tidak seimbang (misalnya, 90% pelanggan dari UK) bisa menyebabkan DBSCAN gagal mendeteksi cluster yang padat dan menghasilkan banyak titik sebagai **noise**.\n",
        "\n",
        "* **Menentukan Epsilon secara Adaptif**:\n",
        "\n",
        "  * **K-Distance Graph**: Ini adalah teknik untuk menentukan nilai **epsilon** secara adaptif. Anda menghitung jarak ke titik terdekat **k** untuk setiap titik, kemudian menggambar grafik untuk melihat **\"elbow\"** atau perubahan tajam dalam jarak tersebut. **Epsilon** optimal adalah nilai pada titik ini, yang memisahkan titik yang sangat dekat dengan titik yang lebih jauh.\n",
        "  * **Kuartil ke-3 (Q3)**: Dengan menggunakan **kuartil ke-3** dari jarak k-nearest neighbors, Anda bisa menentukan ambang batas di mana data yang lebih jauh dari nilai ini bisa dianggap sebagai **noise** dan tidak dimasukkan dalam cluster.\n",
        "\n",
        "* **Mengapa MinPts Harus Disesuaikan**:\n",
        "\n",
        "  * **MinPts** adalah jumlah minimum titik yang dibutuhkan untuk membentuk cluster. Jika data sangat tidak seimbang, **MinPts** harus disesuaikan berdasarkan kerapatan lokal dari cluster, terutama pada area yang lebih padat (misalnya, pelanggan di UK).\n",
        "\n",
        "---\n",
        "\n",
        "### 4. **Mengatasi Overlap antara Cluster \"High-Value Customers\" dan \"Bulk Buyers\"**\n",
        "\n",
        "* **Masalah**: Jika cluster seperti **\"high-value customers\"** dan **\"bulk buyers\"** tumpang tindih berdasarkan total pengeluaran, mungkin ada kesulitan dalam memisahkan cluster menggunakan metode unsupervised seperti KMeans atau DBSCAN.\n",
        "\n",
        "* **Teknik Semi-Supervised dan Integrasi Metric Learning**:\n",
        "\n",
        "  * **Constrained Clustering (Semi-Supervised)**: Menggunakan **constraints** (seperti **must-link** atau **cannot-link** constraints) untuk memberi informasi tambahan pada model tentang data yang seharusnya tergabung dalam cluster yang sama atau berbeda.\n",
        "  * **Integrasi Metric Learning**: **Mahalanobis distance** adalah jarak yang lebih fleksibel dibandingkan Euclidean. Dengan menggunakan **metric learning**, kita bisa mempelajari **metric jarak yang lebih sesuai** dengan struktur data dan pemisahan cluster.\n",
        "\n",
        "* **Tantangan Interpretabilitas**:\n",
        "\n",
        "  * **Metric Learning dan Non-Euclidean Spaces**: Menggunakan **Mahalanobis distance** atau pendekatan non-Euclidean lainnya bisa **mengurangi interpretabilitas**. **Jarak Mahalanobis** mengubah cara kita mengukur jarak antar titik, yang membuatnya lebih sulit untuk menjelaskan cluster berdasarkan intuisi bisnis biasa.\n",
        "\n",
        "---\n",
        "\n",
        "### 5. **Merancang Temporal Features untuk InvoiceDate dan Risiko Data Leakage**\n",
        "\n",
        "* **Merancang Fitur Temporal**:\n",
        "\n",
        "  * **Hari dalam Minggu** dan **Jam Pembelian**: Dapat diambil dari kolom **InvoiceDate** untuk mengidentifikasi pola pembelian periodik, seperti transaksi pagi vs. malam.\n",
        "  * **Fitur Waktu**: `data_cleaned['InvoiceDate'].dt.weekday` untuk hari dalam minggu, dan `data_cleaned['InvoiceDate'].dt.hour` untuk jam pembelian.\n",
        "\n",
        "* **Risiko Data Leakage**:\n",
        "\n",
        "  * **Data Leakage** dapat terjadi jika **agregasi temporal** (misalnya, rata-rata pembelian bulanan) dilakukan pada data yang mencakup **informasi masa depan**. Untuk menghindari ini, kita harus menggunakan **time-based cross-validation** untuk memastikan bahwa model hanya melihat data yang sudah tersedia pada saat pembelian (tidak menggunakan data masa depan).\n",
        "\n",
        "* **Lag Features**:\n",
        "\n",
        "  * **Lag Features** (misalnya, pembelian 7 hari sebelumnya) dapat menambah **noise** karena **periode waktu yang lebih panjang** mungkin tidak relevan untuk cluster tertentu. Penggunaan **lag features** bisa memperkenalkan fluktuasi yang tidak mencerminkan pola yang sebenarnya, sehingga mengaburkan hasil clustering.\n",
        "\n"
      ],
      "metadata": {
        "id": "wosRbu56xK1Q"
      }
    }
  ]
}