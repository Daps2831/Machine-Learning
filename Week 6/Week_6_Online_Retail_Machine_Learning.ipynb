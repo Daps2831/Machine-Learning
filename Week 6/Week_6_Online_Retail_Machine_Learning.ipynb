{
  "nbformat": 4,
  "nbformat_minor": 0,
  "metadata": {
    "colab": {
      "provenance": [],
      "authorship_tag": "ABX9TyNCWQWF8q91yhR5+mCtDooZ",
      "include_colab_link": true
    },
    "kernelspec": {
      "name": "python3",
      "display_name": "Python 3"
    },
    "language_info": {
      "name": "python"
    }
  },
  "cells": [
    {
      "cell_type": "markdown",
      "metadata": {
        "id": "view-in-github",
        "colab_type": "text"
      },
      "source": [
        "<a href=\"https://colab.research.google.com/github/Daps2831/Machine-Learning/blob/main/Week%206/Week_6_Online_Retail_Machine_Learning.ipynb\" target=\"_parent\"><img src=\"https://colab.research.google.com/assets/colab-badge.svg\" alt=\"Open In Colab\"/></a>"
      ]
    },
    {
      "cell_type": "markdown",
      "source": [
        "# Mount file"
      ],
      "metadata": {
        "id": "pYlAokCyPsyf"
      }
    },
    {
      "cell_type": "code",
      "source": [
        "from google.colab import drive\n",
        "drive.mount('/content/drive')"
      ],
      "metadata": {
        "colab": {
          "base_uri": "https://localhost:8080/"
        },
        "id": "yGrZOkl4Prvv",
        "outputId": "196274fc-011a-4e49-8d56-68568395d1d5"
      },
      "execution_count": 1,
      "outputs": [
        {
          "output_type": "stream",
          "name": "stdout",
          "text": [
            "Mounted at /content/drive\n"
          ]
        }
      ]
    },
    {
      "cell_type": "code",
      "execution_count": 5,
      "metadata": {
        "id": "cD1TYiumPGEu"
      },
      "outputs": [],
      "source": [
        "import pandas as pd\n",
        "\n",
        "# Ganti path sesuai lokasi file di Google Drive\n",
        "file_path = \"/content/drive/MyDrive/Dataset/Online-Retail.xlsx\"\n",
        "# Membaca file Excel\n",
        "df = pd.read_excel(file_path)"
      ]
    },
    {
      "cell_type": "markdown",
      "source": [
        "# EDA & Preprocessing"
      ],
      "metadata": {
        "id": "GgJXS0LGRg0X"
      }
    },
    {
      "cell_type": "code",
      "source": [
        "# Tampilkan kolom kategorikal dan numerikal\n",
        "print(\"\\n--- Semua Kolom ---\")\n",
        "print(df.columns.tolist())\n",
        "\n",
        "# Pisahkan kolom numerikal dan kategorikal\n",
        "numerical_cols = df.select_dtypes(include=['int64', 'float64']).columns\n",
        "categorical_cols = df.select_dtypes(include=['object']).columns\n",
        "\n",
        "print(\"\\n--- Kolom Categorikal ---\")\n",
        "print(list(categorical_cols))\n",
        "print(\"\\n--- Kolom Numerikal ---\")\n",
        "print(list(numerical_cols))"
      ],
      "metadata": {
        "colab": {
          "base_uri": "https://localhost:8080/"
        },
        "id": "DM6hEC2IRmRG",
        "outputId": "2f6d34fb-ca6e-4923-dd82-4a38761db2e9"
      },
      "execution_count": 6,
      "outputs": [
        {
          "output_type": "stream",
          "name": "stdout",
          "text": [
            "\n",
            "--- Semua Kolom ---\n",
            "['InvoiceNo', 'StockCode', 'Description', 'Quantity', 'InvoiceDate', 'UnitPrice', 'CustomerID', 'Country']\n",
            "\n",
            "--- Kolom Categorikal ---\n",
            "['InvoiceNo', 'StockCode', 'Description', 'Country']\n",
            "\n",
            "--- Kolom Numerikal ---\n",
            "['Quantity', 'UnitPrice', 'CustomerID']\n"
          ]
        }
      ]
    },
    {
      "cell_type": "code",
      "source": [
        "# 2. Lihat 5 baris pertama untuk memahami isinya\n",
        "print(\"Lima baris pertama dari data:\")\n",
        "print(df.head())\n",
        "\n",
        "print(\"\\n\" + \"=\"*40 + \"\\n\")\n",
        "\n",
        "# 3. Lihat informasi dasar (tipe data, jumlah data non-null)\n",
        "print(\"Informasi dasar dan tipe data:\")\n",
        "df.info()\n",
        "\n",
        "print(\"\\n\" + \"=\"*40 + \"\\n\")\n",
        "\n",
        "# 4. Lihat ringkasan statistik untuk kolom numerik\n",
        "print(\"Ringkasan statistik data:\")\n",
        "print(df.describe())"
      ],
      "metadata": {
        "colab": {
          "base_uri": "https://localhost:8080/"
        },
        "id": "jyBPpxhKRxQu",
        "outputId": "95db0c38-10cc-404c-d865-4f10cb18f4da"
      },
      "execution_count": 7,
      "outputs": [
        {
          "output_type": "stream",
          "name": "stdout",
          "text": [
            "Lima baris pertama dari data:\n",
            "  InvoiceNo StockCode                          Description  Quantity  \\\n",
            "0    536365    85123A   WHITE HANGING HEART T-LIGHT HOLDER         6   \n",
            "1    536365     71053                  WHITE METAL LANTERN         6   \n",
            "2    536365    84406B       CREAM CUPID HEARTS COAT HANGER         8   \n",
            "3    536365    84029G  KNITTED UNION FLAG HOT WATER BOTTLE         6   \n",
            "4    536365    84029E       RED WOOLLY HOTTIE WHITE HEART.         6   \n",
            "\n",
            "          InvoiceDate  UnitPrice  CustomerID         Country  \n",
            "0 2010-12-01 08:26:00       2.55     17850.0  United Kingdom  \n",
            "1 2010-12-01 08:26:00       3.39     17850.0  United Kingdom  \n",
            "2 2010-12-01 08:26:00       2.75     17850.0  United Kingdom  \n",
            "3 2010-12-01 08:26:00       3.39     17850.0  United Kingdom  \n",
            "4 2010-12-01 08:26:00       3.39     17850.0  United Kingdom  \n",
            "\n",
            "========================================\n",
            "\n",
            "Informasi dasar dan tipe data:\n",
            "<class 'pandas.core.frame.DataFrame'>\n",
            "RangeIndex: 541909 entries, 0 to 541908\n",
            "Data columns (total 8 columns):\n",
            " #   Column       Non-Null Count   Dtype         \n",
            "---  ------       --------------   -----         \n",
            " 0   InvoiceNo    541909 non-null  object        \n",
            " 1   StockCode    541909 non-null  object        \n",
            " 2   Description  540455 non-null  object        \n",
            " 3   Quantity     541909 non-null  int64         \n",
            " 4   InvoiceDate  541909 non-null  datetime64[ns]\n",
            " 5   UnitPrice    541909 non-null  float64       \n",
            " 6   CustomerID   406829 non-null  float64       \n",
            " 7   Country      541909 non-null  object        \n",
            "dtypes: datetime64[ns](1), float64(2), int64(1), object(4)\n",
            "memory usage: 33.1+ MB\n",
            "\n",
            "========================================\n",
            "\n",
            "Ringkasan statistik data:\n",
            "            Quantity                    InvoiceDate      UnitPrice  \\\n",
            "count  541909.000000                         541909  541909.000000   \n",
            "mean        9.552250  2011-07-04 13:34:57.156386048       4.611114   \n",
            "min    -80995.000000            2010-12-01 08:26:00  -11062.060000   \n",
            "25%         1.000000            2011-03-28 11:34:00       1.250000   \n",
            "50%         3.000000            2011-07-19 17:17:00       2.080000   \n",
            "75%        10.000000            2011-10-19 11:27:00       4.130000   \n",
            "max     80995.000000            2011-12-09 12:50:00   38970.000000   \n",
            "std       218.081158                            NaN      96.759853   \n",
            "\n",
            "          CustomerID  \n",
            "count  406829.000000  \n",
            "mean    15287.690570  \n",
            "min     12346.000000  \n",
            "25%     13953.000000  \n",
            "50%     15152.000000  \n",
            "75%     16791.000000  \n",
            "max     18287.000000  \n",
            "std      1713.600303  \n"
          ]
        }
      ]
    },
    {
      "cell_type": "code",
      "source": [
        "# Cek nilai yang hilang\n",
        "print(\"\\n--- Nilai Hilang ---\")\n",
        "print(df.isnull().sum())\n",
        "print(f\"Jumlah baris sebelum menangani missing values: {len(df)}\")"
      ],
      "metadata": {
        "colab": {
          "base_uri": "https://localhost:8080/"
        },
        "id": "Uc7kFxKhR0en",
        "outputId": "b1ae9ec4-27e6-4967-ba17-a4350a2ff729"
      },
      "execution_count": 8,
      "outputs": [
        {
          "output_type": "stream",
          "name": "stdout",
          "text": [
            "\n",
            "--- Nilai Hilang ---\n",
            "InvoiceNo           0\n",
            "StockCode           0\n",
            "Description      1454\n",
            "Quantity            0\n",
            "InvoiceDate         0\n",
            "UnitPrice           0\n",
            "CustomerID     135080\n",
            "Country             0\n",
            "dtype: int64\n",
            "Jumlah baris sebelum menangani missing values: 541909\n"
          ]
        }
      ]
    },
    {
      "cell_type": "markdown",
      "source": [
        "* Description: 1454: Ada 1454 baris di mana nama barang tidak tercatat. Untuk analisis RFM kita, kolom ini tidak akan digunakan, jadi ini tidak menjadi masalah besar.\n",
        "* CustomerID: 135080: Ini yang paling penting. Ada 135.080 transaksi yang tidak tercatat siapa pelanggannya. Kemungkinan ini adalah transaksi tamu (guest checkout). Karena tujuan kita adalah mengelompokkan pelanggan, maka data tanpa CustomerID ini tidak dapat kita gunakan.\n",
        "\n",
        "Jadi, langkah Anda selanjutnya sudah sangat jelas: kita harus membuang semua baris (transaksi) yang tidak memiliki CustomerID.\n",
        "\n"
      ],
      "metadata": {
        "id": "dEnGzlTYSi3G"
      }
    },
    {
      "cell_type": "markdown",
      "source": [
        "Dari output df.info() (yang akan Anda lihat saat menjalankan kode), kita tahu ada beberapa hal yang perlu diperbaiki:\n",
        "\n",
        "Missing Values: CustomerID memiliki banyak nilai yang kosong (null). Karena kita ingin mengelompokkan pelanggan, baris tanpa CustomerID tidak berguna dan harus dihapus.\n",
        "Data Tidak Relevan:\n",
        "Quantity ada yang bernilai negatif. Ini biasanya menandakan transaksi retur (pengembalian barang) dan harus kita buang agar tidak mengganggu perhitungan.\n",
        "UnitPrice ada yang bernilai 0. Ini juga tidak relevan untuk analisis moneter.\n",
        "Tipe Data: InvoiceDate harus diubah menjadi format datetime agar bisa dihitung selisih waktunya untuk Recency."
      ],
      "metadata": {
        "id": "1fdPpXFJTH0W"
      }
    },
    {
      "cell_type": "code",
      "source": [
        "# 1. Menghapus baris dimana CustomerID kosong\n",
        "df.dropna(axis=0, subset=['CustomerID'], inplace=True)\n",
        "\n",
        "# 2. Mengubah tipe data CustomerID menjadi integer agar lebih rapi\n",
        "df['CustomerID'] = df['CustomerID'].astype(int)\n",
        "\n",
        "# 3. Menghapus transaksi retur (Quantity < 0)\n",
        "df = df[df['Quantity'] > 0]\n",
        "\n",
        "# 4. Menghapus data dengan harga 0\n",
        "df = df[df['UnitPrice'] > 0]\n",
        "\n",
        "# 5. Mengubah InvoiceDate menjadi tipe datetime\n",
        "df['InvoiceDate'] = pd.to_datetime(df['InvoiceDate'], format='%m/%d/%Y %H:%M')\n",
        "\n",
        "print(\"Data setelah dibersihkan:\")\n",
        "df.info()"
      ],
      "metadata": {
        "colab": {
          "base_uri": "https://localhost:8080/"
        },
        "id": "Jlxirp5nSsKo",
        "outputId": "5fb90ee7-00dd-4bdc-e49a-a295aafe64d4"
      },
      "execution_count": 9,
      "outputs": [
        {
          "output_type": "stream",
          "name": "stdout",
          "text": [
            "Data setelah dibersihkan:\n",
            "<class 'pandas.core.frame.DataFrame'>\n",
            "Index: 397884 entries, 0 to 541908\n",
            "Data columns (total 8 columns):\n",
            " #   Column       Non-Null Count   Dtype         \n",
            "---  ------       --------------   -----         \n",
            " 0   InvoiceNo    397884 non-null  object        \n",
            " 1   StockCode    397884 non-null  object        \n",
            " 2   Description  397884 non-null  object        \n",
            " 3   Quantity     397884 non-null  int64         \n",
            " 4   InvoiceDate  397884 non-null  datetime64[ns]\n",
            " 5   UnitPrice    397884 non-null  float64       \n",
            " 6   CustomerID   397884 non-null  int64         \n",
            " 7   Country      397884 non-null  object        \n",
            "dtypes: datetime64[ns](1), float64(1), int64(2), object(4)\n",
            "memory usage: 27.3+ MB\n"
          ]
        }
      ]
    },
    {
      "cell_type": "markdown",
      "source": [
        "Membuat Fitur RFM (Feature Engineering)\n",
        "Sekarang data sudah bersih, kita bisa mulai membuat tabel RFM.\n",
        "\n",
        "Menghitung Total Harga: Kita butuh kolom baru TotalPrice yang merupakan hasil dari Quantity * UnitPrice.\n",
        "Menentukan Tanggal Snapshot: Untuk menghitung Recency, kita perlu satu titik waktu sebagai acuan. Kita akan menggunakan satu hari setelah tanggal transaksi terakhir di dataset.\n",
        "Mengelompokkan per Pelanggan: Kita akan menggunakan groupby() pada CustomerID dan menghitung nilai R, F, dan M untuk setiap pelanggan."
      ],
      "metadata": {
        "id": "bh7E3m1OTPpO"
      }
    },
    {
      "cell_type": "code",
      "source": [
        "import datetime as dt\n",
        "\n",
        "# 1. Membuat kolom TotalPrice\n",
        "df['TotalPrice'] = df['Quantity'] * df['UnitPrice']\n",
        "\n",
        "# 2. Menentukan tanggal snapshot (1 hari setelah transaksi terakhir)\n",
        "snapshot_date = df['InvoiceDate'].max() + dt.timedelta(days=1)\n",
        "print(f\"Tanggal Snapshot (acuan Recency): {snapshot_date}\")\n",
        "\n",
        "# 3. Menghitung nilai RFM\n",
        "rfm_df = df.groupby('CustomerID').agg({\n",
        "    'InvoiceDate': lambda date: (snapshot_date - date.max()).days, # Recency\n",
        "    'InvoiceNo': 'nunique',                                     # Frequency (jumlah transaksi unik)\n",
        "    'TotalPrice': 'sum'                                         # Monetary\n",
        "})\n",
        "\n",
        "# Mengganti nama kolom agar lebih deskriptif\n",
        "rfm_df.rename(columns={'InvoiceDate': 'Recency',\n",
        "                       'InvoiceNo': 'Frequency',\n",
        "                       'TotalPrice': 'MonetaryValue'}, inplace=True)\n",
        "\n",
        "print(\"\\n5 Baris pertama dari Data RFM yang sudah jadi:\")\n",
        "print(rfm_df.head())\n",
        "\n",
        "print(\"\\nDeskripsi Statistik dari Data RFM:\")\n",
        "print(rfm_df.describe())"
      ],
      "metadata": {
        "colab": {
          "base_uri": "https://localhost:8080/"
        },
        "id": "eFl3DjNHTQTl",
        "outputId": "17bfb2f2-f023-46f0-ba4e-af356188386d"
      },
      "execution_count": 11,
      "outputs": [
        {
          "output_type": "stream",
          "name": "stdout",
          "text": [
            "Tanggal Snapshot (acuan Recency): 2011-12-10 12:50:00\n",
            "\n",
            "5 Baris pertama dari Data RFM yang sudah jadi:\n",
            "            Recency  Frequency  MonetaryValue\n",
            "CustomerID                                   \n",
            "12346           326          1       77183.60\n",
            "12347             2          7        4310.00\n",
            "12348            75          4        1797.24\n",
            "12349            19          1        1757.55\n",
            "12350           310          1         334.40\n",
            "\n",
            "Deskripsi Statistik dari Data RFM:\n",
            "           Recency    Frequency  MonetaryValue\n",
            "count  4338.000000  4338.000000    4338.000000\n",
            "mean     92.536422     4.272015    2054.266460\n",
            "std     100.014169     7.697998    8989.230441\n",
            "min       1.000000     1.000000       3.750000\n",
            "25%      18.000000     1.000000     307.415000\n",
            "50%      51.000000     2.000000     674.485000\n",
            "75%     142.000000     5.000000    1661.740000\n",
            "max     374.000000   209.000000  280206.020000\n"
          ]
        }
      ]
    },
    {
      "cell_type": "markdown",
      "source": [
        "Menyamakan Skala Data (Data Scaling)\n",
        "Kita akan menggunakan metode StandardScaler dari library scikit-learn. Metode ini akan mengubah setiap fitur sehingga memiliki rata-rata (mean) 0 dan standar deviasi 1."
      ],
      "metadata": {
        "id": "OYP0QEZQUxX-"
      }
    },
    {
      "cell_type": "code",
      "source": [
        "\n",
        "from sklearn.preprocessing import StandardScaler\n",
        "\n",
        "# Ambil hanya nilai dari dataframe RFM\n",
        "rfm_values = rfm_df.values\n",
        "\n",
        "# Buat objek scaler\n",
        "scaler = StandardScaler()\n",
        "\n",
        "# Lakukan scaling pada data\n",
        "rfm_scaled = scaler.fit_transform(rfm_values)\n",
        "\n",
        "# Ubah kembali ke format DataFrame agar mudah dibaca\n",
        "rfm_scaled_df = pd.DataFrame(rfm_scaled, columns=rfm_df.columns, index=rfm_df.index)\n",
        "\n",
        "print(\"--- Data RFM Setelah di-Scaling ---\")\n",
        "print(rfm_scaled_df.head())\n",
        "\n",
        "print(\"\\n--- Statistik Deskriptif Setelah di-Scaling ---\")\n",
        "print(rfm_scaled_df.describe())"
      ],
      "metadata": {
        "colab": {
          "base_uri": "https://localhost:8080/"
        },
        "id": "wn7mnzGBTnQO",
        "outputId": "843e7509-1421-4ccf-c663-aa15576d6c1c"
      },
      "execution_count": 12,
      "outputs": [
        {
          "output_type": "stream",
          "name": "stdout",
          "text": [
            "--- Data RFM Setelah di-Scaling ---\n",
            "             Recency  Frequency  MonetaryValue\n",
            "CustomerID                                    \n",
            "12346       2.334574  -0.425097       8.358668\n",
            "12347      -0.905340   0.354417       0.250966\n",
            "12348      -0.175360  -0.035340      -0.028596\n",
            "12349      -0.735345  -0.425097      -0.033012\n",
            "12350       2.174578  -0.425097      -0.191347\n",
            "\n",
            "--- Statistik Deskriptif Setelah di-Scaling ---\n",
            "            Recency     Frequency  MonetaryValue\n",
            "count  4.338000e+03  4.338000e+03   4.338000e+03\n",
            "mean   2.702618e-17  1.801745e-17   1.801745e-17\n",
            "std    1.000115e+00  1.000115e+00   1.000115e+00\n",
            "min   -9.153401e-01 -4.250965e-01  -2.281344e-01\n",
            "25%   -7.453445e-01 -4.250965e-01  -1.943495e-01\n",
            "50%   -4.153533e-01 -2.951776e-01  -1.535104e-01\n",
            "75%    4.946227e-01  9.457903e-02  -4.367134e-02\n",
            "max    2.814561e+00  2.659803e+01   3.094634e+01\n"
          ]
        }
      ]
    },
    {
      "cell_type": "markdown",
      "source": [
        "\n",
        "\n",
        "#### ** Menentukan Jumlah Cluster Optimal (`k`)**\n",
        "\n",
        "Inilah inti dari pertanyaan kedua dosen Anda. Kita akan menggunakan dua metode paling populer: **Elbow Method** dan **Silhouette Coefficient**. Kita juga akan membahas metrik lainnya.\n",
        "\n",
        "**1. Elbow Method**\n",
        "\n",
        "* **Konsep:** Menjalankan algoritma K-Means (salah satu jenis clustering) untuk berbagai jumlah cluster `k` (misalnya, dari 2 sampai 10). Untuk setiap `k`, kita hitung **WCSS (Within-Cluster Sum of Squares)**. WCSS adalah total jarak kuadrat antara setiap titik data dengan pusat cluster-nya (centroid). Logikanya, semakin banyak cluster, semakin kecil WCSS. Kita mencari titik \"siku\" (elbow) pada grafik, di mana penurunan WCSS tidak lagi signifikan. Titik siku itulah `k` yang direkomendasikan.\n",
        "\n",
        "* **Persamaan Matematika (WCSS / Inertia):**\n",
        "    $$WCSS = \\sum_{i=1}^{k} \\sum_{p \\in C_i} \\|p - m_i\\|^2$$\n",
        "    Penjelasan:\n",
        "    * $k$: Jumlah total cluster.\n",
        "    * $C_i$: Cluster ke-$i$.\n",
        "    * $p$: Sebuah titik data (pelanggan) yang termasuk dalam cluster $C_i$.\n",
        "    * $m_i$: Pusat (centroid) dari cluster $C_i$.\n",
        "    * $\\|p - m_i\\|^2$: Jarak kuadrat (Euclidean) dari titik data $p$ ke pusat cluster-nya $m_i$.\n",
        "    * **Artinya:** \"Untuk setiap cluster, hitung total jarak kuadrat dari semua titik di dalamnya ke pusatnya. Kemudian, jumlahkan total jarak dari semua cluster.\"\n",
        "\n",
        "**2. Silhouette Coefficient**\n",
        "\n",
        "* **Konsep:** Metrik ini mengukur seberapa \"mirip\" sebuah objek dengan cluster-nya sendiri dibandingkan dengan cluster lain. Nilainya berkisar dari -1 hingga 1.\n",
        "    * **Skor mendekati +1:** Objek sangat cocok di dalam cluster-nya dan jauh dari cluster tetangga. (Sangat baik)\n",
        "    * **Skor 0:** Objek berada di perbatasan antara dua cluster.\n",
        "    * **Skor mendekati -1:** Objek mungkin salah ditempatkan di dalam cluster.\n",
        "    Kita mencari `k` yang memberikan rata-rata Silhouette Score tertinggi.\n",
        "\n",
        "* **Persamaan Matematika:**\n",
        "    Untuk satu titik data $i$:\n",
        "    $$s(i) = \\frac{b(i) - a(i)}{\\max\\{a(i), b(i)\\}}$$\n",
        "    Penjelasan:\n",
        "    * $s(i)$: Silhouette Coefficient dari titik data $i$.\n",
        "    * $a(i)$: Rata-rata jarak dari $i$ ke semua titik lain **di dalam cluster yang sama**. Ini mengukur seberapa padat cluster-nya (kohesi). Nilai $a(i)$ yang kecil itu baik.\n",
        "    * $b(i)$: Rata-rata jarak dari $i$ ke semua titik **di cluster tetangga terdekat**. Ini mengukur seberapa jauh cluster satu dengan lainnya (separasi). Nilai $b(i)$ yang besar itu baik.\n",
        "    * **Artinya:** Skor ini tinggi jika jarak internal ($a(i)$) jauh lebih kecil daripada jarak ke cluster tetangga ($b(i)$).\n",
        "\n",
        "---\n"
      ],
      "metadata": {
        "id": "1YyyMUh9U2Hl"
      }
    },
    {
      "cell_type": "code",
      "source": [
        "\n",
        "from sklearn.cluster import KMeans\n",
        "from sklearn.metrics import silhouette_score\n",
        "import matplotlib.pyplot as plt\n",
        "import seaborn as sns\n",
        "\n",
        "# Siapkan list untuk menyimpan nilai WCSS dan Silhouette\n",
        "wcss_list = []\n",
        "silhouette_scores = []\n",
        "k_range = range(2, 11) # Kita akan mencoba k dari 2 sampai 10\n",
        "\n",
        "for k in k_range:\n",
        "    # Membuat model K-Means\n",
        "    kmeans = KMeans(n_clusters=k, init='k-means++', random_state=42, n_init=10)\n",
        "    kmeans.fit(rfm_scaled_df)\n",
        "\n",
        "    # Menghitung dan menyimpan WCSS (inertia)\n",
        "    wcss_list.append(kmeans.inertia_)\n",
        "\n",
        "    # Menghitung dan menyimpan Silhouette Score\n",
        "    silhouette_scores.append(silhouette_score(rfm_scaled_df, kmeans.labels_))\n",
        "\n",
        "# --- Membuat Plot ---\n",
        "\n",
        "# 1. Plot Elbow Method\n",
        "plt.figure(figsize=(12, 6))\n",
        "plt.subplot(1, 2, 1)\n",
        "plt.plot(k_range, wcss_list, marker='o', linestyle='--')\n",
        "plt.title('Elbow Method')\n",
        "plt.xlabel('Jumlah Cluster (k)')\n",
        "plt.ylabel('WCSS (Inertia)')\n",
        "plt.grid(True)\n",
        "\n",
        "# 2. Plot Silhouette Score\n",
        "plt.subplot(1, 2, 2)\n",
        "plt.plot(k_range, silhouette_scores, marker='o', linestyle='--')\n",
        "plt.title('Silhouette Scores untuk Setiap k')\n",
        "plt.xlabel('Jumlah Cluster (k)')\n",
        "plt.ylabel('Rata-rata Silhouette Score')\n",
        "plt.grid(True)\n",
        "\n",
        "plt.tight_layout()\n",
        "plt.show()"
      ],
      "metadata": {
        "colab": {
          "base_uri": "https://localhost:8080/",
          "height": 607
        },
        "id": "HSku-SwEVGDm",
        "outputId": "19b5ca46-6bba-444f-fc67-f8175b8779b7"
      },
      "execution_count": 13,
      "outputs": [
        {
          "output_type": "display_data",
          "data": {
            "text/plain": [
              "<Figure size 1200x600 with 2 Axes>"
            ],
            "image/png": "[encoded data removed]"
          },
          "metadata": {}
        }
      ]
    },
    {
      "cell_type": "markdown",
      "source": [
        "### Analisis Hasil Grafik\n",
        "\n",
        "Mari kita bedah kedua grafik yang Anda hasilkan.\n",
        "\n",
        "**1. Analisis Grafik Elbow Method **\n",
        "\n",
        "* **Apa yang kita cari:** Titik \"siku\" (elbow), di mana penurunan kurva WCSS (Inertia) mulai melandai secara signifikan. Ini menandakan bahwa penambahan cluster baru tidak lagi memberikan pengurangan jarak yang berarti.\n",
        "* **Pada grafik Anda:**\n",
        "    * Terlihat penurunan yang sangat tajam dari k=2 ke k=3.\n",
        "    * Penurunan dari k=3 ke k=4 juga masih cukup jelas.\n",
        "    * **Setelah k=4, kurva menjadi jauh lebih landai.** Penurunan dari k=4 ke k=5, dan seterusnya, tidak lagi drastis.\n",
        "* **Kesimpulan dari Elbow Method:** Kandidat terbaik untuk `k` adalah **3** atau **4**.\n",
        "\n",
        "**2. Analisis Grafik Silhouette Score **\n",
        "\n",
        "* **Apa yang kita cari:** Nilai `k` yang menghasilkan rata-rata Silhouette Score **tertinggi**. Skor yang lebih tinggi berarti cluster lebih padat dan lebih terpisah satu sama lain.\n",
        "* **Pada grafik Anda:**\n",
        "    * Skor tertinggi jelas dicapai pada **k=2** (dengan skor sekitar 0.38).\n",
        "    * Setelah k=2, skornya cenderung menurun. k=3 memiliki skor ~0.33 dan k=4 memiliki skor ~0.32.\n",
        "* **Kesimpulan dari Silhouette Score:** Rekomendasi terbaik adalah **k=2**.\n",
        "\n",
        "### Menangani Rekomendasi yang Berbeda\n",
        "\n",
        "Di sini kita menemukan situasi yang sangat umum dan penting dalam machine learning: **metode evaluasi yang berbeda memberikan rekomendasi yang berbeda.**\n",
        "\n",
        "* **Elbow Method** merekomendasikan **k=3 atau k=4**.\n",
        "* **Silhouette Score** merekomendasikan **k=2**.\n",
        "\n",
        "**Jadi, mana yang harus kita pilih?**\n",
        "Keputusan ini seringkali tidak hanya berdasarkan angka, tetapi juga tujuan bisnis.\n",
        "\n",
        "* **k=2**: Akan membagi pelanggan Anda menjadi 2 grup besar (misalnya: \"Pelanggan Aktif\" dan \"Pelanggan Pasif\"). Ini mudah, tapi mungkin terlalu sederhana dan kurang bisa ditindaklanjuti.\n",
        "* **k=3 atau k=4**: Akan memberikan segmentasi yang lebih kaya dan detail (misalnya: \"Pelanggan Terbaik\", \"Pelanggan Setia\", \"Pelanggan Berisiko Pergi\", \"Pelanggan Baru\"). Segmentasi seperti ini seringkali jauh lebih berguna untuk strategi marketing.\n",
        "\n",
        "Melihat \"siku\" yang masih cukup jelas di k=4 pada Elbow Method, dan mempertimbangkan kebutuhan akan segmentasi yang lebih detail, **mari kita pilih `k=4`**. Ini adalah pilihan yang dapat dipertanggungjawabkan karena didukung oleh salah satu metode dan berpotensi memberikan wawasan bisnis yang lebih dalam.\n",
        "\n"
      ],
      "metadata": {
        "id": "uE-QMHoHV-tl"
      }
    },
    {
      "cell_type": "markdown",
      "source": [
        "# Modelling"
      ],
      "metadata": {
        "id": "3nmTMTTUWrh1"
      }
    },
    {
      "cell_type": "markdown",
      "source": [
        "## K-Means"
      ],
      "metadata": {
        "id": "IfuX5Og3YVIW"
      }
    },
    {
      "cell_type": "markdown",
      "source": [
        "\n",
        "### Membangun Model Clustering Pertama (K-Means)**\n",
        "\n",
        "Sekarang kita akan menjalankan K-Means dengan `k=4` yang sudah kita pilih, lalu melihat pelanggan mana masuk ke cluster mana.\n",
        "\n",
        "**Tujuan:**\n",
        "1.  Menjalankan K-Means dengan `n_clusters=4`.\n",
        "2.  Menambahkan label cluster (0, 1, 2, atau 3) ke setiap pelanggan di data RFM kita.\n",
        "3.  Menganalisis karakteristik rata-rata dari setiap cluster untuk memahami artinya.\n"
      ],
      "metadata": {
        "id": "dzSE6e5kWtlN"
      }
    },
    {
      "cell_type": "code",
      "source": [
        "# Jalankan kode ini di sel baru\n",
        "\n",
        "from sklearn.cluster import KMeans\n",
        "import pandas as pd\n",
        "\n",
        "# Kita asumsikan rfm_df (unscaled) dan rfm_scaled_df (scaled) sudah ada dari langkah sebelumnya\n",
        "\n",
        "# 1. Membuat dan melatih model K-Means dengan k=4\n",
        "# Model dilatih pada data yang sudah di-scaling\n",
        "final_kmeans = KMeans(n_clusters=4, init='k-means++', random_state=42, n_init=10)\n",
        "final_kmeans.fit(rfm_scaled_df)\n",
        "\n",
        "# 2. Mendapatkan label cluster untuk setiap pelanggan\n",
        "cluster_labels = final_kmeans.labels_\n",
        "\n",
        "# 3. Menambahkan label cluster ke DataFrame RFM yang ASLI (tidak di-scaling)\n",
        "# Kita gunakan data asli agar mudah diinterpretasikan (misal: Recency 20 hari, bukan -0.8)\n",
        "rfm_df_clustered = rfm_df.copy()\n",
        "rfm_df_clustered['Cluster'] = cluster_labels\n",
        "\n",
        "print(\"--- Data RFM dengan Label Cluster ---\")\n",
        "print(rfm_df_clustered.head())\n",
        "\n",
        "# 4. Menganalisis karakteristik setiap cluster\n",
        "# Kita kelompokkan berdasarkan cluster dan hitung rata-rata R, F, M serta jumlah anggotanya\n",
        "cluster_analysis = rfm_df_clustered.groupby('Cluster').agg({\n",
        "    'Recency': 'mean',\n",
        "    'Frequency': 'mean',\n",
        "    'MonetaryValue': ['mean', 'count']\n",
        "})\n",
        "\n",
        "print(\"\\n--- Analisis Karakteristik per Cluster ---\")\n",
        "print(cluster_analysis)"
      ],
      "metadata": {
        "colab": {
          "base_uri": "https://localhost:8080/"
        },
        "id": "dA0mpdDQWStX",
        "outputId": "abcd8c75-9e78-44af-f530-836c99a91d80"
      },
      "execution_count": 17,
      "outputs": [
        {
          "output_type": "stream",
          "name": "stdout",
          "text": [
            "--- Data RFM dengan Label Cluster ---\n",
            "            Recency  Frequency  MonetaryValue  Cluster\n",
            "CustomerID                                            \n",
            "12346           326          1       77183.60        3\n",
            "12347             2          7        4310.00        0\n",
            "12348            75          4        1797.24        0\n",
            "12349            19          1        1757.55        0\n",
            "12350           310          1         334.40        1\n",
            "\n",
            "--- Analisis Karakteristik per Cluster ---\n",
            "            Recency  Frequency  MonetaryValue      \n",
            "               mean       mean           mean count\n",
            "Cluster                                            \n",
            "0         43.702685   3.682711    1359.049284  3054\n",
            "1        248.075914   1.552015     480.617480  1067\n",
            "2          7.384615  82.538462  127338.313846    13\n",
            "3         15.500000  22.333333   12709.090490   204\n"
          ]
        }
      ]
    },
    {
      "cell_type": "markdown",
      "source": [
        " **Interpretasi Cluster K-Means (`k=4`)**\n",
        "\n",
        "Mari kita bedah tabel `Analisis Karakteristik per Cluster` yang Anda hasilkan, baris per baris.\n",
        "\n",
        "---\n",
        "\n",
        "**Cluster 0:**\n",
        "* **Recency (mean):** 43.7 hari (Cukup baru)\n",
        "* **Frequency (mean):** 3.6 kali (Cukup sering)\n",
        "* **MonetaryValue (mean):** Rp 1,359 (Pengeluaran rata-rata)\n",
        "* **Count:** 3054 pelanggan (Grup terbesar)\n",
        "* **Interpretasi:** Ini adalah **inti dari pelanggan Anda (Core Customers)**. Mereka belum lama berbelanja, frekuensinya lumayan, dan merupakan kelompok terbesar. Mereka adalah pelanggan reguler yang menjadi tulang punggung bisnis Anda.\n",
        "* **Persona:** **Pelanggan Setia (Loyal Customers)**\n",
        "\n",
        "---\n",
        "\n",
        "**Cluster 1:**\n",
        "* **Recency (mean):** 248 hari (Sangat lama tidak belanja)\n",
        "* **Frequency (mean):** 1.5 kali (Jarang sekali belanja)\n",
        "* **MonetaryValue (mean):** Rp 480 (Pengeluaran rendah)\n",
        "* **Count:** 1067 pelanggan\n",
        "* **Interpretasi:** Kelompok ini adalah pelanggan yang sudah sangat lama tidak kembali. Mereka jarang bertransaksi dan nilai belanjanya kecil. Mereka berisiko tinggi untuk tidak akan pernah kembali lagi (churn).\n",
        "* **Persona:** **Pelanggan Berisiko / Hampir Hilang (At-Risk / Churn)**\n",
        "\n",
        "---\n",
        "\n",
        "**Cluster 2:**\n",
        "* **Recency (mean):** 7.3 hari (Sangat baru!)\n",
        "* **Frequency (mean):** 82.5 kali (Sangat sering!)\n",
        "* **MonetaryValue (mean):** Rp 127,338 (Pengeluaran Sangat Tinggi!)\n",
        "* **Count:** 13 pelanggan (Grup sangat kecil dan eksklusif)\n",
        "* **Interpretasi:** Ini adalah kelompok impian. Mereka baru saja belanja, sangat sering bertransaksi, dan menghabiskan uang paling banyak. Meskipun jumlahnya sangat sedikit, mereka adalah pelanggan paling berharga Anda. Mereka harus diperlakukan secara istimewa.\n",
        "* **Persona:** **Pelanggan Juara / VIP (Champions / VIP Customers)**\n",
        "\n",
        "---\n",
        "\n",
        "**Cluster 3:**\n",
        "* **Recency (mean):** 15.5 hari (Sangat baru)\n",
        "* **Frequency (mean):** 22.3 kali (Sangat sering)\n",
        "* **MonetaryValue (mean):** Rp 12,709 (Pengeluaran tinggi)\n",
        "* **Count:** 204 pelanggan\n",
        "* **Interpretasi:** Kelompok ini sangat mirip dengan Cluster 2 (VIP), tetapi dengan tingkat frekuensi dan nilai moneter yang sedikit di bawahnya. Mereka adalah pelanggan papan atas yang sangat aktif dan berharga, namun dalam jumlah yang lebih banyak daripada grup VIP. Mereka adalah calon kuat untuk menjadi VIP.\n",
        "* **Persona:** **Pelanggan Potensial Juara / Pelanggan Bernilai Tinggi (Potential Champions / High-Value Customers)**\n",
        "\n",
        "---\n",
        "\n",
        " **Ringkasan Model Pertama**\n",
        "\n",
        "Selamat! Anda telah berhasil menyelesaikan tugas untuk **membuat 1 model clustering machine learning (K-Means)**, lengkap dengan:\n",
        "1.  Persiapan data (RFM).\n",
        "2.  Penentuan jumlah cluster yang optimal (`k=4`).\n",
        "3.  Pembangunan model.\n",
        "4.  Interpretasi yang jelas dan dapat ditindaklanjuti untuk setiap segmen pelanggan.\n"
      ],
      "metadata": {
        "id": "0PxGKJe9Xcbe"
      }
    },
    {
      "cell_type": "markdown",
      "source": [
        "## Hierarchical cluster"
      ],
      "metadata": {
        "id": "PuSfE21bYFP2"
      }
    },
    {
      "cell_type": "markdown",
      "source": [
        "### Visualisasi dengan Dendrogram\n",
        "Dendrogram membantu kita memilih jumlah cluster (k) secara visual. Kita akan mencari garis vertikal terpanjang yang bisa kita potong tanpa memotong garis horizontal lainnya. Jumlah garis vertikal yang terpotong oleh garis horizontal imajiner kita adalah jumlah cluster yang disarankan.\n",
        "\n",
        "Mari kita buat dendrogramnya terlebih dahulu."
      ],
      "metadata": {
        "id": "yYwk-LynYn3-"
      }
    },
    {
      "cell_type": "code",
      "source": [
        "# Jalankan kode ini di sel baru\n",
        "# Kita akan menggunakan data yang sudah di-scaling (rfm_scaled_df)\n",
        "\n",
        "import scipy.cluster.hierarchy as sch\n",
        "import matplotlib.pyplot as plt\n",
        "\n",
        "plt.figure(figsize=(15, 8))\n",
        "plt.title('Dendrogram Hierarchical Clustering')\n",
        "plt.xlabel('Pelanggan (CustomerID)')\n",
        "plt.ylabel('Jarak Euclidean')\n",
        "\n",
        "# Membuat dendrogram\n",
        "# method='ward' adalah metode populer yang mencoba meminimalkan varians di dalam setiap cluster\n",
        "dendrogram = sch.dendrogram(sch.linkage(rfm_scaled_df, method='ward'))\n",
        "\n",
        "plt.show()"
      ],
      "metadata": {
        "colab": {
          "base_uri": "https://localhost:8080/",
          "height": 722
        },
        "id": "-Ds8V5qiYkIO",
        "outputId": "20b10bb1-fd5c-4844-fc64-8c1bfe7c8e0b"
      },
      "execution_count": 18,
      "outputs": [
        {
          "output_type": "display_data",
          "data": {
            "text/plain": [
              "<Figure size 1500x800 with 1 Axes>"
            ],
            "image/png": "[encoded data removed]"
          },
          "metadata": {}
        }
      ]
    },
    {
      "cell_type": "markdown",
      "source": [
        "Catatan: Dendrogram ini mungkin akan terlihat sangat padat di bagian bawah karena ada ribuan pelanggan. Fokuslah pada bagian atas diagram untuk melihat penggabungan cluster-cluster besar. Anda akan melihat bahwa jika kita memotong secara horizontal di sekitar jarak 200-300, kita akan mendapatkan 3 atau 4 cluster. Ini mengkonfirmasi pilihan kita sebelumnya."
      ],
      "metadata": {
        "id": "5XK0ywG7Y2zu"
      }
    },
    {
      "cell_type": "markdown",
      "source": [
        "### Membangun Model dan Menganalisis Hasil\n",
        "Untuk konsistensi dan perbandingan yang adil dengan K-Means, mari kita bangun model Hierarchical Clustering dengan k=4."
      ],
      "metadata": {
        "id": "YUxfzIIMY-ed"
      }
    },
    {
      "cell_type": "code",
      "source": [
        "# Jalankan kode ini di sel baru\n",
        "\n",
        "from sklearn.cluster import AgglomerativeClustering\n",
        "\n",
        "# 1. Membuat dan melatih model Agglomerative Clustering dengan k=4\n",
        "hierarchical_model = AgglomerativeClustering(n_clusters=4, metric='euclidean', linkage='ward')\n",
        "hierarchical_labels = hierarchical_model.fit_predict(rfm_scaled_df)\n",
        "\n",
        "# 2. Menambahkan label cluster ke DataFrame RFM yang asli\n",
        "rfm_df_hclustered = rfm_df.copy()\n",
        "rfm_df_hclustered['Cluster_Hierarchical'] = hierarchical_labels\n",
        "\n",
        "# 3. Menganalisis karakteristik setiap cluster dari model baru\n",
        "h_cluster_analysis = rfm_df_hclustered.groupby('Cluster_Hierarchical').agg({\n",
        "    'Recency': 'mean',\n",
        "    'Frequency': 'mean',\n",
        "    'MonetaryValue': ['mean', 'count']\n",
        "})\n",
        "\n",
        "print(\"--- Analisis Karakteristik per Cluster (Hierarchical Clustering) ---\")\n",
        "print(h_cluster_analysis)"
      ],
      "metadata": {
        "colab": {
          "base_uri": "https://localhost:8080/"
        },
        "id": "B9APp_axZA6l",
        "outputId": "82b55737-e879-4b6f-b531-9951265d08aa"
      },
      "execution_count": 19,
      "outputs": [
        {
          "output_type": "stream",
          "name": "stdout",
          "text": [
            "--- Analisis Karakteristik per Cluster (Hierarchical Clustering) ---\n",
            "                         Recency  Frequency  MonetaryValue      \n",
            "                            mean       mean           mean count\n",
            "Cluster_Hierarchical                                            \n",
            "0                      24.928571  43.785714   31348.385536    56\n",
            "1                      11.000000  43.875000  164658.498750     8\n",
            "2                      46.205414   4.305263    1625.457204  3325\n",
            "3                     259.542677   1.489989     457.307820   949\n"
          ]
        }
      ]
    },
    {
      "cell_type": "markdown",
      "source": [
        "\n",
        "### **Analisis Model Kedua (Hierarchical Clustering)**\n",
        "\n",
        "Pertama, mari kita lihat hasil dari model Hierarchical Clustering Anda:\n",
        "\n",
        "* **Cluster 0 & 1:** Ini adalah pelanggan bernilai sangat tinggi. `Cluster 1` adalah grup super-elite (mirip VIP K-Means) dengan `MonetaryValue` sangat tinggi (164k) dan baru saja belanja (Recency 11 hari). `Cluster 0` adalah grup di bawahnya, juga sangat berharga.\n",
        "* **Cluster 2:** Ini adalah grup pelanggan inti Anda (mirip *Loyal Customers* K-Means). Recency-nya rendah (46 hari), jumlahnya paling banyak (3325), dan nilai belanjanya moderat.\n",
        "* **Cluster 3:** Ini adalah pelanggan yang berisiko pergi (mirip *At-Risk* K-Means). Recency mereka sangat tinggi (259 hari), jarang belanja, dan nilai moneternya rendah.\n",
        "\n",
        "**Kesimpulan:** Model Hierarchical Clustering berhasil menemukan segmen-segmen yang sangat mirip dengan yang ditemukan oleh K-Means. Ini adalah validasi yang baik yang menunjukkan bahwa memang ada pola struktur yang jelas dalam data Anda.\n",
        "\n",
        "---\n",
        "\n"
      ],
      "metadata": {
        "id": "o4S2rlhNZ2-e"
      }
    },
    {
      "cell_type": "markdown",
      "source": [
        "# Evaluasi"
      ],
      "metadata": {
        "id": "7gewjdkIZcGu"
      }
    },
    {
      "cell_type": "code",
      "source": [
        "# Jalankan kode ini di sel baru\n",
        "\n",
        "from sklearn.metrics import calinski_harabasz_score, davies_bouldin_score\n",
        "\n",
        "# Kita sudah punya label dari kedua model:\n",
        "# K-Means labels: final_kmeans.labels_\n",
        "# Hierarchical labels: hierarchical_labels\n",
        "\n",
        "# Menghitung skor untuk model K-Means\n",
        "kmeans_silhouette = silhouette_score(rfm_scaled_df, final_kmeans.labels_)\n",
        "kmeans_calinski = calinski_harabasz_score(rfm_scaled_df, final_kmeans.labels_)\n",
        "kmeans_davies = davies_bouldin_score(rfm_scaled_df, final_kmeans.labels_)\n",
        "\n",
        "# Menghitung skor untuk model Hierarchical Clustering\n",
        "h_silhouette = silhouette_score(rfm_scaled_df, hierarchical_labels)\n",
        "h_calinski = calinski_harabasz_score(rfm_scaled_df, hierarchical_labels)\n",
        "h_davies = davies_bouldin_score(rfm_scaled_df, hierarchical_labels)\n",
        "\n",
        "# Membuat DataFrame untuk perbandingan\n",
        "comparison_df = pd.DataFrame({\n",
        "    'Metric': ['Silhouette Score (Higher is Better)', 'Calinski-Harabasz Index (Higher is Better)', 'Davies-Bouldin Index (Lower is Better)'],\n",
        "    'K-Means': [kmeans_silhouette, kmeans_calinski, kmeans_davies],\n",
        "    'Hierarchical Clustering': [h_silhouette, h_calinski, h_davies]\n",
        "})\n",
        "\n",
        "print(\"--- Perbandingan Skor Evaluasi Model ---\")\n",
        "print(comparison_df.to_string())"
      ],
      "metadata": {
        "colab": {
          "base_uri": "https://localhost:8080/"
        },
        "id": "xtOfH2fgZdpN",
        "outputId": "f4404013-d496-4281-af70-8adf9e000ced"
      },
      "execution_count": 20,
      "outputs": [
        {
          "output_type": "stream",
          "name": "stdout",
          "text": [
            "--- Perbandingan Skor Evaluasi Model ---\n",
            "                                       Metric      K-Means  Hierarchical Clustering\n",
            "0         Silhouette Score (Higher is Better)     0.616213                 0.606533\n",
            "1  Calinski-Harabasz Index (Higher is Better)  3149.719698              2677.938274\n",
            "2      Davies-Bouldin Index (Lower is Better)     0.753362                 0.757040\n"
          ]
        }
      ]
    },
    {
      "cell_type": "markdown",
      "source": [
        "### **Analisis Perbandingan Skor Evaluasi Model**\n",
        "\n",
        "Sekarang, mari kita fokus pada tabel perbandingan. Ini adalah bukti kuantitatif untuk menentukan model mana yang lebih unggul.\n",
        "\n",
        "```\n",
        "--- Perbandingan Skor Evaluasi Model ---\n",
        "                                       Metric      K-Means  Hierarchical Clustering\n",
        "0         Silhouette Score (Higher is Better)     0.616213                 0.606533\n",
        "1  Calinski-Harabasz Index (Higher is Better)  3149.719698              2677.938274\n",
        "2      Davies-Bouldin Index (Lower is Better)     0.753362                 0.757040\n",
        "```\n",
        "\n",
        "Mari kita evaluasi satu per satu:\n",
        "\n",
        "1.  **Silhouette Score (Aturan: Semakin Tinggi Semakin Baik)**\n",
        "    * K-Means: **0.616**\n",
        "    * Hierarchical: 0.606\n",
        "    * **Pemenang: K-Means.** Skornya sedikit lebih tinggi, yang mengindikasikan bahwa secara rata-rata, titik data dalam cluster K-Means sedikit lebih padat dan lebih terpisah dari cluster tetangga.\n",
        "\n",
        "2.  **Calinski-Harabasz Index (Aturan: Semakin Tinggi Semakin Baik)**\n",
        "    * K-Means: **3149.7**\n",
        "    * Hierarchical: 2677.9\n",
        "    * **Pemenang: K-Means.** Skornya jauh lebih tinggi. Ini adalah indikator kuat bahwa rasio varians antar-cluster terhadap varians intra-cluster lebih baik pada model K-Means. Dengan kata lain, cluster K-Means lebih padat dan lebih terpisah jauh satu sama lain.\n",
        "\n",
        "3.  **Davies-Bouldin Index (Aturan: Semakin Rendah Semakin Baik)**\n",
        "    * K-Means: **0.753**\n",
        "    * Hierarchical: 0.757\n",
        "    * **Pemenang: K-Means.** Skornya sedikit lebih rendah, yang berarti bahwa rata-rata \"kemiripan\" antar cluster lebih rendah di model K-Means. Ini sekali lagi menunjukkan pemisahan cluster yang lebih baik.\n",
        "\n",
        "### **Kesimpulan Akhir untuk Tugas Anda**\n",
        "\n",
        "Berdasarkan semua bukti yang telah kita kumpulkan, kita dapat menyusun jawaban akhir.\n",
        "\n",
        "**1. Model Mana yang Lebih Baik?**\n",
        "\n",
        "Berdasarkan ketiga metrik evaluasi kuantitatif (Silhouette, Calinski-Harabasz, dan Davies-Bouldin), **model K-Means secara konsisten menunjukkan performa yang lebih unggul** untuk dataset ini. Model K-Means menghasilkan cluster-cluster yang secara matematis lebih padat (kohesif) dan lebih terpisah dengan baik (separasi) dibandingkan dengan model Hierarchical Clustering.\n",
        "\n",
        "**2. Metrik Mana yang Terbaik?**\n",
        "\n",
        "Tidak ada satu metrik yang \"terbaik\" secara absolut, namun dalam kasus ini kita bisa memberikan argumen yang kuat.\n",
        "\n",
        "\"Ketiga metrik yang digunakan (Silhouette, Calinski-Harabasz, dan Davies-Bouldin) memberikan pandangan yang sedikit berbeda tentang kualitas cluster, namun secara bersamaan mereka menunjuk ke arah kesimpulan yang sama: superioritas model K-Means.\n",
        "\n",
        "* **Calinski-Harabasz Index** menonjol dalam kasus ini karena perbedaannya paling signifikan antara kedua model, memberikan bukti terkuat untuk keunggulan K-Means dalam hal rasio sebaran.\n",
        "* **Silhouette Score** juga mendukung kesimpulan ini dengan mengukur kepadatan dan pemisahan dari perspektif setiap titik data.\n",
        "* **Davies-Bouldin Index** memberikan konfirmasi lebih lanjut dengan menunjukkan tumpang tindih antar cluster yang lebih minimal pada K-Means.\n",
        "\n",
        "Oleh karena itu, meskipun setiap metrik memiliki kelebihannya, **konsistensi hasil di ketiga metrik tersebut** adalah argumen terkuat. Jika harus memilih satu, **Calinski-Harabasz Index** bisa dianggap sebagai metrik yang paling menentukan dalam perbandingan ini karena menunjukkan perbedaan performa yang paling jelas dan tegas.\"\n",
        "\n",
        "---\n"
      ],
      "metadata": {
        "id": "62w3LH0faDIF"
      }
    }
  ]
}