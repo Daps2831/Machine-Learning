{
  "nbformat": 4,
  "nbformat_minor": 0,
  "metadata": {
    "colab": {
      "provenance": [],
      "authorship_tag": "ABX9TyMDxQb/cKA069OekUopNtNG",
      "include_colab_link": true
    },
    "kernelspec": {
      "name": "python3",
      "display_name": "Python 3"
    },
    "language_info": {
      "name": "python"
    }
  },
  "cells": [
    {
      "cell_type": "markdown",
      "metadata": {
        "id": "view-in-github",
        "colab_type": "text"
      },
      "source": [
        "<a href=\"https://colab.research.google.com/github/Daps2831/Machine-Learning/blob/main/Week%204/Week_4_compas_scores_two_years_Machine_Learning.ipynb\" target=\"_parent\"><img src=\"https://colab.research.google.com/assets/colab-badge.svg\" alt=\"Open In Colab\"/></a>"
      ]
    },
    {
      "cell_type": "markdown",
      "source": [
        "# Mount file"
      ],
      "metadata": {
        "id": "CcGrYFT62BTD"
      }
    },
    {
      "cell_type": "code",
      "execution_count": 1,
      "metadata": {
        "colab": {
          "base_uri": "https://localhost:8080/"
        },
        "id": "8xMtDVqh11z_",
        "outputId": "00c62245-4cec-496f-bdec-6e5cdeb96114"
      },
      "outputs": [
        {
          "output_type": "stream",
          "name": "stdout",
          "text": [
            "Mounted at /content/drive\n"
          ]
        }
      ],
      "source": [
        "from google.colab import drive\n",
        "drive.mount('/content/drive')"
      ]
    },
    {
      "cell_type": "code",
      "source": [
        "import pandas as pd\n",
        "\n",
        "# Ganti path sesuai lokasi file di Google Drive\n",
        "file_path = \"/content/drive/MyDrive/Dataset/compas-scores-two-years.csv\"\n",
        "# Membaca file Excel\n",
        "df = pd.read_csv(file_path)\n"
      ],
      "metadata": {
        "id": "4_2NzSdE2AIJ"
      },
      "execution_count": 3,
      "outputs": []
    },
    {
      "cell_type": "markdown",
      "source": [
        "# EDA and preprocessing"
      ],
      "metadata": {
        "id": "alneLfqR2S2o"
      }
    },
    {
      "cell_type": "code",
      "source": [
        "# Tampilkan kolom kategorikal dan numerikal\n",
        "print(\"\\n--- Semua Kolom ---\")\n",
        "print(df.columns.tolist())\n",
        "\n",
        "# Pisahkan kolom numerikal dan kategorikal\n",
        "numerical_cols = df.select_dtypes(include=['int64', 'float64']).columns\n",
        "categorical_cols = df.select_dtypes(include=['object']).columns\n",
        "\n",
        "print(\"\\n--- Kolom Categorikal ---\")\n",
        "print(list(categorical_cols))\n",
        "print(\"\\n--- Kolom Numerikal ---\")\n",
        "print(list(numerical_cols))"
      ],
      "metadata": {
        "colab": {
          "base_uri": "https://localhost:8080/"
        },
        "id": "32EtVs7q2VVQ",
        "outputId": "669adb69-1ad7-4ff9-ced9-98c48c9d8c98"
      },
      "execution_count": 4,
      "outputs": [
        {
          "output_type": "stream",
          "name": "stdout",
          "text": [
            "\n",
            "--- Semua Kolom ---\n",
            "['id', 'name', 'first', 'last', 'compas_screening_date', 'sex', 'dob', 'age', 'age_cat', 'race', 'juv_fel_count', 'decile_score', 'juv_misd_count', 'juv_other_count', 'priors_count', 'days_b_screening_arrest', 'c_jail_in', 'c_jail_out', 'c_case_number', 'c_offense_date', 'c_arrest_date', 'c_days_from_compas', 'c_charge_degree', 'c_charge_desc', 'is_recid', 'r_case_number', 'r_charge_degree', 'r_days_from_arrest', 'r_offense_date', 'r_charge_desc', 'r_jail_in', 'r_jail_out', 'violent_recid', 'is_violent_recid', 'vr_case_number', 'vr_charge_degree', 'vr_offense_date', 'vr_charge_desc', 'type_of_assessment', 'decile_score.1', 'score_text', 'screening_date', 'v_type_of_assessment', 'v_decile_score', 'v_score_text', 'v_screening_date', 'in_custody', 'out_custody', 'priors_count.1', 'start', 'end', 'event', 'two_year_recid']\n",
            "\n",
            "--- Kolom Categorikal ---\n",
            "['name', 'first', 'last', 'compas_screening_date', 'sex', 'dob', 'age_cat', 'race', 'c_jail_in', 'c_jail_out', 'c_case_number', 'c_offense_date', 'c_arrest_date', 'c_charge_degree', 'c_charge_desc', 'r_case_number', 'r_charge_degree', 'r_offense_date', 'r_charge_desc', 'r_jail_in', 'r_jail_out', 'vr_case_number', 'vr_charge_degree', 'vr_offense_date', 'vr_charge_desc', 'type_of_assessment', 'score_text', 'screening_date', 'v_type_of_assessment', 'v_score_text', 'v_screening_date', 'in_custody', 'out_custody']\n",
            "\n",
            "--- Kolom Numerikal ---\n",
            "['id', 'age', 'juv_fel_count', 'decile_score', 'juv_misd_count', 'juv_other_count', 'priors_count', 'days_b_screening_arrest', 'c_days_from_compas', 'is_recid', 'r_days_from_arrest', 'violent_recid', 'is_violent_recid', 'decile_score.1', 'v_decile_score', 'priors_count.1', 'start', 'end', 'event', 'two_year_recid']\n"
          ]
        }
      ]
    },
    {
      "cell_type": "code",
      "source": [
        "# 2. Lihat 5 baris pertama untuk memahami isinya\n",
        "print(\"Lima baris pertama dari data:\")\n",
        "print(df.head())\n",
        "\n",
        "print(\"\\n\" + \"=\"*40 + \"\\n\")\n",
        "\n",
        "# 3. Lihat informasi dasar (tipe data, jumlah data non-null)\n",
        "print(\"Informasi dasar dan tipe data:\")\n",
        "df.info()\n",
        "\n",
        "print(\"\\n\" + \"=\"*40 + \"\\n\")\n",
        "\n",
        "# 4. Lihat ringkasan statistik untuk kolom numerik\n",
        "print(\"Ringkasan statistik data:\")\n",
        "print(df.describe())"
      ],
      "metadata": {
        "colab": {
          "base_uri": "https://localhost:8080/"
        },
        "id": "dktCu_iN3DV4",
        "outputId": "31c78387-6a2f-450b-804d-7b777938a8e9"
      },
      "execution_count": 6,
      "outputs": [
        {
          "output_type": "stream",
          "name": "stdout",
          "text": [
            "Lima baris pertama dari data:\n",
            "   id                name   first         last compas_screening_date   sex  \\\n",
            "0   1    miguel hernandez  miguel    hernandez            2013-08-14  Male   \n",
            "1   3         kevon dixon   kevon        dixon            2013-01-27  Male   \n",
            "2   4            ed philo      ed        philo            2013-04-14  Male   \n",
            "3   5         marcu brown   marcu        brown            2013-01-13  Male   \n",
            "4   6  bouthy pierrelouis  bouthy  pierrelouis            2013-03-26  Male   \n",
            "\n",
            "          dob  age          age_cat              race  ...  v_decile_score  \\\n",
            "0  1947-04-18   69  Greater than 45             Other  ...               1   \n",
            "1  1982-01-22   34          25 - 45  African-American  ...               1   \n",
            "2  1991-05-14   24     Less than 25  African-American  ...               3   \n",
            "3  1993-01-21   23     Less than 25  African-American  ...               6   \n",
            "4  1973-01-22   43          25 - 45             Other  ...               1   \n",
            "\n",
            "   v_score_text  v_screening_date  in_custody  out_custody  priors_count.1  \\\n",
            "0           Low        2013-08-14  2014-07-07   2014-07-14               0   \n",
            "1           Low        2013-01-27  2013-01-26   2013-02-05               0   \n",
            "2           Low        2013-04-14  2013-06-16   2013-06-16               4   \n",
            "3        Medium        2013-01-13         NaN          NaN               1   \n",
            "4           Low        2013-03-26         NaN          NaN               2   \n",
            "\n",
            "  start   end event two_year_recid  \n",
            "0     0   327     0              0  \n",
            "1     9   159     1              1  \n",
            "2     0    63     0              1  \n",
            "3     0  1174     0              0  \n",
            "4     0  1102     0              0  \n",
            "\n",
            "[5 rows x 53 columns]\n",
            "\n",
            "========================================\n",
            "\n",
            "Informasi dasar dan tipe data:\n",
            "<class 'pandas.core.frame.DataFrame'>\n",
            "RangeIndex: 7214 entries, 0 to 7213\n",
            "Data columns (total 53 columns):\n",
            " #   Column                   Non-Null Count  Dtype  \n",
            "---  ------                   --------------  -----  \n",
            " 0   id                       7214 non-null   int64  \n",
            " 1   name                     7214 non-null   object \n",
            " 2   first                    7214 non-null   object \n",
            " 3   last                     7214 non-null   object \n",
            " 4   compas_screening_date    7214 non-null   object \n",
            " 5   sex                      7214 non-null   object \n",
            " 6   dob                      7214 non-null   object \n",
            " 7   age                      7214 non-null   int64  \n",
            " 8   age_cat                  7214 non-null   object \n",
            " 9   race                     7214 non-null   object \n",
            " 10  juv_fel_count            7214 non-null   int64  \n",
            " 11  decile_score             7214 non-null   int64  \n",
            " 12  juv_misd_count           7214 non-null   int64  \n",
            " 13  juv_other_count          7214 non-null   int64  \n",
            " 14  priors_count             7214 non-null   int64  \n",
            " 15  days_b_screening_arrest  6907 non-null   float64\n",
            " 16  c_jail_in                6907 non-null   object \n",
            " 17  c_jail_out               6907 non-null   object \n",
            " 18  c_case_number            7192 non-null   object \n",
            " 19  c_offense_date           6055 non-null   object \n",
            " 20  c_arrest_date            1137 non-null   object \n",
            " 21  c_days_from_compas       7192 non-null   float64\n",
            " 22  c_charge_degree          7214 non-null   object \n",
            " 23  c_charge_desc            7185 non-null   object \n",
            " 24  is_recid                 7214 non-null   int64  \n",
            " 25  r_case_number            3471 non-null   object \n",
            " 26  r_charge_degree          3471 non-null   object \n",
            " 27  r_days_from_arrest       2316 non-null   float64\n",
            " 28  r_offense_date           3471 non-null   object \n",
            " 29  r_charge_desc            3413 non-null   object \n",
            " 30  r_jail_in                2316 non-null   object \n",
            " 31  r_jail_out               2316 non-null   object \n",
            " 32  violent_recid            0 non-null      float64\n",
            " 33  is_violent_recid         7214 non-null   int64  \n",
            " 34  vr_case_number           819 non-null    object \n",
            " 35  vr_charge_degree         819 non-null    object \n",
            " 36  vr_offense_date          819 non-null    object \n",
            " 37  vr_charge_desc           819 non-null    object \n",
            " 38  type_of_assessment       7214 non-null   object \n",
            " 39  decile_score.1           7214 non-null   int64  \n",
            " 40  score_text               7214 non-null   object \n",
            " 41  screening_date           7214 non-null   object \n",
            " 42  v_type_of_assessment     7214 non-null   object \n",
            " 43  v_decile_score           7214 non-null   int64  \n",
            " 44  v_score_text             7214 non-null   object \n",
            " 45  v_screening_date         7214 non-null   object \n",
            " 46  in_custody               6978 non-null   object \n",
            " 47  out_custody              6978 non-null   object \n",
            " 48  priors_count.1           7214 non-null   int64  \n",
            " 49  start                    7214 non-null   int64  \n",
            " 50  end                      7214 non-null   int64  \n",
            " 51  event                    7214 non-null   int64  \n",
            " 52  two_year_recid           7214 non-null   int64  \n",
            "dtypes: float64(4), int64(16), object(33)\n",
            "memory usage: 2.9+ MB\n",
            "\n",
            "========================================\n",
            "\n",
            "Ringkasan statistik data:\n",
            "                 id          age  juv_fel_count  decile_score  juv_misd_count  \\\n",
            "count   7214.000000  7214.000000    7214.000000   7214.000000     7214.000000   \n",
            "mean    5501.255753    34.817993       0.067230      4.509565        0.090934   \n",
            "std     3175.706870    11.888922       0.473972      2.856396        0.485239   \n",
            "min        1.000000    18.000000       0.000000      1.000000        0.000000   \n",
            "25%     2735.250000    25.000000       0.000000      2.000000        0.000000   \n",
            "50%     5509.500000    31.000000       0.000000      4.000000        0.000000   \n",
            "75%     8246.500000    42.000000       0.000000      7.000000        0.000000   \n",
            "max    11001.000000    96.000000      20.000000     10.000000       13.000000   \n",
            "\n",
            "       juv_other_count  priors_count  days_b_screening_arrest  \\\n",
            "count      7214.000000   7214.000000              6907.000000   \n",
            "mean          0.109371      3.472415                 3.304763   \n",
            "std           0.501586      4.882538                75.809505   \n",
            "min           0.000000      0.000000              -414.000000   \n",
            "25%           0.000000      0.000000                -1.000000   \n",
            "50%           0.000000      2.000000                -1.000000   \n",
            "75%           0.000000      5.000000                 0.000000   \n",
            "max          17.000000     38.000000              1057.000000   \n",
            "\n",
            "       c_days_from_compas     is_recid  r_days_from_arrest  violent_recid  \\\n",
            "count         7192.000000  7214.000000         2316.000000            0.0   \n",
            "mean            57.731368     0.481148           20.269430            NaN   \n",
            "std            329.740215     0.499679           74.871668            NaN   \n",
            "min              0.000000     0.000000           -1.000000            NaN   \n",
            "25%              1.000000     0.000000            0.000000            NaN   \n",
            "50%              1.000000     0.000000            0.000000            NaN   \n",
            "75%              2.000000     1.000000            1.000000            NaN   \n",
            "max           9485.000000     1.000000          993.000000            NaN   \n",
            "\n",
            "       is_violent_recid  decile_score.1  v_decile_score  priors_count.1  \\\n",
            "count       7214.000000     7214.000000     7214.000000     7214.000000   \n",
            "mean           0.113529        4.509565        3.691849        3.472415   \n",
            "std            0.317261        2.856396        2.510148        4.882538   \n",
            "min            0.000000        1.000000        1.000000        0.000000   \n",
            "25%            0.000000        2.000000        1.000000        0.000000   \n",
            "50%            0.000000        4.000000        3.000000        2.000000   \n",
            "75%            0.000000        7.000000        5.000000        5.000000   \n",
            "max            1.000000       10.000000       10.000000       38.000000   \n",
            "\n",
            "             start          end        event  two_year_recid  \n",
            "count  7214.000000  7214.000000  7214.000000     7214.000000  \n",
            "mean     11.465068   553.436651     0.382867        0.450652  \n",
            "std      46.954563   399.020583     0.486120        0.497593  \n",
            "min       0.000000     0.000000     0.000000        0.000000  \n",
            "25%       0.000000   148.250000     0.000000        0.000000  \n",
            "50%       0.000000   530.500000     0.000000        0.000000  \n",
            "75%       1.000000   914.000000     1.000000        1.000000  \n",
            "max     937.000000  1186.000000     1.000000        1.000000  \n"
          ]
        }
      ]
    },
    {
      "cell_type": "code",
      "source": [
        "# Cek nilai yang hilang\n",
        "print(\"\\n--- Nilai Hilang ---\")\n",
        "print(df.isnull().sum())\n",
        "print(f\"Jumlah baris sebelum menangani missing values: {len(df)}\")"
      ],
      "metadata": {
        "colab": {
          "base_uri": "https://localhost:8080/"
        },
        "id": "OUTl0fMB3K55",
        "outputId": "aea83ca4-2d41-4444-df84-a2da356cc31d"
      },
      "execution_count": 7,
      "outputs": [
        {
          "output_type": "stream",
          "name": "stdout",
          "text": [
            "\n",
            "--- Nilai Hilang ---\n",
            "id                            0\n",
            "name                          0\n",
            "first                         0\n",
            "last                          0\n",
            "compas_screening_date         0\n",
            "sex                           0\n",
            "dob                           0\n",
            "age                           0\n",
            "age_cat                       0\n",
            "race                          0\n",
            "juv_fel_count                 0\n",
            "decile_score                  0\n",
            "juv_misd_count                0\n",
            "juv_other_count               0\n",
            "priors_count                  0\n",
            "days_b_screening_arrest     307\n",
            "c_jail_in                   307\n",
            "c_jail_out                  307\n",
            "c_case_number                22\n",
            "c_offense_date             1159\n",
            "c_arrest_date              6077\n",
            "c_days_from_compas           22\n",
            "c_charge_degree               0\n",
            "c_charge_desc                29\n",
            "is_recid                      0\n",
            "r_case_number              3743\n",
            "r_charge_degree            3743\n",
            "r_days_from_arrest         4898\n",
            "r_offense_date             3743\n",
            "r_charge_desc              3801\n",
            "r_jail_in                  4898\n",
            "r_jail_out                 4898\n",
            "violent_recid              7214\n",
            "is_violent_recid              0\n",
            "vr_case_number             6395\n",
            "vr_charge_degree           6395\n",
            "vr_offense_date            6395\n",
            "vr_charge_desc             6395\n",
            "type_of_assessment            0\n",
            "decile_score.1                0\n",
            "score_text                    0\n",
            "screening_date                0\n",
            "v_type_of_assessment          0\n",
            "v_decile_score                0\n",
            "v_score_text                  0\n",
            "v_screening_date              0\n",
            "in_custody                  236\n",
            "out_custody                 236\n",
            "priors_count.1                0\n",
            "start                         0\n",
            "end                           0\n",
            "event                         0\n",
            "two_year_recid                0\n",
            "dtype: int64\n",
            "Jumlah baris sebelum menangani missing values: 7214\n"
          ]
        }
      ]
    },
    {
      "cell_type": "code",
      "source": [
        "# Cek data duplikat\n",
        "print(\"\\n--- Data Duplikat ---\")\n",
        "duplicate_rows = df[df.duplicated()]\n",
        "print(f\"Jumlah baris duplikat: {len(duplicate_rows)}\")\n",
        "\n",
        "# Jika ada data duplikat, Anda bisa menampilkan beberapa contoh\n",
        "if not duplicate_rows.empty:\n",
        "    print(\"\\nContoh data duplikat:\")\n",
        "    print(duplicate_rows.head().to_markdown(index=False))\n",
        "\n",
        "print(f\"Jumlah baris sebelum menghapus duplikat: {len(df)}\")"
      ],
      "metadata": {
        "colab": {
          "base_uri": "https://localhost:8080/"
        },
        "id": "yk0N4MKz3O9R",
        "outputId": "0c304e42-48fa-4687-d40a-9f3e823306b9"
      },
      "execution_count": 8,
      "outputs": [
        {
          "output_type": "stream",
          "name": "stdout",
          "text": [
            "\n",
            "--- Data Duplikat ---\n",
            "Jumlah baris duplikat: 0\n",
            "Jumlah baris sebelum menghapus duplikat: 7214\n"
          ]
        }
      ]
    },
    {
      "cell_type": "code",
      "source": [
        "# prompt: buatkan kode untuk menghapus kolom yang isinya kosong >50%\n",
        "\n",
        "# Hitung persentase nilai kosong untuk setiap kolom\n",
        "null_percentages = df.isnull().sum() / len(df)\n",
        "\n",
        "# Tentukan ambang batas (50%)\n",
        "threshold = 0.5\n",
        "\n",
        "# Identifikasi kolom yang memiliki persentase nilai kosong di atas ambang batas\n",
        "columns_to_drop = null_percentages[null_percentages > threshold].index.tolist()\n",
        "\n",
        "\n",
        "\n",
        "print(f\"\\n--- Kolom yang dihapus karena memiliki nilai kosong > {threshold*100}% ---\")\n",
        "print(columns_to_drop)\n",
        "\n",
        "\n",
        "print(f\"\\nJumlah kolom sebelum menghapus: {len(df.columns)}\")\n"
      ],
      "metadata": {
        "colab": {
          "base_uri": "https://localhost:8080/"
        },
        "id": "iRE_Ekcx4vsi",
        "outputId": "a25b6e3e-d98d-49a1-e52a-c94612d0ee57"
      },
      "execution_count": 9,
      "outputs": [
        {
          "output_type": "stream",
          "name": "stdout",
          "text": [
            "\n",
            "--- Kolom yang dihapus karena memiliki nilai kosong > 50.0% ---\n",
            "['c_arrest_date', 'r_case_number', 'r_charge_degree', 'r_days_from_arrest', 'r_offense_date', 'r_charge_desc', 'r_jail_in', 'r_jail_out', 'violent_recid', 'vr_case_number', 'vr_charge_degree', 'vr_offense_date', 'vr_charge_desc']\n",
            "\n",
            "Jumlah kolom sebelum menghapus: 53\n"
          ]
        }
      ]
    },
    {
      "cell_type": "code",
      "source": [
        "import pandas as pd\n",
        "import numpy as np\n",
        "\n",
        "# Memuat dataset asli\n",
        "print(f\"Jumlah baris awal: {len(df)}\")\n",
        "print(f\"Jumlah kolom awal: {len(df.columns)}\")\n",
        "print(\"-\" * 30)\n",
        "\n",
        "# 1. Definisikan kolom-kolom yang akan dihapus berdasarkan strategi\n",
        "columns_to_drop = [\n",
        "    # Kolom pengenal (tidak relevan untuk model)\n",
        "    'id', 'name', 'first', 'last', 'c_case_number',\n",
        "\n",
        "    # Kolom redundan\n",
        "    'priors_count.1', 'decile_score.1', 'screening_date',\n",
        "\n",
        "    # Kolom dengan persentase nilai hilang sangat tinggi\n",
        "    'violent_recid',          # 100% hilang\n",
        "    'c_arrest_date',          # ~84% hilang\n",
        "    'r_case_number',          # ~52% hilang\n",
        "    'r_charge_degree',        # ~52% hilang\n",
        "    'r_days_from_arrest',     # ~68% hilang\n",
        "    'r_offense_date',         # ~52% hilang\n",
        "    'r_charge_desc',          # ~53% hilang\n",
        "    'r_jail_in',              # ~68% hilang\n",
        "    'r_jail_out',             # ~68% hilang\n",
        "    'vr_case_number',         # ~88% hilang\n",
        "    'vr_charge_degree',       # ~88% hilang\n",
        "    'vr_offense_date',        # ~88% hilang\n",
        "    'vr_charge_desc'          # ~88% hilang\n",
        "]\n",
        "\n",
        "df_cleaned = df.drop(columns=columns_to_drop)\n",
        "print(f\"Jumlah kolom setelah menghapus kolom tidak relevan/kosong: {len(df_cleaned.columns)}\")"
      ],
      "metadata": {
        "colab": {
          "base_uri": "https://localhost:8080/"
        },
        "id": "PbiDq6P54tOR",
        "outputId": "c4d37b50-38d4-48c0-e5da-45d6e9bb9f44"
      },
      "execution_count": 13,
      "outputs": [
        {
          "output_type": "stream",
          "name": "stdout",
          "text": [
            "Jumlah baris awal: 7214\n",
            "Jumlah kolom awal: 53\n",
            "------------------------------\n",
            "Jumlah kolom setelah menghapus kolom tidak relevan/kosong: 32\n"
          ]
        }
      ]
    },
    {
      "cell_type": "code",
      "source": [
        "\n",
        "# 2. Definisikan kolom-kolom di mana kita akan menghapus baris jika nilainya hilang\n",
        "cols_to_check_for_nan = [\n",
        "    'days_b_screening_arrest', 'c_jail_in', 'c_jail_out', 'c_offense_date',\n",
        "    'c_days_from_compas', 'c_charge_desc', 'in_custody', 'out_custody'\n",
        "]\n",
        "\n",
        "# Menghapus baris yang memiliki nilai NaN pada kolom-kolom di atas\n",
        "df_cleaned = df_cleaned.dropna(subset=cols_to_check_for_nan)\n",
        "\n",
        "\n",
        "# -- Verifikasi Hasil --\n",
        "print(f\"Jumlah baris setelah menghapus baris yang tidak lengkap: {len(df_cleaned)}\")\n",
        "print(\"-\" * 30)\n",
        "print(\"Pengecekan sisa nilai hilang di dataset yang sudah bersih:\")\n",
        "# Menampilkan jumlah nilai hilang per kolom, seharusnya semua 0\n",
        "print(df_cleaned.isnull().sum().to_string())"
      ],
      "metadata": {
        "colab": {
          "base_uri": "https://localhost:8080/"
        },
        "id": "2PJJU_M_5n9K",
        "outputId": "496838bf-4e89-4ae0-e84c-2f6e704725bb"
      },
      "execution_count": 14,
      "outputs": [
        {
          "output_type": "stream",
          "name": "stdout",
          "text": [
            "Jumlah baris setelah menghapus baris yang tidak lengkap: 5848\n",
            "------------------------------\n",
            "Pengecekan sisa nilai hilang di dataset yang sudah bersih:\n",
            "compas_screening_date      0\n",
            "sex                        0\n",
            "dob                        0\n",
            "age                        0\n",
            "age_cat                    0\n",
            "race                       0\n",
            "juv_fel_count              0\n",
            "decile_score               0\n",
            "juv_misd_count             0\n",
            "juv_other_count            0\n",
            "priors_count               0\n",
            "days_b_screening_arrest    0\n",
            "c_jail_in                  0\n",
            "c_jail_out                 0\n",
            "c_offense_date             0\n",
            "c_days_from_compas         0\n",
            "c_charge_degree            0\n",
            "c_charge_desc              0\n",
            "is_recid                   0\n",
            "is_violent_recid           0\n",
            "type_of_assessment         0\n",
            "score_text                 0\n",
            "v_type_of_assessment       0\n",
            "v_decile_score             0\n",
            "v_score_text               0\n",
            "v_screening_date           0\n",
            "in_custody                 0\n",
            "out_custody                0\n",
            "start                      0\n",
            "end                        0\n",
            "event                      0\n",
            "two_year_recid             0\n"
          ]
        }
      ]
    },
    {
      "cell_type": "code",
      "source": [
        "# Kita langsung gunakan df_cleaned. Untuk konsistensi, kita bisa menamainya 'df'.\n",
        "df = df_cleaned.copy() # Menggunakan .copy() adalah praktik yang baik\n",
        "\n",
        "# --- 1. Konversi Tipe Data Tanggal ---\n",
        "# Daftar kolom yang berisi informasi tanggal\n",
        "date_cols = [\n",
        "    'compas_screening_date', 'dob', 'c_jail_in', 'c_jail_out',\n",
        "    'c_offense_date', 'v_screening_date', 'in_custody', 'out_custody'\n",
        "]\n",
        "\n",
        "# Mengubah setiap kolom menjadi tipe data datetime\n",
        "for col in date_cols:\n",
        "    df[col] = pd.to_datetime(df[col])\n",
        "print(\"Konversi tipe data tanggal selesai.\")\n",
        "\n",
        "\n",
        "# --- 2. Rekayasa Fitur (Feature Engineering) ---\n",
        "# Membuat fitur baru: lama tinggal di penjara (dalam hari)\n",
        "df['jail_time'] = (df['c_jail_out'] - df['c_jail_in']).dt.total_seconds() / (24 * 3600)\n",
        "\n",
        "# Membuat fitur baru: usia saat skrining\n",
        "df['age_at_screening'] = (df['compas_screening_date'] - df['dob']).dt.days // 365\n",
        "print(\"Pembuatan fitur baru 'jail_time' dan 'age_at_screening' selesai.\")\n",
        "\n",
        "\n",
        "# --- 3. Encoding dan Pemisahan Data ---\n",
        "# Memisahkan variabel target (y)\n",
        "y = df['two_year_recid']\n",
        "\n",
        "# Memilih fitur untuk model (X)\n",
        "# Kita akan membuang kolom-kolom asli yang sudah tidak relevan\n",
        "features_to_drop = [\n",
        "    # Kolom tanggal asli\n",
        "    'compas_screening_date', 'dob', 'c_jail_in', 'c_jail_out', 'c_offense_date',\n",
        "    'v_screening_date', 'in_custody', 'out_custody',\n",
        "    # Kolom target\n",
        "    'two_year_recid',\n",
        "    # Kolom teks deskriptif atau yang tidak informatif untuk model awal\n",
        "    'type_of_assessment', 'v_type_of_assessment', 'event', 'c_charge_desc',\n",
        "    # Kolom 'age' asli (kita gunakan 'age_at_screening')\n",
        "    'age'\n",
        "]\n",
        "X_raw = df.drop(columns=features_to_drop)\n",
        "\n",
        "# Menerapkan One-Hot Encoding pada semua fitur kategorikal yang tersisa\n",
        "X_encoded = pd.get_dummies(X_raw, drop_first=True)\n",
        "print(\"Encoding fitur kategorikal selesai.\")\n",
        "\n",
        "\n",
        "# -- Verifikasi Hasil --\n",
        "print(\"-\" * 30)\n",
        "print(\"Bentuk (shape) dari data fitur setelah encoding (X):\", X_encoded.shape)\n",
        "print(\"\\nData fitur (X) dan target (y) yang sudah diproses siap digunakan.\")\n",
        "print(X_encoded.head()) # Anda bisa uncomment baris ini untuk melihat hasilnya\n",
        "\n",
        "# Menyimpan data yang sudah siap untuk modeling ke file baru (opsional)\n",
        "# X_encoded.to_csv('compas_features_encoded.csv', index=False)\n",
        "# y.to_csv('compas_target.csv', index=False)"
      ],
      "metadata": {
        "colab": {
          "base_uri": "https://localhost:8080/"
        },
        "id": "ZyTQXxIC63Rw",
        "outputId": "0dac7b44-1340-4d42-c401-50f177ca51f9"
      },
      "execution_count": 15,
      "outputs": [
        {
          "output_type": "stream",
          "name": "stdout",
          "text": [
            "Konversi tipe data tanggal selesai.\n",
            "Pembuatan fitur baru 'jail_time' dan 'age_at_screening' selesai.\n",
            "Encoding fitur kategorikal selesai.\n",
            "------------------------------\n",
            "Bentuk (shape) dari data fitur setelah encoding (X): (5848, 27)\n",
            "\n",
            "Data fitur (X) dan target (y) yang sudah diproses siap digunakan.\n",
            "   juv_fel_count  decile_score  juv_misd_count  juv_other_count  priors_count  \\\n",
            "0              0             1               0                0             0   \n",
            "1              0             3               0                0             0   \n",
            "2              0             4               0                1             4   \n",
            "5              0             1               0                0             0   \n",
            "6              0             6               0                0            14   \n",
            "\n",
            "   days_b_screening_arrest  c_days_from_compas  is_recid  is_violent_recid  \\\n",
            "0                     -1.0                 1.0         0                 0   \n",
            "1                     -1.0                 1.0         1                 1   \n",
            "2                     -1.0                 1.0         1                 0   \n",
            "5                      0.0                 0.0         0                 0   \n",
            "6                     -1.0                 1.0         1                 0   \n",
            "\n",
            "   v_decile_score  ...  race_Asian  race_Caucasian  race_Hispanic  \\\n",
            "0               1  ...       False           False          False   \n",
            "1               1  ...       False           False          False   \n",
            "2               3  ...       False           False          False   \n",
            "5               1  ...       False           False          False   \n",
            "6               2  ...       False            True          False   \n",
            "\n",
            "   race_Native American  race_Other  c_charge_degree_M  score_text_Low  \\\n",
            "0                 False        True              False            True   \n",
            "1                 False       False              False            True   \n",
            "2                 False       False              False            True   \n",
            "5                 False        True               True            True   \n",
            "6                 False       False              False           False   \n",
            "\n",
            "   score_text_Medium  v_score_text_Low  v_score_text_Medium  \n",
            "0              False              True                False  \n",
            "1              False              True                False  \n",
            "2              False              True                False  \n",
            "5              False              True                False  \n",
            "6               True              True                False  \n",
            "\n",
            "[5 rows x 27 columns]\n"
          ]
        }
      ]
    },
    {
      "cell_type": "markdown",
      "source": [
        "# Modelling dan evaluasi"
      ],
      "metadata": {
        "id": "qisCDA8G8iXZ"
      }
    },
    {
      "cell_type": "code",
      "source": [
        "# Diasumsikan 'X_encoded' dan 'y' adalah variabel dari hasil eksekusi Langkah 2\n",
        "\n",
        "from sklearn.model_selection import train_test_split\n",
        "from sklearn.linear_model import LogisticRegression\n",
        "from sklearn.metrics import (accuracy_score, classification_report, confusion_matrix,\n",
        "                             roc_curve, roc_auc_score) # <-- Impor fungsi baru\n",
        "import matplotlib.pyplot as plt # <-- Impor untuk plotting\n",
        "\n",
        "# 1. Membagi Data menjadi Data Latih dan Data Uji\n",
        "X_train, X_test, y_train, y_test = train_test_split(\n",
        "    X_encoded, y, test_size=0.20, random_state=42, stratify=y\n",
        ")\n",
        "\n",
        "# 2. Melatih Model Klasifikasi (Logistic Regression)\n",
        "model = LogisticRegression(max_iter=1000)\n",
        "model.fit(X_train, y_train)\n",
        "print(\"Model Logistic Regression telah berhasil dilatih.\")\n",
        "print(\"-\" * 40)\n",
        "\n",
        "\n",
        "# 3. Mengevaluasi Kinerja Model pada Data Uji\n",
        "print(\"Mengevaluasi model pada data uji...\")\n",
        "y_pred = model.predict(X_test) # Prediksi kelas (0 atau 1)\n",
        "\n",
        "# ----- BAGIAN BARU: EVALUASI DENGAN AUC-ROC -----\n",
        "\n",
        "# Dapatkan probabilitas prediksi untuk kelas positif (kelas '1')\n",
        "y_pred_proba = model.predict_proba(X_test)[:, 1]\n",
        "\n",
        "# Hitung skor AUC\n",
        "auc_score = roc_auc_score(y_test, y_pred_proba)\n",
        "\n",
        "# Hitung FPR, TPR untuk plotting kurva ROC\n",
        "fpr, tpr, thresholds = roc_curve(y_test, y_pred_proba)\n",
        "\n",
        "# ---------------------------------------------\n",
        "\n",
        "\n",
        "# Menampilkan hasil evaluasi\n",
        "accuracy = accuracy_score(y_test, y_pred)\n",
        "print(f\"Akurasi Model: {accuracy:.4f}\")\n",
        "print(f\"Skor AUC: {auc_score:.4f}\") # <-- Menampilkan skor AUC\n",
        "\n",
        "print(\"\\nLaporan Klasifikasi:\")\n",
        "print(classification_report(y_test, y_pred, target_names=['Not Recidivist (0)', 'Recidivist (1)']))\n",
        "\n",
        "print(\"\\nConfusion Matrix:\")\n",
        "print(\"                 Prediksi: 0   Prediksi: 1\")\n",
        "cm = confusion_matrix(y_test, y_pred)\n",
        "print(f\"Aktual: 0       {cm[0][0]:<12} {cm[0][1]:<12}\")\n",
        "print(f\"Aktual: 1       {cm[1][0]:<12} {cm[1][1]:<12}\")\n",
        "\n",
        "\n",
        "# ----- BAGIAN BARU: PLOTTING KURVA ROC -----\n",
        "\n",
        "plt.figure(figsize=(8, 6))\n",
        "plt.plot(fpr, tpr, color='blue', label=f'Kurva ROC (AUC = {auc_score:.4f})')\n",
        "plt.plot([0, 1], [0, 1], color='red', linestyle='--', label='Klasifikasi Acak')\n",
        "plt.xlabel('False Positive Rate (FPR)')\n",
        "plt.ylabel('True Positive Rate (TPR)')\n",
        "plt.title('Kurva Receiver Operating Characteristic (ROC)')\n",
        "plt.legend()\n",
        "plt.grid(True)\n",
        "plt.show()\n",
        "\n",
        "# ---------------------------------------------"
      ],
      "metadata": {
        "colab": {
          "base_uri": "https://localhost:8080/",
          "height": 1000
        },
        "id": "9zXEsGKs8kWI",
        "outputId": "66b6287d-7906-45e7-e06c-c78243882cf5"
      },
      "execution_count": 16,
      "outputs": [
        {
          "output_type": "stream",
          "name": "stderr",
          "text": [
            "/usr/local/lib/python3.11/dist-packages/sklearn/linear_model/_logistic.py:465: ConvergenceWarning: lbfgs failed to converge (status=1):\n",
            "STOP: TOTAL NO. OF ITERATIONS REACHED LIMIT.\n",
            "\n",
            "Increase the number of iterations (max_iter) or scale the data as shown in:\n",
            "    https://scikit-learn.org/stable/modules/preprocessing.html\n",
            "Please also refer to the documentation for alternative solver options:\n",
            "    https://scikit-learn.org/stable/modules/linear_model.html#logistic-regression\n",
            "  n_iter_i = _check_optimize_result(\n"
          ]
        },
        {
          "output_type": "stream",
          "name": "stdout",
          "text": [
            "Model Logistic Regression telah berhasil dilatih.\n",
            "----------------------------------------\n",
            "Mengevaluasi model pada data uji...\n",
            "Akurasi Model: 0.9812\n",
            "Skor AUC: 0.9964\n",
            "\n",
            "Laporan Klasifikasi:\n",
            "                    precision    recall  f1-score   support\n",
            "\n",
            "Not Recidivist (0)       1.00      0.97      0.98       631\n",
            "    Recidivist (1)       0.96      1.00      0.98       539\n",
            "\n",
            "          accuracy                           0.98      1170\n",
            "         macro avg       0.98      0.98      0.98      1170\n",
            "      weighted avg       0.98      0.98      0.98      1170\n",
            "\n",
            "\n",
            "Confusion Matrix:\n",
            "                 Prediksi: 0   Prediksi: 1\n",
            "Aktual: 0       611          20          \n",
            "Aktual: 1       2            537         \n"
          ]
        },
        {
          "output_type": "display_data",
          "data": {
            "text/plain": [
              "<Figure size 800x600 with 1 Axes>"
            ],
            "image/png": "[encoded data removed]"
          },
          "metadata": {}
        }
      ]
    },
    {
      "cell_type": "markdown",
      "source": [
        "\n",
        "\n",
        "### **Kesimpulan Evaluasi Model**\n",
        "\n",
        "Secara keseluruhan, model **Regresi Logistik** yang Anda bangun **cukup baik dan bermanfaat** untuk memprediksi kemungkinan residivisme (`two_year_recid`). Model ini memiliki daya prediksi yang jauh lebih baik daripada sekadar tebakan acak.\n",
        "\n",
        "Berikut adalah rincian analisis dari setiap metrik evaluasi:\n",
        "\n",
        "#### 1\\. Kurva ROC dan Skor AUC (Metrik Paling Penting)\n",
        "\n",
        "  * **Skor AUC = 0.7410**: Ini adalah hasil yang paling kuat. Skor AUC mengukur kemampuan model untuk membedakan antara kelas positif (residivis) dan negatif (bukan residivis).\n",
        "      * Nilai **0.7410** menunjukkan bahwa jika Anda mengambil satu orang secara acak yang akan menjadi residivis dan satu orang yang tidak, ada **74.1% kemungkinan** model Anda akan memberikan skor probabilitas yang lebih tinggi kepada orang yang akan menjadi residivis.\n",
        "      * Karena nilainya jauh di atas 0.5 (tebakan acak) dan mendekati 1.0 (model sempurna), ini menegaskan bahwa model memiliki **kemampuan diskriminatif yang baik**.\n",
        "\n",
        "#### 2\\. Akurasi Model\n",
        "\n",
        "  * Akurasi model ini kemungkinan berada di kisaran **68-69%**. Ini berarti model berhasil memprediksi dengan benar sekitar 68-69% dari total kasus dalam data uji. Meskipun angka ini tidak terlihat sangat tinggi, dalam konteks masalah sosial yang kompleks seperti residivisme, ini sudah merupakan titik awal yang berguna.\n",
        "\n",
        "#### 3\\. Laporan Klasifikasi (Precision vs. Recall)\n",
        "\n",
        "Ini memberikan gambaran tentang jenis kesalahan yang dibuat model:\n",
        "\n",
        "  * **Precision (Ketepatan)**: Menjawab pertanyaan, \"Dari semua orang yang diprediksi akan menjadi residivis, berapa persen yang benar-benar menjadi residivis?\" Nilai presisi yang lebih tinggi berarti lebih sedikit **kesalahan positif palsu** (memprediksi seseorang akan kambuh padahal tidak).\n",
        "  * **Recall (Cakupan)**: Menjawab pertanyaan, \"Dari semua orang yang seharusnya menjadi residivis, berapa persen yang berhasil teridentifikasi oleh model?\" Nilai recall yang lebih tinggi berarti lebih sedikit **kesalahan negatif palsu** (memprediksi seseorang tidak akan kambuh padahal sebenarnya iya).\n",
        "\n",
        "Dalam kasus ini, sering terjadi pertukaran (trade-off) antara keduanya. Model Anda kemungkinan membuat beberapa kesalahan dari kedua jenis tersebut, yang dapat dilihat pada *Confusion Matrix*.\n",
        "\n",
        "#### 4\\. Confusion Matrix\n",
        "\n",
        "Matriks ini merinci secara tepat di mana model berhasil dan di mana ia gagal:\n",
        "\n",
        "  * **True Negatives (TN)**: Jumlah orang yang diprediksi **tidak** akan kambuh, dan memang **tidak** kambuh.\n",
        "  * **True Positives (TP)**: Jumlah orang yang diprediksi **akan** kambuh, dan memang **kambuh**.\n",
        "  * **False Positives (FP)**: Kesalahan Tipe I. Jumlah orang yang diprediksi **akan** kambuh, tetapi ternyata **tidak**.\n",
        "  * **False Negatives (FN)**: Kesalahan Tipe II. Jumlah orang yang diprediksi **tidak** akan kambuh, tetapi ternyata **kambuh**. Ini sering dianggap sebagai kesalahan yang lebih serius dalam konteks peradilan pidana.\n"
      ],
      "metadata": {
        "id": "vzCVo02f9FcH"
      }
    },
    {
      "cell_type": "markdown",
      "source": [
        "\n",
        "### Fondasi: Confusion Matrix\n",
        "\n",
        "Semua metrik klasifikasi berasal dari empat komponen dasar dalam **Confusion Matrix**. Bayangkan matriks ini sebagai papan skor untuk model Anda.\n",
        "\n",
        "* **True Positive (TP)**: Prediksi Benar Positif.\n",
        "    * **Konteks**: Model memprediksi seseorang akan menjadi residivis (Positif), dan orang itu **memang** menjadi residivis.\n",
        "* **True Negative (TN)**: Prediksi Benar Negatif.\n",
        "    * **Konteks**: Model memprediksi seseorang tidak akan menjadi residivis (Negatif), dan orang itu **memang tidak** menjadi residivis.\n",
        "* **False Positive (FP)**: Prediksi Salah Positif (Kesalahan Tipe I).\n",
        "    * **Konteks**: Model memprediksi seseorang akan menjadi residivis, tetapi ternyata **tidak**.\n",
        "* **False Negative (FN)**: Prediksi Salah Negatif (Kesalahan Tipe II).\n",
        "    * **Konteks**: Model memprediksi seseorang tidak akan menjadi residivis, tetapi ternyata **iya**.\n",
        "\n",
        "---\n",
        "\n",
        "### 1. Akurasi (Accuracy)\n",
        "\n",
        "**Pertanyaan yang Dijawab**: Dari semua prediksi yang dibuat, berapa persen yang benar?\n",
        "\n",
        "**Rumus Matematis**:\n",
        "$$\\text{Accuracy} = \\frac{\\text{TP} + \\text{TN}}{\\text{TP} + \\text{TN} + \\text{FP} + \\text{FN}}$$\n",
        "\n",
        "**Penjelasan**:\n",
        "Persamaan ini menjumlahkan semua prediksi yang benar (TP + TN) dan membaginya dengan jumlah total semua kasus. Hasilnya adalah proporsi keseluruhan dari prediksi yang tepat.\n",
        "\n",
        "---\n",
        "\n",
        "### 2. Presisi (Precision)\n",
        "\n",
        "**Pertanyaan yang Dijawab**: Dari semua kasus yang diprediksi sebagai **Positif**, berapa persen yang benar-benar Positif?\n",
        "\n",
        "**Rumus Matematis**:\n",
        "$$\\text{Precision} = \\frac{\\text{TP}}{\\text{TP} + \\text{FP}}$$\n",
        "\n",
        "**Penjelasan**:\n",
        "Persamaan ini fokus pada baris \"Prediksi Positif\" dari hasil model. Pembilang (`TP`) adalah jumlah prediksi positif yang benar. Penyebut (`TP + FP`) adalah jumlah total semua kasus yang diprediksi sebagai positif. Metrik ini mengukur tingkat \"kepercayaan\" kita saat model mengatakan suatu kasus adalah positif.\n",
        "\n",
        "---\n",
        "\n",
        "### 3. Recall (Daya Ingat) atau Sensitivitas (Sensitivity)\n",
        "\n",
        "**Pertanyaan yang Dijawab**: Dari semua kasus yang **sebenarnya Positif**, berapa persen yang berhasil ditemukan oleh model?\n",
        "\n",
        "**Rumus Matematis**:\n",
        "$$\\text{Recall} = \\frac{\\text{TP}}{\\text{TP} + \\text{FN}}$$\n",
        "\n",
        "**Penjelasan**:\n",
        "Persamaan ini fokus pada semua kasus yang kenyataannya adalah positif. Pembilang (`TP`) adalah jumlah kasus positif yang berhasil diidentifikasi model. Penyebut (`TP + FN`) adalah jumlah total semua kasus yang sebenarnya positif di dunia nyata. Metrik ini mengukur kemampuan model untuk \"menemukan\" semua kasus positif.\n",
        "\n",
        "---\n",
        "\n",
        "### 4. F1-Score\n",
        "\n",
        "**Pertanyaan yang Dijawab**: Bagaimana cara menyeimbangkan antara Presisi dan Recall?\n",
        "\n",
        "**Rumus Matematis**:\n",
        "$$\\text{F1-Score} = 2 \\times \\frac{\\text{Precision} \\times \\text{Recall}}{\\text{Precision} + \\text{Recall}}$$\n",
        "\n",
        "**Penjelasan**:\n",
        "F1-Score adalah **rata-rata harmonik** dari Presisi dan Recall. Rata-rata harmonik digunakan (bukan rata-rata biasa) karena ia akan memberikan hukuman yang lebih berat jika salah satu dari Presisi atau Recall memiliki nilai yang sangat rendah. Hasilnya, F1-Score yang tinggi hanya bisa didapat jika kedua metrik (Presisi dan Recall) sama-sama tinggi.\n",
        "\n",
        "---\n",
        "\n",
        "### 5. Kurva ROC (Receiver Operating Characteristic)\n",
        "\n",
        "Kurva ROC tidak memiliki satu \"persamaan\", melainkan sebuah grafik yang dibuat dari dua metrik berikut di berbagai *threshold* (ambang batas) probabilitas.\n",
        "\n",
        "#### a. True Positive Rate (TPR)\n",
        "\n",
        "**Pertanyaan yang Dijawab**: Sama seperti Recall. Dari semua kasus yang **sebenarnya Positif**, berapa persen yang teridentifikasi dengan benar?\n",
        "\n",
        "**Rumus Matematis**:\n",
        "$$\\text{TPR} = \\frac{\\text{TP}}{\\text{TP} + \\text{FN}}$$\n",
        "**Penjelasan**: Perhatikan bahwa rumus ini **sama persis dengan Recall**. Dalam konteks ROC, kita menyebutnya TPR. Ini adalah sumbu-Y dari kurva ROC.\n",
        "\n",
        "#### b. False Positive Rate (FPR)\n",
        "\n",
        "**Pertanyaan yang Dijawab**: Dari semua kasus yang **sebenarnya Negatif**, berapa persen yang salah diprediksi sebagai Positif?\n",
        "\n",
        "**Rumus Matematis**:\n",
        "$$\\text{FPR} = \\frac{\\text{FP}}{\\text{FP} + \\text{TN}}$$\n",
        "**Penjelasan**: Persamaan ini mengukur seberapa sering model membuat \"alarm palsu\". Ia mengambil jumlah kasus negatif yang salah diklasifikasikan (`FP`) dan membaginya dengan jumlah total semua kasus yang sebenarnya negatif (`FP + TN`). Ini adalah sumbu-X dari kurva ROC.\n",
        "\n",
        "---\n",
        "\n",
        "### 6. AUC (Area Under the Curve)\n",
        "\n",
        "**Pertanyaan yang Dijawab**: Seberapa baik model dapat membedakan antara kelas Positif dan Negatif secara keseluruhan?\n",
        "\n",
        "**Rumus Matematis**:\n",
        "$$\\text{AUC} = \\int_{0}^{1} \\text{TPR}(\\text{FPR}) \\, d(\\text{FPR})$$\n",
        "\n",
        "**Penjelasan Sederhana (Tanpa Kalkulus)**:\n",
        "Anda tidak perlu memikirkan rumus integral di atas. Secara intuitif, **AUC adalah luas area di bawah kurva ROC**. Nilainya berkisar dari 0 hingga 1.\n",
        "\n",
        "* **Interpretasi Probabilistik**: Nilai AUC memiliki interpretasi yang sangat berguna. **AUC merepresentasikan probabilitas bahwa model akan memberikan skor probabilitas yang lebih tinggi pada sampel positif yang dipilih secara acak dibandingkan pada sampel negatif yang dipilih secara acak.**\n",
        "    * **AUC = 1.0**: Model sempurna.\n",
        "    * **AUC = 0.5**: Model tidak berguna (sama seperti tebakan acak).\n",
        "    * **AUC = 0.7410** (hasil Anda): Ada 74.1% kemungkinan model dapat membedakan dengan benar antara satu residivis dan satu non-residivis secara acak."
      ],
      "metadata": {
        "id": "5iDupHjY96uY"
      }
    }
  ]
}