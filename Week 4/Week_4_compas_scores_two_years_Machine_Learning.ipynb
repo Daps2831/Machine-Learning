{
  "nbformat": 4,
  "nbformat_minor": 0,
  "metadata": {
    "colab": {
      "provenance": [],
      "authorship_tag": "ABX9TyMZueUaXUoonDtXnqIilscj",
      "include_colab_link": true
    },
    "kernelspec": {
      "name": "python3",
      "display_name": "Python 3"
    },
    "language_info": {
      "name": "python"
    }
  },
  "cells": [
    {
      "cell_type": "markdown",
      "metadata": {
        "id": "view-in-github",
        "colab_type": "text"
      },
      "source": [
        "<a href=\"https://colab.research.google.com/github/Daps2831/Machine-Learning/blob/main/Week%204/Week_4_compas_scores_two_years_Machine_Learning.ipynb\" target=\"_parent\"><img src=\"https://colab.research.google.com/assets/colab-badge.svg\" alt=\"Open In Colab\"/></a>"
      ]
    },
    {
      "cell_type": "markdown",
      "source": [
        "# Mount file"
      ],
      "metadata": {
        "id": "CcGrYFT62BTD"
      }
    },
    {
      "cell_type": "code",
      "execution_count": 5,
      "metadata": {
        "colab": {
          "base_uri": "https://localhost:8080/"
        },
        "id": "8xMtDVqh11z_",
        "outputId": "0bbfc873-8401-4b3d-c9ba-657b85e87e09"
      },
      "outputs": [
        {
          "output_type": "stream",
          "name": "stdout",
          "text": [
            "Mounted at /content/drive\n"
          ]
        }
      ],
      "source": [
        "from google.colab import drive\n",
        "drive.mount('/content/drive')"
      ]
    },
    {
      "cell_type": "code",
      "source": [
        "import pandas as pd\n",
        "\n",
        "# Ganti path sesuai lokasi file di Google Drive\n",
        "file_path = \"/content/drive/MyDrive/Dataset/compas-scores-two-years.csv\"\n",
        "# Membaca file Excel\n",
        "df = pd.read_csv(file_path)\n"
      ],
      "metadata": {
        "id": "4_2NzSdE2AIJ"
      },
      "execution_count": 6,
      "outputs": []
    },
    {
      "cell_type": "markdown",
      "source": [
        "# EDA and preprocessing"
      ],
      "metadata": {
        "id": "alneLfqR2S2o"
      }
    },
    {
      "cell_type": "code",
      "source": [
        "# Tampilkan kolom kategorikal dan numerikal\n",
        "print(\"\\n--- Semua Kolom ---\")\n",
        "print(df.columns.tolist())\n",
        "\n",
        "# Pisahkan kolom numerikal dan kategorikal\n",
        "numerical_cols = df.select_dtypes(include=['int64', 'float64']).columns\n",
        "categorical_cols = df.select_dtypes(include=['object']).columns\n",
        "\n",
        "print(\"\\n--- Kolom Categorikal ---\")\n",
        "print(list(categorical_cols))\n",
        "print(\"\\n--- Kolom Numerikal ---\")\n",
        "print(list(numerical_cols))"
      ],
      "metadata": {
        "colab": {
          "base_uri": "https://localhost:8080/"
        },
        "id": "32EtVs7q2VVQ",
        "outputId": "9b9afb0a-90e8-43bf-f678-625a4ee240b6"
      },
      "execution_count": 7,
      "outputs": [
        {
          "output_type": "stream",
          "name": "stdout",
          "text": [
            "\n",
            "--- Semua Kolom ---\n",
            "['id', 'name', 'first', 'last', 'compas_screening_date', 'sex', 'dob', 'age', 'age_cat', 'race', 'juv_fel_count', 'decile_score', 'juv_misd_count', 'juv_other_count', 'priors_count', 'days_b_screening_arrest', 'c_jail_in', 'c_jail_out', 'c_case_number', 'c_offense_date', 'c_arrest_date', 'c_days_from_compas', 'c_charge_degree', 'c_charge_desc', 'is_recid', 'r_case_number', 'r_charge_degree', 'r_days_from_arrest', 'r_offense_date', 'r_charge_desc', 'r_jail_in', 'r_jail_out', 'violent_recid', 'is_violent_recid', 'vr_case_number', 'vr_charge_degree', 'vr_offense_date', 'vr_charge_desc', 'type_of_assessment', 'decile_score.1', 'score_text', 'screening_date', 'v_type_of_assessment', 'v_decile_score', 'v_score_text', 'v_screening_date', 'in_custody', 'out_custody', 'priors_count.1', 'start', 'end', 'event', 'two_year_recid']\n",
            "\n",
            "--- Kolom Categorikal ---\n",
            "['name', 'first', 'last', 'compas_screening_date', 'sex', 'dob', 'age_cat', 'race', 'c_jail_in', 'c_jail_out', 'c_case_number', 'c_offense_date', 'c_arrest_date', 'c_charge_degree', 'c_charge_desc', 'r_case_number', 'r_charge_degree', 'r_offense_date', 'r_charge_desc', 'r_jail_in', 'r_jail_out', 'vr_case_number', 'vr_charge_degree', 'vr_offense_date', 'vr_charge_desc', 'type_of_assessment', 'score_text', 'screening_date', 'v_type_of_assessment', 'v_score_text', 'v_screening_date', 'in_custody', 'out_custody']\n",
            "\n",
            "--- Kolom Numerikal ---\n",
            "['id', 'age', 'juv_fel_count', 'decile_score', 'juv_misd_count', 'juv_other_count', 'priors_count', 'days_b_screening_arrest', 'c_days_from_compas', 'is_recid', 'r_days_from_arrest', 'violent_recid', 'is_violent_recid', 'decile_score.1', 'v_decile_score', 'priors_count.1', 'start', 'end', 'event', 'two_year_recid']\n"
          ]
        }
      ]
    },
    {
      "cell_type": "code",
      "source": [
        "# 2. Lihat 5 baris pertama untuk memahami isinya\n",
        "print(\"Lima baris pertama dari data:\")\n",
        "print(df.head())\n",
        "\n",
        "print(\"\\n\" + \"=\"*40 + \"\\n\")\n",
        "\n",
        "# 3. Lihat informasi dasar (tipe data, jumlah data non-null)\n",
        "print(\"Informasi dasar dan tipe data:\")\n",
        "df.info()\n",
        "\n",
        "print(\"\\n\" + \"=\"*40 + \"\\n\")\n",
        "\n",
        "# 4. Lihat ringkasan statistik untuk kolom numerik\n",
        "print(\"Ringkasan statistik data:\")\n",
        "print(df.describe())"
      ],
      "metadata": {
        "colab": {
          "base_uri": "https://localhost:8080/"
        },
        "id": "dktCu_iN3DV4",
        "outputId": "8107736f-9364-4891-efc8-0f198a79a4eb"
      },
      "execution_count": 8,
      "outputs": [
        {
          "output_type": "stream",
          "name": "stdout",
          "text": [
            "Lima baris pertama dari data:\n",
            "   id                name   first         last compas_screening_date   sex  \\\n",
            "0   1    miguel hernandez  miguel    hernandez            2013-08-14  Male   \n",
            "1   3         kevon dixon   kevon        dixon            2013-01-27  Male   \n",
            "2   4            ed philo      ed        philo            2013-04-14  Male   \n",
            "3   5         marcu brown   marcu        brown            2013-01-13  Male   \n",
            "4   6  bouthy pierrelouis  bouthy  pierrelouis            2013-03-26  Male   \n",
            "\n",
            "          dob  age          age_cat              race  ...  v_decile_score  \\\n",
            "0  1947-04-18   69  Greater than 45             Other  ...               1   \n",
            "1  1982-01-22   34          25 - 45  African-American  ...               1   \n",
            "2  1991-05-14   24     Less than 25  African-American  ...               3   \n",
            "3  1993-01-21   23     Less than 25  African-American  ...               6   \n",
            "4  1973-01-22   43          25 - 45             Other  ...               1   \n",
            "\n",
            "   v_score_text  v_screening_date  in_custody  out_custody  priors_count.1  \\\n",
            "0           Low        2013-08-14  2014-07-07   2014-07-14               0   \n",
            "1           Low        2013-01-27  2013-01-26   2013-02-05               0   \n",
            "2           Low        2013-04-14  2013-06-16   2013-06-16               4   \n",
            "3        Medium        2013-01-13         NaN          NaN               1   \n",
            "4           Low        2013-03-26         NaN          NaN               2   \n",
            "\n",
            "  start   end event two_year_recid  \n",
            "0     0   327     0              0  \n",
            "1     9   159     1              1  \n",
            "2     0    63     0              1  \n",
            "3     0  1174     0              0  \n",
            "4     0  1102     0              0  \n",
            "\n",
            "[5 rows x 53 columns]\n",
            "\n",
            "========================================\n",
            "\n",
            "Informasi dasar dan tipe data:\n",
            "<class 'pandas.core.frame.DataFrame'>\n",
            "RangeIndex: 7214 entries, 0 to 7213\n",
            "Data columns (total 53 columns):\n",
            " #   Column                   Non-Null Count  Dtype  \n",
            "---  ------                   --------------  -----  \n",
            " 0   id                       7214 non-null   int64  \n",
            " 1   name                     7214 non-null   object \n",
            " 2   first                    7214 non-null   object \n",
            " 3   last                     7214 non-null   object \n",
            " 4   compas_screening_date    7214 non-null   object \n",
            " 5   sex                      7214 non-null   object \n",
            " 6   dob                      7214 non-null   object \n",
            " 7   age                      7214 non-null   int64  \n",
            " 8   age_cat                  7214 non-null   object \n",
            " 9   race                     7214 non-null   object \n",
            " 10  juv_fel_count            7214 non-null   int64  \n",
            " 11  decile_score             7214 non-null   int64  \n",
            " 12  juv_misd_count           7214 non-null   int64  \n",
            " 13  juv_other_count          7214 non-null   int64  \n",
            " 14  priors_count             7214 non-null   int64  \n",
            " 15  days_b_screening_arrest  6907 non-null   float64\n",
            " 16  c_jail_in                6907 non-null   object \n",
            " 17  c_jail_out               6907 non-null   object \n",
            " 18  c_case_number            7192 non-null   object \n",
            " 19  c_offense_date           6055 non-null   object \n",
            " 20  c_arrest_date            1137 non-null   object \n",
            " 21  c_days_from_compas       7192 non-null   float64\n",
            " 22  c_charge_degree          7214 non-null   object \n",
            " 23  c_charge_desc            7185 non-null   object \n",
            " 24  is_recid                 7214 non-null   int64  \n",
            " 25  r_case_number            3471 non-null   object \n",
            " 26  r_charge_degree          3471 non-null   object \n",
            " 27  r_days_from_arrest       2316 non-null   float64\n",
            " 28  r_offense_date           3471 non-null   object \n",
            " 29  r_charge_desc            3413 non-null   object \n",
            " 30  r_jail_in                2316 non-null   object \n",
            " 31  r_jail_out               2316 non-null   object \n",
            " 32  violent_recid            0 non-null      float64\n",
            " 33  is_violent_recid         7214 non-null   int64  \n",
            " 34  vr_case_number           819 non-null    object \n",
            " 35  vr_charge_degree         819 non-null    object \n",
            " 36  vr_offense_date          819 non-null    object \n",
            " 37  vr_charge_desc           819 non-null    object \n",
            " 38  type_of_assessment       7214 non-null   object \n",
            " 39  decile_score.1           7214 non-null   int64  \n",
            " 40  score_text               7214 non-null   object \n",
            " 41  screening_date           7214 non-null   object \n",
            " 42  v_type_of_assessment     7214 non-null   object \n",
            " 43  v_decile_score           7214 non-null   int64  \n",
            " 44  v_score_text             7214 non-null   object \n",
            " 45  v_screening_date         7214 non-null   object \n",
            " 46  in_custody               6978 non-null   object \n",
            " 47  out_custody              6978 non-null   object \n",
            " 48  priors_count.1           7214 non-null   int64  \n",
            " 49  start                    7214 non-null   int64  \n",
            " 50  end                      7214 non-null   int64  \n",
            " 51  event                    7214 non-null   int64  \n",
            " 52  two_year_recid           7214 non-null   int64  \n",
            "dtypes: float64(4), int64(16), object(33)\n",
            "memory usage: 2.9+ MB\n",
            "\n",
            "========================================\n",
            "\n",
            "Ringkasan statistik data:\n",
            "                 id          age  juv_fel_count  decile_score  juv_misd_count  \\\n",
            "count   7214.000000  7214.000000    7214.000000   7214.000000     7214.000000   \n",
            "mean    5501.255753    34.817993       0.067230      4.509565        0.090934   \n",
            "std     3175.706870    11.888922       0.473972      2.856396        0.485239   \n",
            "min        1.000000    18.000000       0.000000      1.000000        0.000000   \n",
            "25%     2735.250000    25.000000       0.000000      2.000000        0.000000   \n",
            "50%     5509.500000    31.000000       0.000000      4.000000        0.000000   \n",
            "75%     8246.500000    42.000000       0.000000      7.000000        0.000000   \n",
            "max    11001.000000    96.000000      20.000000     10.000000       13.000000   \n",
            "\n",
            "       juv_other_count  priors_count  days_b_screening_arrest  \\\n",
            "count      7214.000000   7214.000000              6907.000000   \n",
            "mean          0.109371      3.472415                 3.304763   \n",
            "std           0.501586      4.882538                75.809505   \n",
            "min           0.000000      0.000000              -414.000000   \n",
            "25%           0.000000      0.000000                -1.000000   \n",
            "50%           0.000000      2.000000                -1.000000   \n",
            "75%           0.000000      5.000000                 0.000000   \n",
            "max          17.000000     38.000000              1057.000000   \n",
            "\n",
            "       c_days_from_compas     is_recid  r_days_from_arrest  violent_recid  \\\n",
            "count         7192.000000  7214.000000         2316.000000            0.0   \n",
            "mean            57.731368     0.481148           20.269430            NaN   \n",
            "std            329.740215     0.499679           74.871668            NaN   \n",
            "min              0.000000     0.000000           -1.000000            NaN   \n",
            "25%              1.000000     0.000000            0.000000            NaN   \n",
            "50%              1.000000     0.000000            0.000000            NaN   \n",
            "75%              2.000000     1.000000            1.000000            NaN   \n",
            "max           9485.000000     1.000000          993.000000            NaN   \n",
            "\n",
            "       is_violent_recid  decile_score.1  v_decile_score  priors_count.1  \\\n",
            "count       7214.000000     7214.000000     7214.000000     7214.000000   \n",
            "mean           0.113529        4.509565        3.691849        3.472415   \n",
            "std            0.317261        2.856396        2.510148        4.882538   \n",
            "min            0.000000        1.000000        1.000000        0.000000   \n",
            "25%            0.000000        2.000000        1.000000        0.000000   \n",
            "50%            0.000000        4.000000        3.000000        2.000000   \n",
            "75%            0.000000        7.000000        5.000000        5.000000   \n",
            "max            1.000000       10.000000       10.000000       38.000000   \n",
            "\n",
            "             start          end        event  two_year_recid  \n",
            "count  7214.000000  7214.000000  7214.000000     7214.000000  \n",
            "mean     11.465068   553.436651     0.382867        0.450652  \n",
            "std      46.954563   399.020583     0.486120        0.497593  \n",
            "min       0.000000     0.000000     0.000000        0.000000  \n",
            "25%       0.000000   148.250000     0.000000        0.000000  \n",
            "50%       0.000000   530.500000     0.000000        0.000000  \n",
            "75%       1.000000   914.000000     1.000000        1.000000  \n",
            "max     937.000000  1186.000000     1.000000        1.000000  \n"
          ]
        }
      ]
    },
    {
      "cell_type": "code",
      "source": [
        "# Cek nilai yang hilang\n",
        "print(\"\\n--- Nilai Hilang ---\")\n",
        "print(df.isnull().sum())\n",
        "print(f\"Jumlah baris sebelum menangani missing values: {len(df)}\")"
      ],
      "metadata": {
        "colab": {
          "base_uri": "https://localhost:8080/"
        },
        "id": "OUTl0fMB3K55",
        "outputId": "a1196048-7c1c-43cf-9422-27f3903c616b"
      },
      "execution_count": 9,
      "outputs": [
        {
          "output_type": "stream",
          "name": "stdout",
          "text": [
            "\n",
            "--- Nilai Hilang ---\n",
            "id                            0\n",
            "name                          0\n",
            "first                         0\n",
            "last                          0\n",
            "compas_screening_date         0\n",
            "sex                           0\n",
            "dob                           0\n",
            "age                           0\n",
            "age_cat                       0\n",
            "race                          0\n",
            "juv_fel_count                 0\n",
            "decile_score                  0\n",
            "juv_misd_count                0\n",
            "juv_other_count               0\n",
            "priors_count                  0\n",
            "days_b_screening_arrest     307\n",
            "c_jail_in                   307\n",
            "c_jail_out                  307\n",
            "c_case_number                22\n",
            "c_offense_date             1159\n",
            "c_arrest_date              6077\n",
            "c_days_from_compas           22\n",
            "c_charge_degree               0\n",
            "c_charge_desc                29\n",
            "is_recid                      0\n",
            "r_case_number              3743\n",
            "r_charge_degree            3743\n",
            "r_days_from_arrest         4898\n",
            "r_offense_date             3743\n",
            "r_charge_desc              3801\n",
            "r_jail_in                  4898\n",
            "r_jail_out                 4898\n",
            "violent_recid              7214\n",
            "is_violent_recid              0\n",
            "vr_case_number             6395\n",
            "vr_charge_degree           6395\n",
            "vr_offense_date            6395\n",
            "vr_charge_desc             6395\n",
            "type_of_assessment            0\n",
            "decile_score.1                0\n",
            "score_text                    0\n",
            "screening_date                0\n",
            "v_type_of_assessment          0\n",
            "v_decile_score                0\n",
            "v_score_text                  0\n",
            "v_screening_date              0\n",
            "in_custody                  236\n",
            "out_custody                 236\n",
            "priors_count.1                0\n",
            "start                         0\n",
            "end                           0\n",
            "event                         0\n",
            "two_year_recid                0\n",
            "dtype: int64\n",
            "Jumlah baris sebelum menangani missing values: 7214\n"
          ]
        }
      ]
    },
    {
      "cell_type": "code",
      "source": [
        "# Cek data duplikat\n",
        "print(\"\\n--- Data Duplikat ---\")\n",
        "duplicate_rows = df[df.duplicated()]\n",
        "print(f\"Jumlah baris duplikat: {len(duplicate_rows)}\")\n",
        "\n",
        "# Jika ada data duplikat, Anda bisa menampilkan beberapa contoh\n",
        "if not duplicate_rows.empty:\n",
        "    print(\"\\nContoh data duplikat:\")\n",
        "    print(duplicate_rows.head().to_markdown(index=False))\n",
        "\n",
        "print(f\"Jumlah baris sebelum menghapus duplikat: {len(df)}\")"
      ],
      "metadata": {
        "colab": {
          "base_uri": "https://localhost:8080/"
        },
        "id": "yk0N4MKz3O9R",
        "outputId": "34c00bcc-d363-4aad-f568-0f86de057f46"
      },
      "execution_count": 10,
      "outputs": [
        {
          "output_type": "stream",
          "name": "stdout",
          "text": [
            "\n",
            "--- Data Duplikat ---\n",
            "Jumlah baris duplikat: 0\n",
            "Jumlah baris sebelum menghapus duplikat: 7214\n"
          ]
        }
      ]
    },
    {
      "cell_type": "code",
      "source": [
        "# prompt: buatkan kode untuk menghapus kolom yang isinya kosong >50%\n",
        "\n",
        "# Hitung persentase nilai kosong untuk setiap kolom\n",
        "null_percentages = df.isnull().sum() / len(df)\n",
        "\n",
        "# Tentukan ambang batas (50%)\n",
        "threshold = 0.5\n",
        "\n",
        "# Identifikasi kolom yang memiliki persentase nilai kosong di atas ambang batas\n",
        "columns_to_drop = null_percentages[null_percentages > threshold].index.tolist()\n",
        "\n",
        "\n",
        "\n",
        "print(f\"\\n--- Kolom yang dihapus karena memiliki nilai kosong > {threshold*100}% ---\")\n",
        "print(columns_to_drop)\n",
        "\n",
        "\n",
        "print(f\"\\nJumlah kolom sebelum menghapus: {len(df.columns)}\")\n"
      ],
      "metadata": {
        "colab": {
          "base_uri": "https://localhost:8080/"
        },
        "id": "iRE_Ekcx4vsi",
        "outputId": "aaf2a752-e442-4b2b-97e7-c9f309c48490"
      },
      "execution_count": 11,
      "outputs": [
        {
          "output_type": "stream",
          "name": "stdout",
          "text": [
            "\n",
            "--- Kolom yang dihapus karena memiliki nilai kosong > 50.0% ---\n",
            "['c_arrest_date', 'r_case_number', 'r_charge_degree', 'r_days_from_arrest', 'r_offense_date', 'r_charge_desc', 'r_jail_in', 'r_jail_out', 'violent_recid', 'vr_case_number', 'vr_charge_degree', 'vr_offense_date', 'vr_charge_desc']\n",
            "\n",
            "Jumlah kolom sebelum menghapus: 53\n"
          ]
        }
      ]
    },
    {
      "cell_type": "code",
      "source": [
        "import pandas as pd\n",
        "import numpy as np\n",
        "\n",
        "# Memuat dataset asli\n",
        "print(f\"Jumlah baris awal: {len(df)}\")\n",
        "print(f\"Jumlah kolom awal: {len(df.columns)}\")\n",
        "print(\"-\" * 30)\n",
        "\n",
        "# 1. Definisikan kolom-kolom yang akan dihapus berdasarkan strategi\n",
        "columns_to_drop = [\n",
        "    # Kolom pengenal (tidak relevan untuk model)\n",
        "    'id', 'name', 'first', 'last', 'c_case_number',\n",
        "\n",
        "    # Kolom redundan\n",
        "    'priors_count.1', 'decile_score.1', 'screening_date',\n",
        "\n",
        "    # Kolom dengan persentase nilai hilang sangat tinggi\n",
        "    'violent_recid',          # 100% hilang\n",
        "    'c_arrest_date',          # ~84% hilang\n",
        "    'r_case_number',          # ~52% hilang\n",
        "    'r_charge_degree',        # ~52% hilang\n",
        "    'r_days_from_arrest',     # ~68% hilang\n",
        "    'r_offense_date',         # ~52% hilang\n",
        "    'r_charge_desc',          # ~53% hilang\n",
        "    'r_jail_in',              # ~68% hilang\n",
        "    'r_jail_out',             # ~68% hilang\n",
        "    'vr_case_number',         # ~88% hilang\n",
        "    'vr_charge_degree',       # ~88% hilang\n",
        "    'vr_offense_date',        # ~88% hilang\n",
        "    'vr_charge_desc'          # ~88% hilang\n",
        "]\n",
        "\n",
        "df_cleaned = df.drop(columns=columns_to_drop)\n",
        "print(f\"Jumlah kolom setelah menghapus kolom tidak relevan/kosong: {len(df_cleaned.columns)}\")"
      ],
      "metadata": {
        "colab": {
          "base_uri": "https://localhost:8080/"
        },
        "id": "PbiDq6P54tOR",
        "outputId": "2251c10c-26ab-4686-bd0b-39b11d0d410b"
      },
      "execution_count": 12,
      "outputs": [
        {
          "output_type": "stream",
          "name": "stdout",
          "text": [
            "Jumlah baris awal: 7214\n",
            "Jumlah kolom awal: 53\n",
            "------------------------------\n",
            "Jumlah kolom setelah menghapus kolom tidak relevan/kosong: 32\n"
          ]
        }
      ]
    },
    {
      "cell_type": "code",
      "source": [
        "\n",
        "# 2. Definisikan kolom-kolom di mana kita akan menghapus baris jika nilainya hilang\n",
        "cols_to_check_for_nan = [\n",
        "    'days_b_screening_arrest', 'c_jail_in', 'c_jail_out', 'c_offense_date',\n",
        "    'c_days_from_compas', 'c_charge_desc', 'in_custody', 'out_custody'\n",
        "]\n",
        "\n",
        "# Menghapus baris yang memiliki nilai NaN pada kolom-kolom di atas\n",
        "df_cleaned = df_cleaned.dropna(subset=cols_to_check_for_nan)\n",
        "\n",
        "\n",
        "# -- Verifikasi Hasil --\n",
        "print(f\"Jumlah baris setelah menghapus baris yang tidak lengkap: {len(df_cleaned)}\")\n",
        "print(\"-\" * 30)\n",
        "print(\"Pengecekan sisa nilai hilang di dataset yang sudah bersih:\")\n",
        "# Menampilkan jumlah nilai hilang per kolom, seharusnya semua 0\n",
        "print(df_cleaned.isnull().sum().to_string())"
      ],
      "metadata": {
        "colab": {
          "base_uri": "https://localhost:8080/"
        },
        "id": "2PJJU_M_5n9K",
        "outputId": "02a91df3-f1f6-49d2-8d13-f39a97f0ba56"
      },
      "execution_count": 13,
      "outputs": [
        {
          "output_type": "stream",
          "name": "stdout",
          "text": [
            "Jumlah baris setelah menghapus baris yang tidak lengkap: 5848\n",
            "------------------------------\n",
            "Pengecekan sisa nilai hilang di dataset yang sudah bersih:\n",
            "compas_screening_date      0\n",
            "sex                        0\n",
            "dob                        0\n",
            "age                        0\n",
            "age_cat                    0\n",
            "race                       0\n",
            "juv_fel_count              0\n",
            "decile_score               0\n",
            "juv_misd_count             0\n",
            "juv_other_count            0\n",
            "priors_count               0\n",
            "days_b_screening_arrest    0\n",
            "c_jail_in                  0\n",
            "c_jail_out                 0\n",
            "c_offense_date             0\n",
            "c_days_from_compas         0\n",
            "c_charge_degree            0\n",
            "c_charge_desc              0\n",
            "is_recid                   0\n",
            "is_violent_recid           0\n",
            "type_of_assessment         0\n",
            "score_text                 0\n",
            "v_type_of_assessment       0\n",
            "v_decile_score             0\n",
            "v_score_text               0\n",
            "v_screening_date           0\n",
            "in_custody                 0\n",
            "out_custody                0\n",
            "start                      0\n",
            "end                        0\n",
            "event                      0\n",
            "two_year_recid             0\n"
          ]
        }
      ]
    },
    {
      "cell_type": "code",
      "source": [
        "# Kita langsung gunakan df_cleaned. Untuk konsistensi, kita bisa menamainya 'df'.\n",
        "df = df_cleaned.copy() # Menggunakan .copy() adalah praktik yang baik\n",
        "\n",
        "# --- 1. Konversi Tipe Data Tanggal ---\n",
        "# Daftar kolom yang berisi informasi tanggal\n",
        "date_cols = [\n",
        "    'compas_screening_date', 'dob', 'c_jail_in', 'c_jail_out',\n",
        "    'c_offense_date', 'v_screening_date', 'in_custody', 'out_custody'\n",
        "]\n",
        "\n",
        "# Mengubah setiap kolom menjadi tipe data datetime\n",
        "for col in date_cols:\n",
        "    df[col] = pd.to_datetime(df[col])\n",
        "print(\"Konversi tipe data tanggal selesai.\")\n",
        "\n",
        "\n",
        "# --- 2. Rekayasa Fitur (Feature Engineering) ---\n",
        "# Membuat fitur baru: lama tinggal di penjara (dalam hari)\n",
        "df['jail_time'] = (df['c_jail_out'] - df['c_jail_in']).dt.total_seconds() / (24 * 3600)\n",
        "\n",
        "# Membuat fitur baru: usia saat skrining\n",
        "df['age_at_screening'] = (df['compas_screening_date'] - df['dob']).dt.days // 365\n",
        "print(\"Pembuatan fitur baru 'jail_time' dan 'age_at_screening' selesai.\")\n",
        "\n",
        "\n",
        "# --- 3. Encoding dan Pemisahan Data ---\n",
        "# Memisahkan variabel target (y)\n",
        "y = df['two_year_recid']\n",
        "\n",
        "# Memilih fitur untuk model (X)\n",
        "# Kita akan membuang kolom-kolom asli yang sudah tidak relevan\n",
        "features_to_drop = [\n",
        "    # Kolom tanggal asli\n",
        "    'compas_screening_date', 'dob', 'c_jail_in', 'c_jail_out', 'c_offense_date',\n",
        "    'v_screening_date', 'in_custody', 'out_custody',\n",
        "    # Kolom target\n",
        "    'two_year_recid',\n",
        "    # Kolom teks deskriptif atau yang tidak informatif untuk model awal\n",
        "    'type_of_assessment', 'v_type_of_assessment', 'event', 'c_charge_desc',\n",
        "    # Kolom 'age' asli (kita gunakan 'age_at_screening')\n",
        "    'age'\n",
        "]\n",
        "X_raw = df.drop(columns=features_to_drop)\n",
        "\n",
        "# Menerapkan One-Hot Encoding pada semua fitur kategorikal yang tersisa\n",
        "X_encoded = pd.get_dummies(X_raw, drop_first=True)\n",
        "print(\"Encoding fitur kategorikal selesai.\")\n",
        "\n",
        "\n",
        "# -- Verifikasi Hasil --\n",
        "print(\"-\" * 30)\n",
        "print(\"Bentuk (shape) dari data fitur setelah encoding (X):\", X_encoded.shape)\n",
        "print(\"\\nData fitur (X) dan target (y) yang sudah diproses siap digunakan.\")\n",
        "print(X_encoded.head()) # Anda bisa uncomment baris ini untuk melihat hasilnya\n",
        "\n",
        "# Menyimpan data yang sudah siap untuk modeling ke file baru (opsional)\n",
        "# X_encoded.to_csv('compas_features_encoded.csv', index=False)\n",
        "# y.to_csv('compas_target.csv', index=False)"
      ],
      "metadata": {
        "colab": {
          "base_uri": "https://localhost:8080/"
        },
        "id": "ZyTQXxIC63Rw",
        "outputId": "983e0d78-91c1-408e-a802-c050c7ef2c96"
      },
      "execution_count": 14,
      "outputs": [
        {
          "output_type": "stream",
          "name": "stdout",
          "text": [
            "Konversi tipe data tanggal selesai.\n",
            "Pembuatan fitur baru 'jail_time' dan 'age_at_screening' selesai.\n",
            "Encoding fitur kategorikal selesai.\n",
            "------------------------------\n",
            "Bentuk (shape) dari data fitur setelah encoding (X): (5848, 27)\n",
            "\n",
            "Data fitur (X) dan target (y) yang sudah diproses siap digunakan.\n",
            "   juv_fel_count  decile_score  juv_misd_count  juv_other_count  priors_count  \\\n",
            "0              0             1               0                0             0   \n",
            "1              0             3               0                0             0   \n",
            "2              0             4               0                1             4   \n",
            "5              0             1               0                0             0   \n",
            "6              0             6               0                0            14   \n",
            "\n",
            "   days_b_screening_arrest  c_days_from_compas  is_recid  is_violent_recid  \\\n",
            "0                     -1.0                 1.0         0                 0   \n",
            "1                     -1.0                 1.0         1                 1   \n",
            "2                     -1.0                 1.0         1                 0   \n",
            "5                      0.0                 0.0         0                 0   \n",
            "6                     -1.0                 1.0         1                 0   \n",
            "\n",
            "   v_decile_score  ...  race_Asian  race_Caucasian  race_Hispanic  \\\n",
            "0               1  ...       False           False          False   \n",
            "1               1  ...       False           False          False   \n",
            "2               3  ...       False           False          False   \n",
            "5               1  ...       False           False          False   \n",
            "6               2  ...       False            True          False   \n",
            "\n",
            "   race_Native American  race_Other  c_charge_degree_M  score_text_Low  \\\n",
            "0                 False        True              False            True   \n",
            "1                 False       False              False            True   \n",
            "2                 False       False              False            True   \n",
            "5                 False        True               True            True   \n",
            "6                 False       False              False           False   \n",
            "\n",
            "   score_text_Medium  v_score_text_Low  v_score_text_Medium  \n",
            "0              False              True                False  \n",
            "1              False              True                False  \n",
            "2              False              True                False  \n",
            "5              False              True                False  \n",
            "6               True              True                False  \n",
            "\n",
            "[5 rows x 27 columns]\n"
          ]
        }
      ]
    },
    {
      "cell_type": "markdown",
      "source": [
        "# Modelling dan evaluasi"
      ],
      "metadata": {
        "id": "qisCDA8G8iXZ"
      }
    },
    {
      "cell_type": "code",
      "source": [
        "# Diasumsikan 'X_encoded' dan 'y' adalah variabel dari hasil eksekusi Langkah 2\n",
        "\n",
        "from sklearn.model_selection import train_test_split\n",
        "from sklearn.linear_model import LogisticRegression\n",
        "from sklearn.metrics import (accuracy_score, classification_report, confusion_matrix,\n",
        "                             roc_curve, roc_auc_score) # <-- Impor fungsi baru\n",
        "import matplotlib.pyplot as plt # <-- Impor untuk plotting\n",
        "\n",
        "# 1. Membagi Data menjadi Data Latih dan Data Uji\n",
        "X_train, X_test, y_train, y_test = train_test_split(\n",
        "    X_encoded, y, test_size=0.20, random_state=42, stratify=y\n",
        ")\n",
        "\n",
        "# 2. Melatih Model Klasifikasi (Logistic Regression)\n",
        "model = LogisticRegression(max_iter=1000)\n",
        "model.fit(X_train, y_train)\n",
        "print(\"Model Logistic Regression telah berhasil dilatih.\")\n",
        "print(\"-\" * 40)\n",
        "\n",
        "\n",
        "# 3. Mengevaluasi Kinerja Model pada Data Uji\n",
        "print(\"Mengevaluasi model pada data uji...\")\n",
        "y_pred = model.predict(X_test) # Prediksi kelas (0 atau 1)\n",
        "\n",
        "# ----- BAGIAN BARU: EVALUASI DENGAN AUC-ROC -----\n",
        "\n",
        "# Dapatkan probabilitas prediksi untuk kelas positif (kelas '1')\n",
        "y_pred_proba = model.predict_proba(X_test)[:, 1]\n",
        "\n",
        "# Hitung skor AUC\n",
        "auc_score = roc_auc_score(y_test, y_pred_proba)\n",
        "\n",
        "# Hitung FPR, TPR untuk plotting kurva ROC\n",
        "fpr, tpr, thresholds = roc_curve(y_test, y_pred_proba)\n",
        "\n",
        "# ---------------------------------------------\n",
        "\n",
        "\n",
        "# Menampilkan hasil evaluasi\n",
        "accuracy = accuracy_score(y_test, y_pred)\n",
        "print(f\"Akurasi Model: {accuracy:.4f}\")\n",
        "print(f\"Skor AUC: {auc_score:.4f}\") # <-- Menampilkan skor AUC\n",
        "\n",
        "print(\"\\nLaporan Klasifikasi:\")\n",
        "print(classification_report(y_test, y_pred, target_names=['Not Recidivist (0)', 'Recidivist (1)']))\n",
        "\n",
        "print(\"\\nConfusion Matrix:\")\n",
        "print(\"                 Prediksi: 0   Prediksi: 1\")\n",
        "cm = confusion_matrix(y_test, y_pred)\n",
        "print(f\"Aktual: 0       {cm[0][0]:<12} {cm[0][1]:<12}\")\n",
        "print(f\"Aktual: 1       {cm[1][0]:<12} {cm[1][1]:<12}\")\n",
        "\n",
        "\n",
        "# ----- BAGIAN BARU: PLOTTING KURVA ROC -----\n",
        "\n",
        "plt.figure(figsize=(8, 6))\n",
        "plt.plot(fpr, tpr, color='blue', label=f'Kurva ROC (AUC = {auc_score:.4f})')\n",
        "plt.plot([0, 1], [0, 1], color='red', linestyle='--', label='Klasifikasi Acak')\n",
        "plt.xlabel('False Positive Rate (FPR)')\n",
        "plt.ylabel('True Positive Rate (TPR)')\n",
        "plt.title('Kurva Receiver Operating Characteristic (ROC)')\n",
        "plt.legend()\n",
        "plt.grid(True)\n",
        "plt.show()\n",
        "\n",
        "# ---------------------------------------------"
      ],
      "metadata": {
        "colab": {
          "base_uri": "https://localhost:8080/",
          "height": 1000
        },
        "id": "9zXEsGKs8kWI",
        "outputId": "2538f6fa-ba1c-40db-df98-65d931aa751d"
      },
      "execution_count": 15,
      "outputs": [
        {
          "output_type": "stream",
          "name": "stderr",
          "text": [
            "/usr/local/lib/python3.11/dist-packages/sklearn/linear_model/_logistic.py:465: ConvergenceWarning: lbfgs failed to converge (status=1):\n",
            "STOP: TOTAL NO. OF ITERATIONS REACHED LIMIT.\n",
            "\n",
            "Increase the number of iterations (max_iter) or scale the data as shown in:\n",
            "    https://scikit-learn.org/stable/modules/preprocessing.html\n",
            "Please also refer to the documentation for alternative solver options:\n",
            "    https://scikit-learn.org/stable/modules/linear_model.html#logistic-regression\n",
            "  n_iter_i = _check_optimize_result(\n"
          ]
        },
        {
          "output_type": "stream",
          "name": "stdout",
          "text": [
            "Model Logistic Regression telah berhasil dilatih.\n",
            "----------------------------------------\n",
            "Mengevaluasi model pada data uji...\n",
            "Akurasi Model: 0.9812\n",
            "Skor AUC: 0.9964\n",
            "\n",
            "Laporan Klasifikasi:\n",
            "                    precision    recall  f1-score   support\n",
            "\n",
            "Not Recidivist (0)       1.00      0.97      0.98       631\n",
            "    Recidivist (1)       0.96      1.00      0.98       539\n",
            "\n",
            "          accuracy                           0.98      1170\n",
            "         macro avg       0.98      0.98      0.98      1170\n",
            "      weighted avg       0.98      0.98      0.98      1170\n",
            "\n",
            "\n",
            "Confusion Matrix:\n",
            "                 Prediksi: 0   Prediksi: 1\n",
            "Aktual: 0       611          20          \n",
            "Aktual: 1       2            537         \n"
          ]
        },
        {
          "output_type": "display_data",
          "data": {
            "text/plain": [
              "<Figure size 800x600 with 1 Axes>"
            ],
            "image/png": "[encoded data removed]"
          },
          "metadata": {}
        }
      ]
    },
    {
      "cell_type": "markdown",
      "source": [
        "Bagian 1: Analisis Performa (Apa yang Angka Katakan)\n",
        "Jika kita melihat angka-angka ini secara harfiah, inilah artinya:\n",
        "\n",
        "Akurasi Model: 0.9812 (98.1%): Model Anda berhasil menebak dengan benar pada 98% kasus di data uji. Ini adalah tingkat akurasi yang sangat tinggi.\n",
        "Skor AUC: 0.9964: Ini adalah skor yang fenomenal. Ini berarti ada 99.64% kemungkinan model dapat membedakan dengan sempurna antara seseorang yang akan menjadi residivis dan yang tidak. Kurva ROC yang Anda lampirkan, yang hampir menyentuh sudut kiri atas, secara visual mengkonfirmasi hal ini.\n",
        "Precision & Recall: Keduanya sangat tinggi (di atas 0.96). Ini berarti model hampir tidak pernah salah dalam memprediksi (presisi tinggi) dan hampir tidak pernah melewatkan kasus yang seharusnya ditemukan (recall tinggi).\n",
        "Confusion Matrix: Angkanya sangat baik. Hanya ada 20 kasus False Positive (salah prediksi akan kambuh) dan hanya 2 kasus False Negative (gagal memprediksi residivis).\n",
        "Bagian 2: Analisis Kritis (Kesimpulan yang Sebenarnya)\n",
        "Skor yang setinggi ini untuk masalah sosial yang kompleks seperti prediksi residivisme sangatlah tidak biasa dan merupakan indikasi kuat adanya 'kebocoran data' (Data Leakage).\n",
        "\n",
        "Apa itu Kebocoran Data?\n",
        "Ini terjadi ketika model Anda secara tidak sengaja mendapatkan akses ke informasi selama pelatihan yang tidak akan tersedia pada saat prediksi di dunia nyata. Akibatnya, model tidak belajar pola yang sebenarnya, melainkan \"menghafal\" atau menemukan jalan pintas dari fitur yang membocorkan jawaban.\n",
        "\n",
        "Di Mana Kebocorannya?\n",
        "Dalam kasus Anda, fitur yang paling mungkin menjadi penyebab kebocoran data adalah is_recid.\n",
        "\n",
        "Target Anda adalah two_year_recid (apakah residivisme terjadi dalam 2 tahun).\n",
        "Fitur is_recid adalah penanda apakah residivisme terjadi kapan saja.\n",
        "Secara logika, jika is_recid bernilai 1, kemungkinan besar two_year_recid juga 1. Model Anda tidak perlu bekerja keras; ia hanya belajar korelasi yang sangat jelas ini: \"Jika is_recid=1, maka prediksi two_year_recid=1\".\n",
        "Fitur lain yang juga membocorkan informasi adalah end dan event, karena keduanya secara langsung berkaitan dengan waktu terjadinya residivisme yang menjadi target prediksi.\n",
        "\n",
        "Kesimpulan Utama: Kesimpulan yang paling akurat bukanlah bahwa modelnya hebat, melainkan bahwa proses persiapan data memasukkan fitur yang membocorkan informasi tentang target (is_recid). Model tersebut berhasil menemukan 'jalan pintas' ini, sehingga menghasilkan skor performa yang meningkat secara artifisial."
      ],
      "metadata": {
        "id": "vzCVo02f9FcH"
      }
    },
    {
      "cell_type": "code",
      "source": [
        "import pandas as pd\n",
        "import numpy as np\n",
        "from sklearn.model_selection import train_test_split\n",
        "from sklearn.linear_model import LogisticRegression\n",
        "from sklearn.metrics import (accuracy_score, classification_report, confusion_matrix,\n",
        "                             roc_curve, roc_auc_score)\n",
        "import matplotlib.pyplot as plt\n",
        "\n",
        "# --- LANGKAH 1: MEMUAT DAN MEMBERSIHKAN DATA (Sama seperti sebelumnya) ---\n",
        "\n",
        "# Memuat dataset asli\n",
        "\n",
        "\n",
        "# Definisikan kolom-kolom yang akan dihapus (tidak relevan atau terlalu banyak nilai hilang)\n",
        "initial_columns_to_drop = [\n",
        "    'id', 'name', 'first', 'last', 'c_case_number', 'priors_count.1',\n",
        "    'decile_score.1', 'screening_date', 'violent_recid', 'c_arrest_date',\n",
        "    'r_case_number', 'r_charge_degree', 'r_days_from_arrest', 'r_offense_date',\n",
        "    'r_charge_desc', 'r_jail_in', 'r_jail_out', 'vr_case_number',\n",
        "    'vr_charge_degree', 'vr_offense_date', 'vr_charge_desc'\n",
        "]\n",
        "\n",
        "# Filter the columns to drop based on existence in the DataFrame\n",
        "columns_to_drop_existing = [col for col in initial_columns_to_drop if col in df.columns]\n",
        "\n",
        "df_cleaned = df.drop(columns=columns_to_drop_existing)\n",
        "\n",
        "# Hapus baris dengan nilai yang hilang pada kolom-kolom kritis\n",
        "rows_to_check_for_nan = [\n",
        "    'days_b_screening_arrest', 'c_jail_in', 'c_jail_out', 'c_offense_date',\n",
        "    'c_days_from_compas', 'c_charge_desc', 'in_custody', 'out_custody'\n",
        "]\n",
        "df_cleaned = df_cleaned.dropna(subset=rows_to_check_for_nan)\n",
        "print(\"Langkah 1: Pembersihan data selesai.\")\n",
        "print(f\"Jumlah baris setelah pembersihan: {len(df_cleaned)}\")\n",
        "print(\"-\" * 50)\n",
        "\n",
        "\n",
        "# --- LANGKAH 2: REKAYASA FITUR & ENCODING (Dengan Perbaikan Kebocoran Data) ---\n",
        "\n",
        "df = df_cleaned.copy()\n",
        "\n",
        "# Konversi kolom tanggal\n",
        "date_cols = [\n",
        "    'compas_screening_date', 'dob', 'c_jail_in', 'c_jail_out',\n",
        "    'c_offense_date', 'v_screening_date', 'in_custody', 'out_custody'\n",
        "]\n",
        "for col in date_cols:\n",
        "    df[col] = pd.to_datetime(df[col])\n",
        "\n",
        "# Rekayasa fitur baru\n",
        "df['jail_time'] = (df['c_jail_out'] - df['c_jail_in']).dt.total_seconds() / (24 * 3600)\n",
        "df['age_at_screening'] = (df['compas_screening_date'] - df['dob']).dt.days // 365\n",
        "\n",
        "# Pisahkan variabel target (y)\n",
        "y = df['two_year_recid']\n",
        "\n",
        "# Definisikan fitur yang akan dibuang\n",
        "features_to_drop = [\n",
        "    # Kolom tanggal asli\n",
        "    'compas_screening_date', 'dob', 'c_jail_in', 'c_jail_out', 'c_offense_date',\n",
        "    'v_screening_date', 'in_custody', 'out_custody',\n",
        "    # Kolom target\n",
        "    'two_year_recid',\n",
        "    # Kolom teks deskriptif\n",
        "    'type_of_assessment', 'v_type_of_assessment', 'c_charge_desc',\n",
        "    # Kolom 'age' asli\n",
        "    'age',\n",
        "    # ========================================================================\n",
        "    # FIX: Hapus fitur yang membocorkan data (data leakage)\n",
        "    'is_recid',\n",
        "    'is_violent_recid',\n",
        "    'event',\n",
        "    'start',\n",
        "    'end'\n",
        "    # ========================================================================\n",
        "]\n",
        "\n",
        "# Filter features_to_drop based on existing columns in df\n",
        "features_to_drop_existing = [col for col in features_to_drop if col in df.columns]\n",
        "\n",
        "X_raw = df.drop(columns=features_to_drop_existing)\n",
        "\n",
        "# Terapkan One-Hot Encoding\n",
        "X_encoded = pd.get_dummies(X_raw, drop_first=True)\n",
        "print(\"Langkah 2: Rekayasa fitur dan encoding (setelah perbaikan) selesai.\")\n",
        "print(f\"Jumlah fitur setelah encoding: {X_encoded.shape[1]}\")\n",
        "print(\"-\" * 50)\n",
        "\n",
        "\n",
        "# --- LANGKAH 3: PELATIHAN DAN EVALUASI MODEL (Hasil yang Realistis) ---\n",
        "\n",
        "# Bagi data menjadi data latih dan uji\n",
        "X_train, X_test, y_train, y_test = train_test_split(\n",
        "    X_encoded, y, test_size=0.20, random_state=42, stratify=y\n",
        ")\n",
        "\n",
        "# Latih model Logistic Regression\n",
        "# Peringatan 'ConvergenceWarning' mungkin masih muncul, ini adalah isu teknis\n",
        "# dan tidak berhubungan dengan data leakage. Bisa diabaikan untuk saat ini.\n",
        "model = LogisticRegression(max_iter=2000) # max_iter dinaikkan untuk coba atasi warning\n",
        "model.fit(X_train, y_train)\n",
        "print(\"Langkah 3: Pelatihan model selesai.\")\n",
        "print(\"-\" * 50)\n",
        "\n",
        "\n",
        "# Evaluasi Kinerja Model pada Data Uji\n",
        "print(\"Mengevaluasi model (hasil yang realistis)...\")\n",
        "y_pred = model.predict(X_test)\n",
        "y_pred_proba = model.predict_proba(X_test)[:, 1]\n",
        "auc_score = roc_auc_score(y_test, y_pred_proba)\n",
        "accuracy = accuracy_score(y_test, y_pred)\n",
        "\n",
        "print(f\"Akurasi Model: {accuracy:.4f}\")\n",
        "print(f\"Skor AUC: {auc_score:.4f}\")\n",
        "\n",
        "print(\"\\nLaporan Klasifikasi:\")\n",
        "print(classification_report(y_test, y_pred, target_names=['Not Recidivist (0)', 'Recidivist (1)']))\n",
        "\n",
        "# Plotting Kurva ROC\n",
        "plt.figure(figsize=(8, 6))\n",
        "fpr, tpr, thresholds = roc_curve(y_test, y_pred_proba)\n",
        "plt.plot(fpr, tpr, color='blue', label=f'Kurva ROC (AUC = {auc_score:.4f})')\n",
        "plt.plot([0, 1], [0, 1], color='red', linestyle='--', label='Klasifikasi Acak')\n",
        "plt.xlabel('False Positive Rate (FPR)')\n",
        "plt.ylabel('True Positive Rate (TPR)')\n",
        "plt.title('Kurva ROC (Setelah Perbaikan Data Leakage)')\n",
        "plt.legend()\n",
        "plt.grid(True)\n",
        "plt.show()"
      ],
      "metadata": {
        "colab": {
          "base_uri": "https://localhost:8080/",
          "height": 946
        },
        "id": "2x0d2gpBBX-I",
        "outputId": "13cc9ece-9fad-4e2c-967b-941ca8ef9241"
      },
      "execution_count": 20,
      "outputs": [
        {
          "output_type": "stream",
          "name": "stdout",
          "text": [
            "Langkah 1: Pembersihan data selesai.\n",
            "Jumlah baris setelah pembersihan: 5848\n",
            "--------------------------------------------------\n",
            "Langkah 2: Rekayasa fitur dan encoding (setelah perbaikan) selesai.\n",
            "Jumlah fitur setelah encoding: 23\n",
            "--------------------------------------------------\n",
            "Langkah 3: Pelatihan model selesai.\n",
            "--------------------------------------------------\n",
            "Mengevaluasi model (hasil yang realistis)...\n",
            "Akurasi Model: 0.6863\n",
            "Skor AUC: 0.7334\n",
            "\n",
            "Laporan Klasifikasi:\n",
            "                    precision    recall  f1-score   support\n",
            "\n",
            "Not Recidivist (0)       0.67      0.81      0.74       631\n",
            "    Recidivist (1)       0.71      0.54      0.61       539\n",
            "\n",
            "          accuracy                           0.69      1170\n",
            "         macro avg       0.69      0.68      0.68      1170\n",
            "      weighted avg       0.69      0.69      0.68      1170\n",
            "\n"
          ]
        },
        {
          "output_type": "display_data",
          "data": {
            "text/plain": [
              "<Figure size 800x600 with 1 Axes>"
            ],
            "image/png": "[encoded data removed]"
          },
          "metadata": {}
        }
      ]
    },
    {
      "cell_type": "markdown",
      "source": [
        "Kesimpulan Akhir Analisis Model (Versi Realistis)\n",
        "Model Regresi Logistik Anda sekarang berfungsi sebagai baseline yang baik dan informatif. Meskipun skornya tidak setinggi sebelumnya, hasil ini nyata dan memberikan wawasan berharga tentang pola dalam data Anda.\n",
        "\n",
        "1. Analisis Performa Keseluruhan\n",
        "Skor AUC = 0.7334: Ini adalah metrik terpenting Anda. Skor 0.73 menunjukkan bahwa model memiliki kemampuan prediksi yang cukup baik (fair), jauh lebih unggul daripada tebakan acak (AUC 0.5). Ada 73.3% kemungkinan model Anda akan memberikan skor risiko yang lebih tinggi kepada seseorang yang akan menjadi residivis dibandingkan dengan yang tidak.\n",
        "Akurasi Model = 0.6863 (68.6%): Secara keseluruhan, model Anda membuat prediksi yang benar untuk sekitar 69% dari semua kasus. Ini adalah titik awal yang solid untuk masalah yang kompleks ini.\n",
        "2. Wawasan Terdalam dari Laporan Klasifikasi\n",
        "Di sinilah cerita sebenarnya terungkap:\n",
        "\n",
        "Kekuatan Model: Model ini relatif baik dalam mengidentifikasi individu yang tidak akan menjadi residivis.\n",
        "Ia memiliki Recall 0.81 untuk kelas 0, yang berarti model ini berhasil \"menemukan\" 81% dari semua orang yang memang tidak kambuh.\n",
        "Kelemahan Terbesar Model: Kelemahan utamanya adalah dalam mendeteksi individu yang akan menjadi residivis.\n",
        "Ia hanya memiliki Recall 0.54 untuk kelas 1. Ini adalah poin paling kritis: model Anda melewatkan 46% (100% - 54%) dari semua orang yang pada kenyataannya menjadi residivis.\n",
        "Dalam istilah praktis, ini berarti ada tingkat Negatif Palsu (False Negative) yang tinggi. Model cenderung terlalu sering mengatakan \"aman\" kepada orang yang sebenarnya berisiko.\n",
        "Kesimpulan Akhir:\n",
        "Model Regresi Logistik Anda telah berhasil mempelajari pola-pola nyata dari data untuk memprediksi residivisme. Namun, model ini memiliki kecenderungan untuk lebih \"optimis\", di mana ia lebih baik dalam memastikan siapa yang berisiko rendah daripada secara akurat menandai siapa yang berisiko tinggi. Kegagalannya untuk mendeteksi hampir separuh dari residivis aktual adalah batasan utamanya."
      ],
      "metadata": {
        "id": "uop6blGCEBpP"
      }
    }
  ]
}