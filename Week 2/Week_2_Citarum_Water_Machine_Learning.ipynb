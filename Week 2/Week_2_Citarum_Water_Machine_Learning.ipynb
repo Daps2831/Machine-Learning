{
  "nbformat": 4,
  "nbformat_minor": 0,
  "metadata": {
    "colab": {
      "provenance": [],
      "authorship_tag": "ABX9TyMdqvECZIjlrtn08M2KkykS",
      "include_colab_link": true
    },
    "kernelspec": {
      "name": "python3",
      "display_name": "Python 3"
    },
    "language_info": {
      "name": "python"
    }
  },
  "cells": [
    {
      "cell_type": "markdown",
      "metadata": {
        "id": "view-in-github",
        "colab_type": "text"
      },
      "source": [
        "<a href=\"https://colab.research.google.com/github/Daps2831/Machine-Learning/blob/main/Week%202/Week_2_Citarum_Water_Machine_Learning.ipynb\" target=\"_parent\"><img src=\"https://colab.research.google.com/assets/colab-badge.svg\" alt=\"Open In Colab\"/></a>"
      ]
    },
    {
      "cell_type": "markdown",
      "source": [
        "# Mount File"
      ],
      "metadata": {
        "id": "xhQM5D6pIvme"
      }
    },
    {
      "cell_type": "code",
      "execution_count": 2,
      "metadata": {
        "colab": {
          "base_uri": "https://localhost:8080/"
        },
        "id": "XZ6kGrxlIkIM",
        "outputId": "061b7bbd-24ca-48f9-af5c-e8b0b26b8be2"
      },
      "outputs": [
        {
          "output_type": "stream",
          "name": "stdout",
          "text": [
            "Mounted at /content/drive\n"
          ]
        }
      ],
      "source": [
        "from google.colab import drive\n",
        "drive.mount('/content/drive')"
      ]
    },
    {
      "cell_type": "code",
      "source": [
        "import pandas as pd\n",
        "\n",
        "# Ganti path sesuai lokasi file di Google Drive\n",
        "# note: dataset obesity_level diambil dari kaggle\n",
        "file_path = \"/content/drive/MyDrive/Dataset/CitarumWater.csv\"\n",
        "# Membaca file Excel\n",
        "df = pd.read_csv(file_path)\n"
      ],
      "metadata": {
        "id": "amfC0NwbIyGd"
      },
      "execution_count": 3,
      "outputs": []
    },
    {
      "cell_type": "markdown",
      "source": [
        "## Data Preprocessing"
      ],
      "metadata": {
        "id": "3lo9n1HRKBYU"
      }
    },
    {
      "cell_type": "code",
      "source": [
        "# Tampilkan kolom kategorikal dan numerikal\n",
        "print(\"\\n--- Semua Kolom ---\")\n",
        "print(df.columns.tolist())\n",
        "\n",
        "# Pisahkan kolom numerikal dan kategorikal\n",
        "numerical_cols = df.select_dtypes(include=['int64', 'float64']).columns\n",
        "categorical_cols = df.select_dtypes(include=['object']).columns\n",
        "\n",
        "print(\"\\n--- Kolom Categorikal ---\")\n",
        "print(list(categorical_cols))\n",
        "print(\"\\n--- Kolom Numerikal ---\")\n",
        "print(list(numerical_cols))"
      ],
      "metadata": {
        "colab": {
          "base_uri": "https://localhost:8080/"
        },
        "id": "Q_zDzFeMSJnR",
        "outputId": "e258ae10-eb4d-47c9-e82e-26fd1d739a8a"
      },
      "execution_count": 7,
      "outputs": [
        {
          "output_type": "stream",
          "name": "stdout",
          "text": [
            "\n",
            "--- Semua Kolom ---\n",
            "['No', 'NamaSungai', 'TitikPantau', 'Waktu', 'pH', 'Temp', 'TSS', 'DO', 'BOD', 'COD', 'Nitrat', 'FecalColiform', 'Fosfat', 'O2', 'IP', 'Class']\n",
            "\n",
            "--- Kolom Categorikal ---\n",
            "['NamaSungai', 'TitikPantau', 'Waktu', 'Temp', 'O2']\n",
            "\n",
            "--- Kolom Numerikal ---\n",
            "['No', 'pH', 'TSS', 'DO', 'BOD', 'COD', 'Nitrat', 'FecalColiform', 'Fosfat', 'IP', 'Class']\n"
          ]
        }
      ]
    },
    {
      "cell_type": "code",
      "source": [
        "# Menampilkan 5 baris pertama\n",
        "print(\"Data Awal:\")\n",
        "print(df.head())\n",
        "\n",
        "# Menampilkan informasi ringkas tentang data (tipe data, nilai non-null)\n",
        "print(\"\\nInformasi Data:\")\n",
        "df.info()\n",
        "\n",
        "# Menampilkan jumlah nilai yang hilang di setiap kolom\n",
        "print(\"\\nJumlah Nilai Hilang:\")\n",
        "print(df.isnull().sum())"
      ],
      "metadata": {
        "id": "vNNjSinCKqil",
        "colab": {
          "base_uri": "https://localhost:8080/"
        },
        "outputId": "800d22ea-2223-4f35-b4a0-6dae11f1182d"
      },
      "execution_count": 5,
      "outputs": [
        {
          "output_type": "stream",
          "name": "stdout",
          "text": [
            "Data Awal:\n",
            "   No NamaSungai             TitikPantau       Waktu    pH     Temp   TSS  \\\n",
            "0   1    Citarum             Wangisagara  18/04/2018  7.57  25.55°C  11.0   \n",
            "1   2    Citarum                   Koyod  18/04/2018  7.69  25.55°C  13.0   \n",
            "2   3    Citarum   Setelah IPAL Cisirung  18/04/2018  7.39  25.55°C  15.0   \n",
            "3   4    Citarum                 Nanjung  18/04/2018  7.49  25.55°C  17.0   \n",
            "4   5    Citarum  Outlet Waduk Jatiluhur  18/04/2018  7.17  25.55°C   6.0   \n",
            "\n",
            "     DO   BOD    COD  Nitrat  FecalColiform  Fosfat O2    IP  Class  \n",
            "0  6.11  3.30   6.10    1.08        17000.0   0.043  -  5.12      3  \n",
            "1  6.20  5.31  12.50    1.85        28000.0   0.011  -  5.91      3  \n",
            "2  3.61  7.40  23.50    1.25        90000.0   0.230  -  7.76      3  \n",
            "3  3.17  8.13  27.50    1.21       300000.0   0.057  -  9.61      3  \n",
            "4  6.82  2.89   5.44    1.04         3000.0   0.110  -  2.44      2  \n",
            "\n",
            "Informasi Data:\n",
            "<class 'pandas.core.frame.DataFrame'>\n",
            "RangeIndex: 2500 entries, 0 to 2499\n",
            "Data columns (total 16 columns):\n",
            " #   Column         Non-Null Count  Dtype  \n",
            "---  ------         --------------  -----  \n",
            " 0   No             2500 non-null   int64  \n",
            " 1   NamaSungai     2500 non-null   object \n",
            " 2   TitikPantau    2500 non-null   object \n",
            " 3   Waktu          2500 non-null   object \n",
            " 4   pH             2500 non-null   float64\n",
            " 5   Temp           2500 non-null   object \n",
            " 6   TSS            2500 non-null   float64\n",
            " 7   DO             2500 non-null   float64\n",
            " 8   BOD            2500 non-null   float64\n",
            " 9   COD            2500 non-null   float64\n",
            " 10  Nitrat         2500 non-null   float64\n",
            " 11  FecalColiform  2500 non-null   float64\n",
            " 12  Fosfat         2500 non-null   float64\n",
            " 13  O2             2500 non-null   object \n",
            " 14  IP             2500 non-null   float64\n",
            " 15  Class          2500 non-null   int64  \n",
            "dtypes: float64(9), int64(2), object(5)\n",
            "memory usage: 312.6+ KB\n",
            "\n",
            "Jumlah Nilai Hilang:\n",
            "No               0\n",
            "NamaSungai       0\n",
            "TitikPantau      0\n",
            "Waktu            0\n",
            "pH               0\n",
            "Temp             0\n",
            "TSS              0\n",
            "DO               0\n",
            "BOD              0\n",
            "COD              0\n",
            "Nitrat           0\n",
            "FecalColiform    0\n",
            "Fosfat           0\n",
            "O2               0\n",
            "IP               0\n",
            "Class            0\n",
            "dtype: int64\n"
          ]
        }
      ]
    },
    {
      "cell_type": "code",
      "source": [
        "from sklearn.preprocessing import LabelEncoder\n",
        "\n",
        "# Pilih kolom kategorikal yang ingin di-encode\n",
        "categorical_cols = ['NamaSungai', 'TitikPantau', 'Waktu', 'Temp', 'O2'] # Ganti dengan nama kolom kategorikal Anda\n",
        "\n",
        "# Buat salinan dataframe agar tidak mengubah dataframe asli\n",
        "df_encoded_only = df.copy()\n",
        "\n",
        "# Lakukan encoding menggunakan LabelEncoder\n",
        "for col in categorical_cols:\n",
        "    le = LabelEncoder()\n",
        "    df_encoded_only[col] = le.fit_transform(df_encoded_only[col])\n",
        "\n",
        "# Tampilkan beberapa baris pertama setelah encoding\n",
        "print(\"\\n--- Dataframe Setelah Encoding Variabel Kategorikal ---\")\n",
        "print(df_encoded_only.head())"
      ],
      "metadata": {
        "colab": {
          "base_uri": "https://localhost:8080/"
        },
        "id": "48oVPcQ4RiJy",
        "outputId": "260e0faa-e749-40b9-a8fc-312b2040bca8"
      },
      "execution_count": 12,
      "outputs": [
        {
          "output_type": "stream",
          "name": "stdout",
          "text": [
            "\n",
            "--- Dataframe Setelah Encoding Variabel Kategorikal ---\n",
            "   No  NamaSungai  TitikPantau  Waktu    pH  Temp   TSS    DO   BOD    COD  \\\n",
            "0   1           0            7    568  7.57     0  11.0  6.11  3.30   6.10   \n",
            "1   2           0            2    568  7.69     0  13.0  6.20  5.31  12.50   \n",
            "2   3           0            5    568  7.39     0  15.0  3.61  7.40  23.50   \n",
            "3   4           0            3    568  7.49     0  17.0  3.17  8.13  27.50   \n",
            "4   5           0            4    568  7.17     0   6.0  6.82  2.89   5.44   \n",
            "\n",
            "   Nitrat  FecalColiform  Fosfat  O2    IP  Class  \n",
            "0    1.08        17000.0   0.043   0  5.12      3  \n",
            "1    1.85        28000.0   0.011   0  5.91      3  \n",
            "2    1.25        90000.0   0.230   0  7.76      3  \n",
            "3    1.21       300000.0   0.057   0  9.61      3  \n",
            "4    1.04         3000.0   0.110   0  2.44      2  \n"
          ]
        }
      ]
    },
    {
      "cell_type": "markdown",
      "source": [
        "# Machine Learning"
      ],
      "metadata": {
        "id": "skN61iHxLX1k"
      }
    },
    {
      "cell_type": "code",
      "source": [
        "# Memisahkan fitur (X) dan target (y)\n",
        "X = df_encoded_only .drop('Class', axis=1)\n",
        "y = df_encoded_only ['Class']\n",
        "\n",
        "print(\"\\nBentuk data Fitur (X):\", X.shape)\n",
        "print(\"Bentuk data Target (y):\", y.shape)"
      ],
      "metadata": {
        "colab": {
          "base_uri": "https://localhost:8080/"
        },
        "id": "bCu9M_aALVG0",
        "outputId": "cc25da6e-1355-4007-8fc8-9960db50134a"
      },
      "execution_count": 19,
      "outputs": [
        {
          "output_type": "stream",
          "name": "stdout",
          "text": [
            "\n",
            "Bentuk data Fitur (X): (2500, 15)\n",
            "Bentuk data Target (y): (2500,)\n"
          ]
        }
      ]
    },
    {
      "cell_type": "code",
      "source": [
        "from sklearn.model_selection import train_test_split\n",
        "\n",
        "# Membagi data dengan rasio 80% data latih dan 20% data uji\n",
        "# Gunakan X_scaled yang sudah distandardisasi\n",
        "X_train, X_test, y_train, y_test = train_test_split(X_scaled, y, test_size=0.2, random_state=42, stratify=y)\n",
        "\n",
        "print(\"\\nUkuran data latih (X_train):\", X_train.shape)\n",
        "print(\"Ukuran data uji (X_test):\", X_test.shape)"
      ],
      "metadata": {
        "colab": {
          "base_uri": "https://localhost:8080/"
        },
        "id": "b72PCkjFLikz",
        "outputId": "aea30803-394f-408b-d984-461cc779f40c"
      },
      "execution_count": 20,
      "outputs": [
        {
          "output_type": "stream",
          "name": "stdout",
          "text": [
            "\n",
            "Ukuran data latih (X_train): (2000, 15)\n",
            "Ukuran data uji (X_test): (500, 15)\n"
          ]
        }
      ]
    },
    {
      "cell_type": "code",
      "source": [
        "from sklearn.preprocessing import StandardScaler\n",
        "\n",
        "\n",
        "# Inisialisasi scaler\n",
        "scaler = StandardScaler()\n",
        "\n",
        "# Fit dan transform HANYA pada data latih (X_train)\n",
        "X_train_scaled = scaler.fit_transform(X_train)\n",
        "\n",
        "# Transform HANYA pada data uji (X_test) dengan scaler yang sudah di-fit\n",
        "X_test_scaled = scaler.transform(X_test)"
      ],
      "metadata": {
        "id": "6QABgd_FLfqV"
      },
      "execution_count": 22,
      "outputs": []
    },
    {
      "cell_type": "code",
      "source": [
        "\n",
        "from sklearn.linear_model import LogisticRegression\n",
        "import numpy as np\n",
        "\n",
        "# 7. MEMBUAT DAN MELATIH MODEL LOGISTIC REGRESSION\n",
        "# Inisialisasi model\n",
        "model = LogisticRegression(random_state=42)\n",
        "\n",
        "# Melatih model menggunakan data latih yang sudah di-scaling\n",
        "model.fit(X_train_scaled, y_train)\n",
        "\n",
        "# 8. MEMBUAT PREDIKSI\n",
        "# Membuat prediksi pada data uji\n",
        "y_pred = model.predict(X_test_scaled)"
      ],
      "metadata": {
        "id": "0d6XRMyINIEU"
      },
      "execution_count": 23,
      "outputs": []
    },
    {
      "cell_type": "code",
      "source": [
        "from sklearn.metrics import (\n",
        "    accuracy_score,\n",
        "    precision_score,\n",
        "    recall_score,\n",
        "    f1_score,\n",
        "    confusion_matrix,\n",
        "    classification_report\n",
        ")\n",
        "import matplotlib.pyplot as plt\n",
        "import seaborn as sns\n",
        "\n",
        "# Assuming you have defined class_names based on your data's classes\n",
        "# Example: class_names = ['Class 1', 'Class 2', 'Class 3', 'Class 4']\n",
        "# Replace with your actual class names\n",
        "class_names = [str(c) for c in sorted(y_test.unique())]\n",
        "\n",
        "\n",
        "# MENGHITUNG DAN MENAMPILKAN METRIKS EVALUASI\n",
        "accuracy = accuracy_score(y_test, y_pred)\n",
        "precision = precision_score(y_test, y_pred, average='weighted') # Use 'weighted' average for multiclass\n",
        "recall = recall_score(y_test, y_pred, average='weighted') # Use 'weighted' average for multiclass\n",
        "f1 = f1_score(y_test, y_pred, average='weighted') # Use 'weighted' average for multiclass\n",
        "\n",
        "\n",
        "print(\"--- Metriks Evaluasi Lengkap ---\")\n",
        "print(f\"Akurasi : {accuracy:.4f}\")\n",
        "print(f\"Presisi : {precision:.4f}\")\n",
        "print(f\"Recall  : {recall:.4f}\")\n",
        "print(f\"F1-Score: {f1:.4f}\")\n",
        "# Removed AUC calculation as y_pred_proba is not defined for predict() output\n",
        "print(\"\\nLaporan Klasifikasi:\")\n",
        "print(classification_report(y_test, y_pred, target_names=class_names))\n",
        "\n",
        "# 10. VISUALISASI CONFUSION MATRIX\n",
        "cm = confusion_matrix(y_test, y_pred)\n",
        "plt.figure(figsize=(8, 6))\n",
        "sns.heatmap(cm, annot=True, fmt='d', cmap='Blues',\n",
        "            xticklabels=class_names, yticklabels=class_names)\n",
        "plt.title('Confusion Matrix', fontsize=16)\n",
        "plt.ylabel('Label Aktual', fontsize=12)\n",
        "plt.xlabel('Label Prediksi', fontsize=12)\n",
        "plt.tight_layout()\n",
        "plt.savefig('confusion_matrix.png')\n",
        "plt.show() # Add plt.show() to display the plot\n",
        "# plt.close() # Remove plt.close() so the plot is displayed\n",
        "\n",
        "# (Opsional) Menampilkan Koefisien Fitur (Feature Importance)\n",
        "# Koefisien ini menunjukkan seberapa besar pengaruh setiap fitur terhadap prediksi\n",
        "feature_names = X.columns\n",
        "coefficients = model.coef_[0]\n",
        "\n",
        "# Membuat DataFrame untuk visualisasi yang lebih baik\n",
        "coeff_df = pd.DataFrame({'Fitur': feature_names, 'Koefisien': coefficients})\n",
        "coeff_df = coeff_df.sort_values(by='Koefisien', ascending=False)\n",
        "\n",
        "print(\"\\n--- Pengaruh Fitur Terhadap Prediksi (Koefisien) ---\")\n",
        "print(coeff_df)"
      ],
      "metadata": {
        "colab": {
          "base_uri": "https://localhost:8080/",
          "height": 1000
        },
        "id": "pN5bVc59V3GZ",
        "outputId": "85ac7875-a7d7-47c0-c12b-5009d1513652"
      },
      "execution_count": 40,
      "outputs": [
        {
          "output_type": "stream",
          "name": "stdout",
          "text": [
            "--- Metriks Evaluasi Lengkap ---\n",
            "Akurasi : 0.9680\n",
            "Presisi : 0.9682\n",
            "Recall  : 0.9680\n",
            "F1-Score: 0.9680\n",
            "\n",
            "Laporan Klasifikasi:\n",
            "              precision    recall  f1-score   support\n",
            "\n",
            "           1       0.95      0.97      0.96       190\n",
            "           2       0.98      0.97      0.97       299\n",
            "           3       0.88      0.88      0.88         8\n",
            "           4       1.00      1.00      1.00         3\n",
            "\n",
            "    accuracy                           0.97       500\n",
            "   macro avg       0.95      0.95      0.95       500\n",
            "weighted avg       0.97      0.97      0.97       500\n",
            "\n"
          ]
        },
        {
          "output_type": "display_data",
          "data": {
            "text/plain": [
              "<Figure size 800x600 with 2 Axes>"
            ],
            "image/png": "[encoded data removed]"
          },
          "metadata": {}
        },
        {
          "output_type": "stream",
          "name": "stdout",
          "text": [
            "\n",
            "--- Pengaruh Fitur Terhadap Prediksi (Koefisien) ---\n",
            "            Fitur  Koefisien\n",
            "0              No   0.562012\n",
            "3           Waktu   0.178639\n",
            "7              DO   0.098597\n",
            "11  FecalColiform   0.023448\n",
            "13             O2   0.000000\n",
            "5            Temp   0.000000\n",
            "1      NamaSungai   0.000000\n",
            "4              pH  -0.077812\n",
            "12         Fosfat  -0.078665\n",
            "6             TSS  -0.118599\n",
            "10         Nitrat  -0.175476\n",
            "2     TitikPantau  -0.229578\n",
            "9             COD  -0.665218\n",
            "8             BOD  -3.513974\n",
            "14             IP  -9.518172\n"
          ]
        }
      ]
    },
    {
      "cell_type": "markdown",
      "source": [
        "### Penjelasan Persamaan Matematika\n",
        "\n",
        "Berikut adalah penjelasan untuk setiap konsep dan persamaan matematika yang digunakan dalam analisis ini.\n",
        "\n",
        "#### 1\\. Regresi Logistik\n",
        "\n",
        "Regresi Logistik adalah algoritma klasifikasi yang digunakan untuk memprediksi probabilitas dari suatu kejadian dengan mencocokkan data pada fungsi logit.\n",
        "\n",
        "**a. Fungsi Sigmoid (Fungsi Logistik)**\n",
        "Fungsi sigmoid adalah inti dari regresi logistik. Fungsi ini mengubah output apa pun menjadi nilai antara 0 dan 1, yang dapat diinterpretasikan sebagai probabilitas.\n",
        "\n",
        "$$\\sigma(z) = \\frac{1}{1 + e^{-z}}$$\n",
        "\n",
        "  * $\\\\sigma(z)$ adalah probabilitas hasil.\n",
        "  * $z$ adalah input ke fungsi, yang merupakan kombinasi linear dari fitur-fitur.\n",
        "  * $e$ adalah basis dari logaritma natural.\n",
        "\n",
        "**b. Persamaan Regresi Logistik**\n",
        "Persamaan regresi logistik memprediksi probabilitas bahwa suatu sampel data termasuk dalam kelas positif (dalam kasus ini, memiliki penyakit jantung).\n",
        "\n",
        "$$P(y=1 | X) = \\frac{1}{1 + e^{-(\\beta_0 + \\beta_1X_1 + \\dots + \\beta_nX_n)}}$$\n",
        "\n",
        "  * $P(y=1 | X)$ adalah probabilitas kelas target adalah 1 (memiliki penyakit jantung) datoberian fitur $X$.\n",
        "  * $\\\\beta\\_0$ adalah intercept (bias).\n",
        "  * $\\\\beta\\_1, \\\\dots, \\\\beta\\_n$ adalah koefisien (bobot) untuk setiap fitur $X\\_1, \\\\dots, X\\_n$.\n",
        "\n",
        "-----\n",
        "\n",
        "#### 2\\. Matriks Evaluasi\n",
        "\n",
        "Untuk mengevaluasi seberapa baik model klasifikasi kita bekerja, kita menggunakan beberapa metrik. Metrik-metrik ini berasal dari **Confusion Matrix**, yang membandingkan prediksi model dengan nilai aktual.\n",
        "\n",
        "  * **True Positive (TP)**: Prediksi benar bahwa pasien memiliki penyakit jantung.\n",
        "  * **True Negative (TN)**: Prediksi benar bahwa pasien tidak memiliki penyakit jantung.\n",
        "  * **False Positive (FP)**: Prediksi salah, model memprediksi ada penyakit padahal tidak ada (Error Tipe I).\n",
        "  * **False Negative (FN)**: Prediksi salah, model memprediksi tidak ada penyakit padahal ada (Error Tipe II).\n",
        "\n",
        "**a. Akurasi (Accuracy)**\n",
        "Akurasi mengukur seberapa sering model membuat prediksi yang benar. Ini adalah rasio dari prediksi yang benar (TP + TN) terhadap total semua prediksi.\n",
        "\n",
        "$$\\text{Accuracy} = \\frac{TP + TN}{TP + TN + FP + FN}$$\n",
        "\n",
        "**b. Presisi (Precision)**\n",
        "Presisi menjawab pertanyaan: \"Dari semua pasien yang kita prediksi memiliki penyakit jantung, berapa banyak yang sebenarnya benar?\" Ini penting ketika biaya dari *False Positive* tinggi.\n",
        "\n",
        "$$\\text{Precision} = \\frac{TP}{TP + FP}$$\n",
        "\n",
        "**c. Recall (Sensitivity)**\n",
        "Recall menjawab pertanyaan: \"Dari semua pasien yang sebenarnya memiliki penyakit jantung, berapa banyak yang berhasil kita prediksi?\" Ini penting ketika biaya dari *False Negative* tinggi.\n",
        "\n",
        "$$\\text{Recall} = \\frac{TP}{TP + FN}$$\n",
        "\n",
        "**d. F1-Score**\n",
        "F1-Score adalah rata-rata harmonik dari Presisi dan Recall. Metrik ini berguna ketika kita ingin mencari keseimbangan antara Presisi dan Recall.\n",
        "\n",
        "$$F1\\text{-Score} = 2 \\times \\frac{\\text{Precision} \\times \\text{Recall}}{\\text{Precision} + \\text{Recall}}$$\n",
        "\n",
        "**e. ROC Curve dan AUC**\n",
        "\n",
        "  * **ROC (Receiver Operating Characteristic) Curve**: Kurva ROC adalah plot dari **True Positive Rate (Recall)** terhadap **False Positive Rate** pada berbagai ambang batas klasifikasi.\n",
        "\n",
        "      * **True Positive Rate (TPR)**: Sama dengan Recall.\n",
        "        $$\\text{TPR} = \\frac{TP}{TP + FN}$$\n",
        "      * **False Positive Rate (FPR)**: Rasio dari kasus negatif yang salah diklasifikasikan sebagai positif.\n",
        "        $$\\text{FPR} = \\frac{FP}{FP + TN}$$\n",
        "\n",
        "  * **AUC (Area Under the Curve)**: AUC mengukur seluruh area dua dimensi di bawah kurva ROC. AUC memberikan ukuran agregat dari kinerja di semua ambang batas klasifikasi.\n",
        "\n",
        "      * **AUC = 1**: Model sempurna.\n",
        "      * **AUC = 0.5**: Model tidak lebih baik dari tebakan acak.\n",
        "      * **AUC \\< 0.5**: Model lebih buruk dari tebakan acak.\n",
        "\n",
        "Nilai **AUC sebesar 0.93** menunjukkan bahwa model ini memiliki kemampuan yang sangat baik untuk membedakan antara pasien dengan dan tanpa penyakit jantung."
      ],
      "metadata": {
        "id": "OvQG3di7M1A0"
      }
    }
  ]
}